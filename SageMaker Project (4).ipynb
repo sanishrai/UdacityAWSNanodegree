{
 "cells": [
  {
   "cell_type": "markdown",
   "metadata": {},
   "source": [
    "# Creating a Sentiment Analysis Web App\n",
    "## Using PyTorch and SageMaker\n",
    "\n",
    "_Deep Learning Nanodegree Program | Deployment_\n",
    "\n",
    "---\n",
    "\n",
    "Now that we have a basic understanding of how SageMaker works we will try to use it to construct a complete project from end to end. Our goal will be to have a simple web page which a user can use to enter a movie review. The web page will then send the review off to our deployed model which will predict the sentiment of the entered review.\n",
    "\n",
    "## Instructions\n",
    "\n",
    "Some template code has already been provided for you, and you will need to implement additional functionality to successfully complete this notebook. You will not need to modify the included code beyond what is requested. Sections that begin with '**TODO**' in the header indicate that you need to complete or implement some portion within them. Instructions will be provided for each section and the specifics of the implementation are marked in the code block with a `# TODO: ...` comment. Please be sure to read the instructions carefully!\n",
    "\n",
    "In addition to implementing code, there will be questions for you to answer which relate to the task and your implementation. Each section where you will answer a question is preceded by a '**Question:**' header. Carefully read each question and provide your answer below the '**Answer:**' header by editing the Markdown cell.\n",
    "\n",
    "> **Note**: Code and Markdown cells can be executed using the **Shift+Enter** keyboard shortcut. In addition, a cell can be edited by typically clicking it (double-click for Markdown cells) or by pressing **Enter** while it is highlighted.\n",
    "\n",
    "## General Outline\n",
    "\n",
    "Recall the general outline for SageMaker projects using a notebook instance.\n",
    "\n",
    "1. Download or otherwise retrieve the data.\n",
    "2. Process / Prepare the data.\n",
    "3. Upload the processed data to S3.\n",
    "4. Train a chosen model.\n",
    "5. Test the trained model (typically using a batch transform job).\n",
    "6. Deploy the trained model.\n",
    "7. Use the deployed model.\n",
    "\n",
    "For this project, you will be following the steps in the general outline with some modifications. \n",
    "\n",
    "First, you will not be testing the model in its own step. You will still be testing the model, however, you will do it by deploying your model and then using the deployed model by sending the test data to it. One of the reasons for doing this is so that you can make sure that your deployed model is working correctly before moving forward.\n",
    "\n",
    "In addition, you will deploy and use your trained model a second time. In the second iteration you will customize the way that your trained model is deployed by including some of your own code. In addition, your newly deployed model will be used in the sentiment analysis web app."
   ]
  },
  {
   "cell_type": "markdown",
   "metadata": {},
   "source": [
    "## Step 1: Downloading the data\n",
    "\n",
    "As in the XGBoost in SageMaker notebook, we will be using the [IMDb dataset](http://ai.stanford.edu/~amaas/data/sentiment/)\n",
    "\n",
    "> Maas, Andrew L., et al. [Learning Word Vectors for Sentiment Analysis](http://ai.stanford.edu/~amaas/data/sentiment/). In _Proceedings of the 49th Annual Meeting of the Association for Computational Linguistics: Human Language Technologies_. Association for Computational Linguistics, 2011."
   ]
  },
  {
   "cell_type": "code",
   "execution_count": 1,
   "metadata": {},
   "outputs": [
    {
     "name": "stdout",
     "output_type": "stream",
     "text": [
      "--2020-09-08 20:07:12--  http://ai.stanford.edu/~amaas/data/sentiment/aclImdb_v1.tar.gz\n",
      "Resolving ai.stanford.edu (ai.stanford.edu)... 171.64.68.10\n",
      "Connecting to ai.stanford.edu (ai.stanford.edu)|171.64.68.10|:80... connected.\n",
      "HTTP request sent, awaiting response... 200 OK\n",
      "Length: 84125825 (80M) [application/x-gzip]\n",
      "Saving to: ‘../data/aclImdb_v1.tar.gz’\n",
      "\n",
      "../data/aclImdb_v1. 100%[===================>]  80.23M  24.2MB/s    in 4.4s    \n",
      "\n",
      "2020-09-08 20:07:17 (18.3 MB/s) - ‘../data/aclImdb_v1.tar.gz’ saved [84125825/84125825]\n",
      "\n"
     ]
    }
   ],
   "source": [
    "%mkdir ../data\n",
    "!wget -O ../data/aclImdb_v1.tar.gz http://ai.stanford.edu/~amaas/data/sentiment/aclImdb_v1.tar.gz\n",
    "!tar -zxf ../data/aclImdb_v1.tar.gz -C ../data"
   ]
  },
  {
   "cell_type": "markdown",
   "metadata": {},
   "source": [
    "## Step 2: Preparing and Processing the data\n",
    "\n",
    "Also, as in the XGBoost notebook, we will be doing some initial data processing. The first few steps are the same as in the XGBoost example. To begin with, we will read in each of the reviews and combine them into a single input structure. Then, we will split the dataset into a training set and a testing set."
   ]
  },
  {
   "cell_type": "code",
   "execution_count": 2,
   "metadata": {},
   "outputs": [],
   "source": [
    "import os\n",
    "import glob\n",
    "\n",
    "def read_imdb_data(data_dir='../data/aclImdb'):\n",
    "    data = {}\n",
    "    labels = {}\n",
    "    \n",
    "    for data_type in ['train', 'test']:\n",
    "        data[data_type] = {}\n",
    "        labels[data_type] = {}\n",
    "        \n",
    "        for sentiment in ['pos', 'neg']:\n",
    "            data[data_type][sentiment] = []\n",
    "            labels[data_type][sentiment] = []\n",
    "            \n",
    "            path = os.path.join(data_dir, data_type, sentiment, '*.txt')\n",
    "            files = glob.glob(path)\n",
    "            \n",
    "            for f in files:\n",
    "                with open(f) as review:\n",
    "                    data[data_type][sentiment].append(review.read())\n",
    "                    # Here we represent a positive review by '1' and a negative review by '0'\n",
    "                    labels[data_type][sentiment].append(1 if sentiment == 'pos' else 0)\n",
    "                    \n",
    "            assert len(data[data_type][sentiment]) == len(labels[data_type][sentiment]), \\\n",
    "                    \"{}/{} data size does not match labels size\".format(data_type, sentiment)\n",
    "                \n",
    "    return data, labels"
   ]
  },
  {
   "cell_type": "code",
   "execution_count": 3,
   "metadata": {},
   "outputs": [
    {
     "name": "stdout",
     "output_type": "stream",
     "text": [
      "IMDB reviews: train = 12500 pos / 12500 neg, test = 12500 pos / 12500 neg\n"
     ]
    }
   ],
   "source": [
    "data, labels = read_imdb_data()\n",
    "print(\"IMDB reviews: train = {} pos / {} neg, test = {} pos / {} neg\".format(\n",
    "            len(data['train']['pos']), len(data['train']['neg']),\n",
    "            len(data['test']['pos']), len(data['test']['neg'])))"
   ]
  },
  {
   "cell_type": "markdown",
   "metadata": {},
   "source": [
    "Now that we've read the raw training and testing data from the downloaded dataset, we will combine the positive and negative reviews and shuffle the resulting records."
   ]
  },
  {
   "cell_type": "code",
   "execution_count": 4,
   "metadata": {},
   "outputs": [],
   "source": [
    "from sklearn.utils import shuffle\n",
    "\n",
    "def prepare_imdb_data(data, labels):\n",
    "    \"\"\"Prepare training and test sets from IMDb movie reviews.\"\"\"\n",
    "    \n",
    "    #Combine positive and negative reviews and labels\n",
    "    data_train = data['train']['pos'] + data['train']['neg']\n",
    "    data_test = data['test']['pos'] + data['test']['neg']\n",
    "    labels_train = labels['train']['pos'] + labels['train']['neg']\n",
    "    labels_test = labels['test']['pos'] + labels['test']['neg']\n",
    "    \n",
    "    #Shuffle reviews and corresponding labels within training and test sets\n",
    "    data_train, labels_train = shuffle(data_train, labels_train)\n",
    "    data_test, labels_test = shuffle(data_test, labels_test)\n",
    "    \n",
    "    # Return a unified training data, test data, training labels, test labets\n",
    "    return data_train, data_test, labels_train, labels_test"
   ]
  },
  {
   "cell_type": "code",
   "execution_count": 5,
   "metadata": {},
   "outputs": [
    {
     "name": "stdout",
     "output_type": "stream",
     "text": [
      "IMDb reviews (combined): train = 25000, test = 25000\n"
     ]
    }
   ],
   "source": [
    "train_X, test_X, train_y, test_y = prepare_imdb_data(data, labels)\n",
    "print(\"IMDb reviews (combined): train = {}, test = {}\".format(len(train_X), len(test_X)))"
   ]
  },
  {
   "cell_type": "markdown",
   "metadata": {},
   "source": [
    "Now that we have our training and testing sets unified and prepared, we should do a quick check and see an example of the data our model will be trained on. This is generally a good idea as it allows you to see how each of the further processing steps affects the reviews and it also ensures that the data has been loaded correctly."
   ]
  },
  {
   "cell_type": "code",
   "execution_count": 6,
   "metadata": {},
   "outputs": [
    {
     "name": "stdout",
     "output_type": "stream",
     "text": [
      "THIS IS NOT A CHILDREN'S MOVIE!!!<br /><br />This movie is like a \"bad acid trip\" for kids under the age of 5. For a month my 4 year old from time-to-time would ask me \"Why was that rabbit bleeding from its mouth\" or \"Why did the bulldozer bury all the rabbits?\". (And that wasn't the worst of it). We stopped it about a 1/2 hour in but the damage had been done. Intensely morbid, oppressive, violent. Fortunately he's finally forgotten about the whole wretched thing. Whomever decided this movie should be marketed to children should be brought up on charges. ... (Go ahead censure me, my conscience is clear.).\n",
      "0\n"
     ]
    }
   ],
   "source": [
    "print(train_X[100])\n",
    "print(train_y[100])"
   ]
  },
  {
   "cell_type": "markdown",
   "metadata": {},
   "source": [
    "The first step in processing the reviews is to make sure that any html tags that appear should be removed. In addition we wish to tokenize our input, that way words such as *entertained* and *entertaining* are considered the same with regard to sentiment analysis."
   ]
  },
  {
   "cell_type": "code",
   "execution_count": 7,
   "metadata": {},
   "outputs": [],
   "source": [
    "import nltk\n",
    "from nltk.corpus import stopwords\n",
    "from nltk.stem.porter import *\n",
    "\n",
    "import re\n",
    "from bs4 import BeautifulSoup\n",
    "\n",
    "def review_to_words(review):\n",
    "    nltk.download(\"stopwords\", quiet=True)\n",
    "    stemmer = PorterStemmer()\n",
    "    \n",
    "    text = BeautifulSoup(review, \"html.parser\").get_text() # Remove HTML tags\n",
    "    text = re.sub(r\"[^a-zA-Z0-9]\", \" \", text.lower()) # Convert to lower case\n",
    "    words = text.split() # Split string into words\n",
    "    words = [w for w in words if w not in stopwords.words(\"english\")] # Remove stopwords\n",
    "    words = [PorterStemmer().stem(w) for w in words] # stem\n",
    "    \n",
    "    return words"
   ]
  },
  {
   "cell_type": "markdown",
   "metadata": {},
   "source": [
    "The `review_to_words` method defined above uses `BeautifulSoup` to remove any html tags that appear and uses the `nltk` package to tokenize the reviews. As a check to ensure we know how everything is working, try applying `review_to_words` to one of the reviews in the training set."
   ]
  },
  {
   "cell_type": "code",
   "execution_count": 8,
   "metadata": {},
   "outputs": [
    {
     "name": "stdout",
     "output_type": "stream",
     "text": [
      "['children', 'movi', 'movi', 'like', 'bad', 'acid', 'trip', 'kid', 'age', '5', 'month', '4', 'year', 'old', 'time', 'time', 'would', 'ask', 'rabbit', 'bleed', 'mouth', 'bulldoz', 'buri', 'rabbit', 'worst', 'stop', '1', '2', 'hour', 'damag', 'done', 'intens', 'morbid', 'oppress', 'violent', 'fortun', 'final', 'forgotten', 'whole', 'wretch', 'thing', 'whomev', 'decid', 'movi', 'market', 'children', 'brought', 'charg', 'go', 'ahead', 'censur', 'conscienc', 'clear']\n"
     ]
    }
   ],
   "source": [
    "# TODO: Apply review_to_words to a review (train_X[100] or any other review)\n",
    "print(review_to_words(train_X[100]))"
   ]
  },
  {
   "cell_type": "markdown",
   "metadata": {},
   "source": [
    "**Question:** Above we mentioned that `review_to_words` method removes html formatting and allows us to tokenize the words found in a review, for example, converting *entertained* and *entertaining* into *entertain* so that they are treated as though they are the same word. What else, if anything, does this method do to the input?"
   ]
  },
  {
   "cell_type": "markdown",
   "metadata": {},
   "source": [
    "**Answer:**\n",
    "Removes the stopwords such as \"the\",\"a\",\"and\" etc.\n",
    "Converts all tokenized words to lower case\n"
   ]
  },
  {
   "cell_type": "markdown",
   "metadata": {},
   "source": [
    "The method below applies the `review_to_words` method to each of the reviews in the training and testing datasets. In addition it caches the results. This is because performing this processing step can take a long time. This way if you are unable to complete the notebook in the current session, you can come back without needing to process the data a second time."
   ]
  },
  {
   "cell_type": "code",
   "execution_count": 9,
   "metadata": {},
   "outputs": [],
   "source": [
    "import pickle\n",
    "\n",
    "cache_dir = os.path.join(\"../cache\", \"sentiment_analysis\")  # where to store cache files\n",
    "os.makedirs(cache_dir, exist_ok=True)  # ensure cache directory exists\n",
    "\n",
    "def preprocess_data(data_train, data_test, labels_train, labels_test,\n",
    "                    cache_dir=cache_dir, cache_file=\"preprocessed_data.pkl\"):\n",
    "    \"\"\"Convert each review to words; read from cache if available.\"\"\"\n",
    "\n",
    "    # If cache_file is not None, try to read from it first\n",
    "    cache_data = None\n",
    "    if cache_file is not None:\n",
    "        try:\n",
    "            with open(os.path.join(cache_dir, cache_file), \"rb\") as f:\n",
    "                cache_data = pickle.load(f)\n",
    "            print(\"Read preprocessed data from cache file:\", cache_file)\n",
    "        except:\n",
    "            pass  # unable to read from cache, but that's okay\n",
    "    \n",
    "    # If cache is missing, then do the heavy lifting\n",
    "    if cache_data is None:\n",
    "        # Preprocess training and test data to obtain words for each review\n",
    "        #words_train = list(map(review_to_words, data_train))\n",
    "        #words_test = list(map(review_to_words, data_test))\n",
    "        words_train = [review_to_words(review) for review in data_train]\n",
    "        words_test = [review_to_words(review) for review in data_test]\n",
    "        \n",
    "        # Write to cache file for future runs\n",
    "        if cache_file is not None:\n",
    "            cache_data = dict(words_train=words_train, words_test=words_test,\n",
    "                              labels_train=labels_train, labels_test=labels_test)\n",
    "            with open(os.path.join(cache_dir, cache_file), \"wb\") as f:\n",
    "                pickle.dump(cache_data, f)\n",
    "            print(\"Wrote preprocessed data to cache file:\", cache_file)\n",
    "    else:\n",
    "        # Unpack data loaded from cache file\n",
    "        words_train, words_test, labels_train, labels_test = (cache_data['words_train'],\n",
    "                cache_data['words_test'], cache_data['labels_train'], cache_data['labels_test'])\n",
    "    \n",
    "    return words_train, words_test, labels_train, labels_test"
   ]
  },
  {
   "cell_type": "code",
   "execution_count": 24,
   "metadata": {},
   "outputs": [
    {
     "name": "stdout",
     "output_type": "stream",
     "text": [
      "Read preprocessed data from cache file: preprocessed_data.pkl\n"
     ]
    }
   ],
   "source": [
    "# Preprocess data\n",
    "train_X, test_X, train_y, test_y = preprocess_data(train_X, test_X, train_y, test_y)"
   ]
  },
  {
   "cell_type": "markdown",
   "metadata": {},
   "source": [
    "## Transform the data\n",
    "\n",
    "In the XGBoost notebook we transformed the data from its word representation to a bag-of-words feature representation. For the model we are going to construct in this notebook we will construct a feature representation which is very similar. To start, we will represent each word as an integer. Of course, some of the words that appear in the reviews occur very infrequently and so likely don't contain much information for the purposes of sentiment analysis. The way we will deal with this problem is that we will fix the size of our working vocabulary and we will only include the words that appear most frequently. We will then combine all of the infrequent words into a single category and, in our case, we will label it as `1`.\n",
    "\n",
    "Since we will be using a recurrent neural network, it will be convenient if the length of each review is the same. To do this, we will fix a size for our reviews and then pad short reviews with the category 'no word' (which we will label `0`) and truncate long reviews."
   ]
  },
  {
   "cell_type": "markdown",
   "metadata": {},
   "source": [
    "### (TODO) Create a word dictionary\n",
    "\n",
    "To begin with, we need to construct a way to map words that appear in the reviews to integers. Here we fix the size of our vocabulary (including the 'no word' and 'infrequent' categories) to be `5000` but you may wish to change this to see how it affects the model.\n",
    "\n",
    "> **TODO:** Complete the implementation for the `build_dict()` method below. Note that even though the vocab_size is set to `5000`, we only want to construct a mapping for the most frequently appearing `4998` words. This is because we want to reserve the special labels `0` for 'no word' and `1` for 'infrequent word'."
   ]
  },
  {
   "cell_type": "code",
   "execution_count": 25,
   "metadata": {},
   "outputs": [],
   "source": [
    "import numpy as np\n",
    "\n",
    "def build_dict(data, vocab_size = 5000):\n",
    "    \"\"\"Construct and return a dictionary mapping each of the most frequently appearing words to a unique integer.\"\"\"\n",
    "    \n",
    "    # TODO: Determine how often each word appears in `data`. Note that `data` is a list of sentences and that a\n",
    "    #       sentence is a list of words.\n",
    "    \n",
    "    word_count = {} # A dict storing the words that appear in the reviews along with how often they occur\n",
    "    #simple nested for loop, could be improved probably\n",
    "    for each_list in data:\n",
    "        for word in each_list:\n",
    "            if word in word_count:\n",
    "                word_count[word] +=1\n",
    "            else:\n",
    "                word_count[word]=1\n",
    "    \n",
    "    # TODO: Sort the words found in `data` so that sorted_words[0] is the most frequently appearing word and\n",
    "    #       sorted_words[-1] is the least frequently appearing word.\n",
    "    #using sorted to sort the dictionary with the help of a lambda function\n",
    "    sorted_dict = sorted(word_count.items(), key= lambda kv:(kv[1]), reverse=True)\n",
    "    #print(sorted_dict)\n",
    "    #get only the key\n",
    "    sorted_words = [key for key,val in sorted_dict ]\n",
    "    #print(sorted_words)\n",
    "    \n",
    "    word_dict = {} # This is what we are building, a dictionary that translates words into integers\n",
    "    for idx, word in enumerate(sorted_words[:vocab_size - 2]): # The -2 is so that we save room for the 'no word'\n",
    "         word_dict[word] = idx + 2                              # 'infrequent' labels\n",
    "        \n",
    "    return word_dict"
   ]
  },
  {
   "cell_type": "code",
   "execution_count": 26,
   "metadata": {},
   "outputs": [],
   "source": [
    "word_dict = build_dict(train_X)\n"
   ]
  },
  {
   "cell_type": "markdown",
   "metadata": {},
   "source": [
    "**Question:** What are the five most frequently appearing (tokenized) words in the training set? Does it makes sense that these words appear frequently in the training set?"
   ]
  },
  {
   "cell_type": "markdown",
   "metadata": {},
   "source": [
    "**Answer:**\n",
    "movi, film, one, like, time\n",
    "Yes makes sense as they are related to movie terms"
   ]
  },
  {
   "cell_type": "code",
   "execution_count": 27,
   "metadata": {},
   "outputs": [
    {
     "name": "stdout",
     "output_type": "stream",
     "text": [
      "{'movi': 2, 'film': 3, 'one': 4, 'like': 5, 'time': 6, 'good': 7, 'make': 8, 'charact': 9, 'get': 10, 'see': 11, 'watch': 12, 'stori': 13, 'even': 14, 'would': 15, 'realli': 16, 'well': 17, 'scene': 18, 'look': 19, 'show': 20, 'much': 21, 'end': 22, 'peopl': 23, 'bad': 24, 'go': 25, 'great': 26, 'also': 27, 'first': 28, 'love': 29, 'think': 30, 'way': 31, 'act': 32, 'play': 33, 'made': 34, 'thing': 35, 'could': 36, 'know': 37, 'say': 38, 'seem': 39, 'work': 40, 'plot': 41, 'two': 42, 'actor': 43, 'year': 44, 'come': 45, 'mani': 46, 'seen': 47, 'take': 48, 'life': 49, 'want': 50, 'never': 51, 'littl': 52, 'best': 53, 'tri': 54, 'man': 55, 'ever': 56, 'give': 57, 'better': 58, 'still': 59, 'perform': 60, 'find': 61, 'feel': 62, 'part': 63, 'back': 64, 'use': 65, 'someth': 66, 'director': 67, 'actual': 68, 'interest': 69, 'lot': 70, 'real': 71, 'old': 72, 'cast': 73, 'though': 74, 'live': 75, 'star': 76, 'enjoy': 77, 'guy': 78, 'anoth': 79, 'new': 80, 'role': 81, 'noth': 82, '10': 83, 'funni': 84, 'music': 85, 'point': 86, 'start': 87, 'set': 88, 'girl': 89, 'origin': 90, 'day': 91, 'world': 92, 'everi': 93, 'believ': 94, 'turn': 95, 'quit': 96, 'us': 97, 'direct': 98, 'thought': 99, 'fact': 100, 'minut': 101, 'horror': 102, 'kill': 103, 'action': 104, 'comedi': 105, 'pretti': 106, 'young': 107, 'wonder': 108, 'happen': 109, 'around': 110, 'got': 111, 'effect': 112, 'right': 113, 'long': 114, 'howev': 115, 'big': 116, 'line': 117, 'famili': 118, 'enough': 119, 'seri': 120, 'may': 121, 'need': 122, 'fan': 123, 'bit': 124, 'script': 125, 'beauti': 126, 'person': 127, 'becom': 128, 'without': 129, 'must': 130, 'alway': 131, 'friend': 132, 'tell': 133, 'reason': 134, 'saw': 135, 'last': 136, 'final': 137, 'kid': 138, 'almost': 139, 'put': 140, 'least': 141, 'sure': 142, 'done': 143, 'whole': 144, 'place': 145, 'complet': 146, 'kind': 147, 'differ': 148, 'expect': 149, 'shot': 150, 'far': 151, 'mean': 152, 'anyth': 153, 'book': 154, 'laugh': 155, 'might': 156, 'name': 157, 'sinc': 158, 'begin': 159, '2': 160, 'probabl': 161, 'woman': 162, 'help': 163, 'entertain': 164, 'let': 165, 'screen': 166, 'call': 167, 'tv': 168, 'moment': 169, 'away': 170, 'read': 171, 'yet': 172, 'rather': 173, 'worst': 174, 'run': 175, 'fun': 176, 'lead': 177, 'hard': 178, 'audienc': 179, 'idea': 180, 'anyon': 181, 'episod': 182, 'american': 183, 'found': 184, 'appear': 185, 'bore': 186, 'especi': 187, 'although': 188, 'hope': 189, 'cours': 190, 'keep': 191, 'anim': 192, 'job': 193, 'goe': 194, 'move': 195, 'sens': 196, 'dvd': 197, 'version': 198, 'war': 199, 'money': 200, 'someon': 201, 'mind': 202, 'mayb': 203, 'problem': 204, 'true': 205, 'hous': 206, 'everyth': 207, 'nice': 208, 'second': 209, 'rate': 210, 'three': 211, 'night': 212, 'follow': 213, 'face': 214, 'recommend': 215, 'main': 216, 'product': 217, 'worth': 218, 'leav': 219, 'human': 220, 'special': 221, 'excel': 222, 'togeth': 223, 'wast': 224, 'sound': 225, 'everyon': 226, 'john': 227, 'hand': 228, '1': 229, 'father': 230, 'later': 231, 'eye': 232, 'said': 233, 'view': 234, 'instead': 235, 'review': 236, 'boy': 237, 'high': 238, 'hour': 239, 'miss': 240, 'talk': 241, 'classic': 242, 'wife': 243, 'understand': 244, 'left': 245, 'care': 246, 'black': 247, 'death': 248, 'open': 249, 'murder': 250, 'write': 251, 'half': 252, 'head': 253, 'rememb': 254, 'chang': 255, 'viewer': 256, 'fight': 257, 'gener': 258, 'surpris': 259, 'short': 260, 'includ': 261, 'die': 262, 'fall': 263, 'less': 264, 'els': 265, 'entir': 266, 'piec': 267, 'involv': 268, 'pictur': 269, 'simpli': 270, 'power': 271, 'top': 272, 'home': 273, 'total': 274, 'usual': 275, 'budget': 276, 'attempt': 277, 'suppos': 278, 'releas': 279, 'hollywood': 280, 'terribl': 281, 'song': 282, 'men': 283, 'possibl': 284, 'featur': 285, 'portray': 286, 'disappoint': 287, 'poor': 288, '3': 289, 'coupl': 290, 'camera': 291, 'stupid': 292, 'dead': 293, 'wrong': 294, 'low': 295, 'produc': 296, 'video': 297, 'either': 298, 'aw': 299, 'definit': 300, 'except': 301, 'rest': 302, 'given': 303, 'absolut': 304, 'women': 305, 'lack': 306, 'word': 307, 'writer': 308, 'titl': 309, 'talent': 310, 'decid': 311, 'full': 312, 'perfect': 313, 'along': 314, 'style': 315, 'close': 316, 'truli': 317, 'school': 318, 'emot': 319, 'save': 320, 'sex': 321, 'age': 322, 'next': 323, 'bring': 324, 'mr': 325, 'case': 326, 'killer': 327, 'heart': 328, 'comment': 329, 'sort': 330, 'creat': 331, 'perhap': 332, 'came': 333, 'brother': 334, 'sever': 335, 'joke': 336, 'art': 337, 'dialogu': 338, 'game': 339, 'small': 340, 'base': 341, 'flick': 342, 'written': 343, 'sequenc': 344, 'meet': 345, 'earli': 346, 'often': 347, 'other': 348, 'mother': 349, 'develop': 350, 'humor': 351, 'actress': 352, 'consid': 353, 'dark': 354, 'guess': 355, 'amaz': 356, 'unfortun': 357, 'light': 358, 'lost': 359, 'exampl': 360, 'cinema': 361, 'drama': 362, 'ye': 363, 'white': 364, 'experi': 365, 'imagin': 366, 'mention': 367, 'stop': 368, 'natur': 369, 'forc': 370, 'manag': 371, 'felt': 372, 'present': 373, 'cut': 374, 'children': 375, 'fail': 376, 'son': 377, 'support': 378, 'qualiti': 379, 'car': 380, 'ask': 381, 'hit': 382, 'side': 383, 'voic': 384, 'extrem': 385, 'impress': 386, 'wors': 387, 'evil': 388, 'stand': 389, 'went': 390, 'certainli': 391, 'basic': 392, 'oh': 393, 'overal': 394, 'favorit': 395, 'horribl': 396, 'mysteri': 397, 'number': 398, 'type': 399, 'danc': 400, 'wait': 401, 'hero': 402, '5': 403, 'alreadi': 404, 'learn': 405, 'matter': 406, '4': 407, 'michael': 408, 'genr': 409, 'fine': 410, 'despit': 411, 'throughout': 412, 'walk': 413, 'success': 414, 'histori': 415, 'question': 416, 'zombi': 417, 'town': 418, 'realiz': 419, 'relationship': 420, 'past': 421, 'child': 422, 'daughter': 423, 'late': 424, 'b': 425, 'wish': 426, 'hate': 427, 'credit': 428, 'event': 429, 'theme': 430, 'touch': 431, 'citi': 432, 'today': 433, 'sometim': 434, 'behind': 435, 'god': 436, 'twist': 437, 'sit': 438, 'deal': 439, 'stay': 440, 'annoy': 441, 'abl': 442, 'rent': 443, 'pleas': 444, 'edit': 445, 'blood': 446, 'deserv': 447, 'anyway': 448, 'comic': 449, 'appar': 450, 'soon': 451, 'gave': 452, 'etc': 453, 'level': 454, 'slow': 455, 'chanc': 456, 'score': 457, 'bodi': 458, 'brilliant': 459, 'incred': 460, 'figur': 461, 'situat': 462, 'major': 463, 'self': 464, 'stuff': 465, 'decent': 466, 'element': 467, 'return': 468, 'dream': 469, 'obvious': 470, 'continu': 471, 'order': 472, 'pace': 473, 'ridicul': 474, 'happi': 475, 'add': 476, 'highli': 477, 'group': 478, 'thank': 479, 'ladi': 480, 'novel': 481, 'pain': 482, 'speak': 483, 'career': 484, 'shoot': 485, 'strang': 486, 'heard': 487, 'sad': 488, 'polic': 489, 'husband': 490, 'import': 491, 'break': 492, 'took': 493, 'strong': 494, 'cannot': 495, 'predict': 496, 'robert': 497, 'violenc': 498, 'hilari': 499, 'recent': 500, 'countri': 501, 'known': 502, 'particularli': 503, 'pick': 504, 'documentari': 505, 'season': 506, 'critic': 507, 'jame': 508, 'compar': 509, 'alon': 510, 'obviou': 511, 'told': 512, 'state': 513, 'visual': 514, 'rock': 515, 'exist': 516, 'offer': 517, 'theater': 518, 'opinion': 519, 'gore': 520, 'hold': 521, 'crap': 522, 'result': 523, 'hear': 524, 'room': 525, 'realiti': 526, 'effort': 527, 'clich': 528, 'thriller': 529, 'caus': 530, 'explain': 531, 'serious': 532, 'sequel': 533, 'king': 534, 'local': 535, 'ago': 536, 'none': 537, 'hell': 538, 'note': 539, 'allow': 540, 'sister': 541, 'david': 542, 'simpl': 543, 'femal': 544, 'deliv': 545, 'ok': 546, 'convinc': 547, 'class': 548, 'check': 549, 'suspens': 550, 'win': 551, 'oscar': 552, 'buy': 553, 'huge': 554, 'valu': 555, 'sexual': 556, 'scari': 557, 'cool': 558, 'excit': 559, 'similar': 560, 'exactli': 561, 'apart': 562, 'provid': 563, 'avoid': 564, 'shown': 565, 'seriou': 566, 'english': 567, 'taken': 568, 'whose': 569, 'cinematographi': 570, 'shock': 571, 'polit': 572, 'spoiler': 573, 'offic': 574, 'across': 575, 'middl': 576, 'pass': 577, 'street': 578, 'messag': 579, 'silli': 580, 'somewhat': 581, 'charm': 582, 'modern': 583, 'filmmak': 584, 'confus': 585, 'form': 586, 'tale': 587, 'singl': 588, 'jack': 589, 'mostli': 590, 'attent': 591, 'carri': 592, 'william': 593, 'sing': 594, 'five': 595, 'subject': 596, 'prove': 597, 'richard': 598, 'team': 599, 'stage': 600, 'unlik': 601, 'cop': 602, 'georg': 603, 'monster': 604, 'televis': 605, 'earth': 606, 'cover': 607, 'villain': 608, 'pay': 609, 'marri': 610, 'toward': 611, 'build': 612, 'pull': 613, 'parent': 614, 'due': 615, 'fill': 616, 'respect': 617, 'four': 618, 'dialog': 619, 'remind': 620, 'futur': 621, 'typic': 622, 'weak': 623, '7': 624, 'cheap': 625, 'intellig': 626, 'atmospher': 627, 'british': 628, '80': 629, 'clearli': 630, 'non': 631, 'dog': 632, 'paul': 633, 'fast': 634, '8': 635, 'knew': 636, 'artist': 637, 'crime': 638, 'easili': 639, 'escap': 640, 'doubt': 641, 'adult': 642, 'detail': 643, 'date': 644, 'fire': 645, 'member': 646, 'romant': 647, 'drive': 648, 'gun': 649, 'straight': 650, 'beyond': 651, 'fit': 652, 'attack': 653, 'imag': 654, 'upon': 655, 'posit': 656, 'whether': 657, 'fantast': 658, 'peter': 659, 'aspect': 660, 'captur': 661, 'appreci': 662, 'ten': 663, 'plan': 664, 'discov': 665, 'remain': 666, 'near': 667, 'period': 668, 'air': 669, 'realist': 670, 'mark': 671, 'red': 672, 'dull': 673, 'adapt': 674, 'within': 675, 'spend': 676, 'lose': 677, 'color': 678, 'materi': 679, 'chase': 680, 'mari': 681, 'storylin': 682, 'forget': 683, 'bunch': 684, 'clear': 685, 'lee': 686, 'victim': 687, 'nearli': 688, 'box': 689, 'york': 690, 'inspir': 691, 'match': 692, 'finish': 693, 'mess': 694, 'standard': 695, 'easi': 696, 'truth': 697, 'busi': 698, 'suffer': 699, 'space': 700, 'dramat': 701, 'bill': 702, 'western': 703, 'e': 704, 'list': 705, 'battl': 706, 'notic': 707, 'de': 708, 'french': 709, 'ad': 710, '9': 711, 'tom': 712, 'larg': 713, 'among': 714, 'eventu': 715, 'accept': 716, 'train': 717, 'agre': 718, 'soundtrack': 719, 'spirit': 720, 'third': 721, 'teenag': 722, 'adventur': 723, 'soldier': 724, 'sorri': 725, 'drug': 726, 'suggest': 727, 'famou': 728, 'normal': 729, 'cri': 730, 'babi': 731, 'ultim': 732, 'troubl': 733, 'contain': 734, 'certain': 735, 'cultur': 736, 'romanc': 737, 'rare': 738, 'lame': 739, 'somehow': 740, 'disney': 741, 'mix': 742, 'gone': 743, 'cartoon': 744, 'student': 745, 'reveal': 746, 'fear': 747, 'suck': 748, 'kept': 749, 'attract': 750, 'appeal': 751, 'premis': 752, 'design': 753, 'secret': 754, 'greatest': 755, 'shame': 756, 'throw': 757, 'scare': 758, 'copi': 759, 'wit': 760, 'admit': 761, 'america': 762, 'particular': 763, 'relat': 764, 'brought': 765, 'screenplay': 766, 'whatev': 767, 'pure': 768, '70': 769, 'harri': 770, 'averag': 771, 'master': 772, 'describ': 773, 'male': 774, 'treat': 775, '20': 776, 'fantasi': 777, 'issu': 778, 'warn': 779, 'inde': 780, 'forward': 781, 'background': 782, 'project': 783, 'free': 784, 'japanes': 785, 'memor': 786, 'poorli': 787, 'award': 788, 'locat': 789, 'potenti': 790, 'amus': 791, 'struggl': 792, 'magic': 793, 'weird': 794, 'societi': 795, 'okay': 796, 'doctor': 797, 'imdb': 798, 'accent': 799, 'hot': 800, 'water': 801, 'alien': 802, 'express': 803, 'dr': 804, '30': 805, 'odd': 806, 'choic': 807, 'crazi': 808, 'studio': 809, 'fiction': 810, 'control': 811, 'becam': 812, 'masterpiec': 813, 'fli': 814, 'difficult': 815, 'joe': 816, 'scream': 817, 'costum': 818, 'lover': 819, 'refer': 820, 'uniqu': 821, 'remak': 822, 'vampir': 823, 'girlfriend': 824, 'prison': 825, 'execut': 826, 'wear': 827, 'jump': 828, 'wood': 829, 'unless': 830, 'creepi': 831, 'cheesi': 832, 'superb': 833, 'otherwis': 834, 'parti': 835, 'roll': 836, 'ghost': 837, 'public': 838, 'mad': 839, 'depict': 840, 'week': 841, 'earlier': 842, 'moral': 843, 'badli': 844, 'jane': 845, 'dumb': 846, 'fi': 847, 'flaw': 848, 'grow': 849, 'deep': 850, 'sci': 851, 'cat': 852, 'maker': 853, 'connect': 854, 'footag': 855, 'older': 856, 'bother': 857, 'plenti': 858, 'outsid': 859, 'stick': 860, 'gay': 861, 'catch': 862, 'co': 863, 'plu': 864, 'popular': 865, 'equal': 866, 'social': 867, 'disturb': 868, 'quickli': 869, 'perfectli': 870, 'dress': 871, 'era': 872, '90': 873, 'mistak': 874, 'lie': 875, 'ride': 876, 'previou': 877, 'combin': 878, 'concept': 879, 'band': 880, 'answer': 881, 'surviv': 882, 'rich': 883, 'front': 884, 'sweet': 885, 'christma': 886, 'insid': 887, 'bare': 888, 'eat': 889, 'concern': 890, 'listen': 891, 'ben': 892, 'beat': 893, 'c': 894, 'term': 895, 'serv': 896, 'meant': 897, 'la': 898, 'german': 899, 'stereotyp': 900, 'hardli': 901, 'law': 902, 'innoc': 903, 'desper': 904, 'memori': 905, 'promis': 906, 'intent': 907, 'cute': 908, 'inform': 909, 'steal': 910, 'variou': 911, 'brain': 912, 'post': 913, 'tone': 914, 'island': 915, 'amount': 916, 'compani': 917, 'nuditi': 918, 'track': 919, 'claim': 920, 'store': 921, 'hair': 922, '50': 923, 'flat': 924, 'land': 925, 'univers': 926, 'fairli': 927, 'danger': 928, 'kick': 929, 'scott': 930, 'player': 931, 'crew': 932, 'step': 933, 'plain': 934, 'toni': 935, 'share': 936, 'tast': 937, 'centuri': 938, 'achiev': 939, 'engag': 940, 'travel': 941, 'cold': 942, 'rip': 943, 'record': 944, 'suit': 945, 'manner': 946, 'sadli': 947, 'spot': 948, 'wrote': 949, 'tension': 950, 'intens': 951, 'fascin': 952, 'familiar': 953, 'depth': 954, 'remark': 955, 'burn': 956, 'histor': 957, 'destroy': 958, 'sleep': 959, 'purpos': 960, 'languag': 961, 'ruin': 962, 'ignor': 963, 'delight': 964, 'unbeliev': 965, 'italian': 966, 'soul': 967, 'collect': 968, 'abil': 969, 'clever': 970, 'detect': 971, 'violent': 972, 'rape': 973, 'reach': 974, 'door': 975, 'liter': 976, 'trash': 977, 'scienc': 978, 'commun': 979, 'caught': 980, 'reveng': 981, 'creatur': 982, 'trip': 983, 'approach': 984, 'intrigu': 985, 'fashion': 986, 'skill': 987, 'introduc': 988, 'paint': 989, 'complex': 990, 'channel': 991, 'camp': 992, 'christian': 993, 'hole': 994, 'extra': 995, 'ann': 996, 'mental': 997, 'immedi': 998, 'limit': 999, '6': 1000, 'comput': 1001, 'slightli': 1002, 'million': 1003, 'mere': 1004, 'conclus': 1005, 'slasher': 1006, 'imposs': 1007, 'suddenli': 1008, 'neither': 1009, 'teen': 1010, 'crimin': 1011, 'physic': 1012, 'spent': 1013, 'nation': 1014, 'respons': 1015, 'planet': 1016, 'receiv': 1017, 'fake': 1018, 'sick': 1019, 'blue': 1020, 'bizarr': 1021, 'embarrass': 1022, 'indian': 1023, 'ring': 1024, '15': 1025, 'pop': 1026, 'drop': 1027, 'drag': 1028, 'haunt': 1029, 'pointless': 1030, 'suspect': 1031, 'edg': 1032, 'search': 1033, 'handl': 1034, 'common': 1035, 'biggest': 1036, 'arriv': 1037, 'faith': 1038, 'hurt': 1039, 'technic': 1040, 'angel': 1041, 'genuin': 1042, 'dad': 1043, 'solid': 1044, 'f': 1045, 'awesom': 1046, 'focu': 1047, 'colleg': 1048, 'van': 1049, 'former': 1050, 'count': 1051, 'tear': 1052, 'heavi': 1053, 'wall': 1054, 'rais': 1055, 'visit': 1056, 'laughabl': 1057, 'younger': 1058, 'excus': 1059, 'sign': 1060, 'fair': 1061, 'cult': 1062, 'tough': 1063, 'key': 1064, 'motion': 1065, 'desir': 1066, 'super': 1067, 'addit': 1068, 'stun': 1069, 'exploit': 1070, 'cloth': 1071, 'tortur': 1072, 'smith': 1073, 'davi': 1074, 'race': 1075, 'cross': 1076, 'author': 1077, 'jim': 1078, 'minor': 1079, 'focus': 1080, 'compel': 1081, 'consist': 1082, 'chemistri': 1083, 'pathet': 1084, 'commit': 1085, 'park': 1086, 'obsess': 1087, 'tradit': 1088, 'frank': 1089, 'grade': 1090, '60': 1091, 'asid': 1092, 'brutal': 1093, 'somewher': 1094, 'steve': 1095, 'rule': 1096, 'opportun': 1097, 'grant': 1098, 'depress': 1099, 'explor': 1100, 'u': 1101, 'honest': 1102, 'besid': 1103, 'anti': 1104, 'dub': 1105, 'intend': 1106, 'trailer': 1107, 'bar': 1108, 'west': 1109, 'regard': 1110, 'longer': 1111, 'scientist': 1112, 'decad': 1113, 'judg': 1114, 'silent': 1115, 'creativ': 1116, 'armi': 1117, 'wild': 1118, 'south': 1119, 'g': 1120, 'stewart': 1121, 'draw': 1122, 'road': 1123, 'govern': 1124, 'ex': 1125, 'boss': 1126, 'practic': 1127, 'festiv': 1128, 'surprisingli': 1129, 'motiv': 1130, 'gang': 1131, 'club': 1132, 'london': 1133, 'redeem': 1134, 'green': 1135, 'page': 1136, 'militari': 1137, 'display': 1138, 'idiot': 1139, 'machin': 1140, 'aliv': 1141, 'thrill': 1142, 'repeat': 1143, 'yeah': 1144, 'folk': 1145, '100': 1146, 'nobodi': 1147, '40': 1148, 'garbag': 1149, 'journey': 1150, 'ground': 1151, 'tire': 1152, 'smile': 1153, 'mood': 1154, 'bought': 1155, 'cost': 1156, 'sam': 1157, 'stone': 1158, 'noir': 1159, 'mouth': 1160, 'agent': 1161, 'terrif': 1162, 'requir': 1163, 'utterli': 1164, 'sexi': 1165, 'area': 1166, 'honestli': 1167, 'report': 1168, 'geniu': 1169, 'investig': 1170, 'glad': 1171, 'humour': 1172, 'enter': 1173, 'serial': 1174, 'passion': 1175, 'occasion': 1176, 'narr': 1177, 'climax': 1178, 'marriag': 1179, 'studi': 1180, 'industri': 1181, 'charli': 1182, 'center': 1183, 'ship': 1184, 'nowher': 1185, 'demon': 1186, 'loos': 1187, 'bear': 1188, 'hors': 1189, 'hang': 1190, 'wow': 1191, 'graphic': 1192, 'giant': 1193, 'admir': 1194, 'send': 1195, 'damn': 1196, 'loud': 1197, 'subtl': 1198, 'rel': 1199, 'profession': 1200, 'nake': 1201, 'blow': 1202, 'bottom': 1203, 'batman': 1204, 'insult': 1205, 'boyfriend': 1206, 'doubl': 1207, 'kelli': 1208, 'r': 1209, 'initi': 1210, 'frame': 1211, 'gem': 1212, 'opera': 1213, 'affect': 1214, 'challeng': 1215, 'church': 1216, 'cinemat': 1217, 'drawn': 1218, 'seek': 1219, 'fulli': 1220, 'l': 1221, 'j': 1222, 'evid': 1223, 'nightmar': 1224, 'arm': 1225, 'essenti': 1226, 'conflict': 1227, 'wind': 1228, 'christoph': 1229, 'henri': 1230, 'grace': 1231, 'assum': 1232, 'witch': 1233, 'narrat': 1234, 'push': 1235, 'hunt': 1236, 'chri': 1237, 'wise': 1238, 'nomin': 1239, 'repres': 1240, 'month': 1241, 'avail': 1242, 'affair': 1243, 'sceneri': 1244, 'hide': 1245, 'smart': 1246, 'bond': 1247, 'thu': 1248, 'justic': 1249, 'interview': 1250, 'outstand': 1251, 'flashback': 1252, 'presenc': 1253, 'satisfi': 1254, 'constantli': 1255, 'bed': 1256, 'central': 1257, 'content': 1258, 'sell': 1259, 'iron': 1260, 'gag': 1261, 'everybodi': 1262, 'hotel': 1263, 'slowli': 1264, 'hire': 1265, 'system': 1266, 'hey': 1267, 'charl': 1268, 'individu': 1269, 'adam': 1270, 'thrown': 1271, 'mediocr': 1272, 'allen': 1273, 'jone': 1274, 'lesson': 1275, 'ray': 1276, 'billi': 1277, 'photographi': 1278, 'cameo': 1279, 'fellow': 1280, 'pari': 1281, 'strike': 1282, 'brief': 1283, 'independ': 1284, 'rise': 1285, 'absurd': 1286, 'neg': 1287, 'phone': 1288, 'impact': 1289, 'ill': 1290, 'born': 1291, 'model': 1292, 'angl': 1293, 'spoil': 1294, 'fresh': 1295, 'abus': 1296, 'likabl': 1297, 'hill': 1298, 'discuss': 1299, 'sight': 1300, 'ahead': 1301, 'sent': 1302, 'photograph': 1303, 'occur': 1304, 'blame': 1305, 'shine': 1306, 'logic': 1307, 'mainli': 1308, 'bruce': 1309, 'skip': 1310, 'forev': 1311, 'commerci': 1312, 'surround': 1313, 'segment': 1314, 'teacher': 1315, 'held': 1316, 'zero': 1317, 'blond': 1318, 'trap': 1319, 'summer': 1320, 'satir': 1321, 'resembl': 1322, 'six': 1323, 'ball': 1324, 'fool': 1325, 'queen': 1326, 'sub': 1327, 'twice': 1328, 'tragedi': 1329, 'pack': 1330, 'reaction': 1331, 'bomb': 1332, 'hospit': 1333, 'protagonist': 1334, 'will': 1335, 'mile': 1336, 'sport': 1337, 'vote': 1338, 'drink': 1339, 'mom': 1340, 'jerri': 1341, 'trust': 1342, 'encount': 1343, 'plane': 1344, 'station': 1345, 'al': 1346, 'current': 1347, 'program': 1348, 'choos': 1349, 'martin': 1350, 'celebr': 1351, 'join': 1352, 'favourit': 1353, 'round': 1354, 'tragic': 1355, 'lord': 1356, 'field': 1357, 'jean': 1358, 'vision': 1359, 'robot': 1360, 'tie': 1361, 'arthur': 1362, 'roger': 1363, 'fortun': 1364, 'random': 1365, 'dread': 1366, 'psycholog': 1367, 'intern': 1368, 'epic': 1369, 'improv': 1370, 'nonsens': 1371, 'prefer': 1372, 'legend': 1373, 'formula': 1374, 'highlight': 1375, 'pleasur': 1376, 'tape': 1377, '11': 1378, 'dollar': 1379, 'fox': 1380, 'thin': 1381, 'porn': 1382, 'wide': 1383, 'gorgeou': 1384, 'object': 1385, 'buddi': 1386, 'influenc': 1387, 'ugli': 1388, 'nasti': 1389, 'prepar': 1390, 'ii': 1391, 'progress': 1392, 'warm': 1393, 'reflect': 1394, 'supposedli': 1395, 'youth': 1396, 'worthi': 1397, 'unusu': 1398, 'latter': 1399, 'length': 1400, 'crash': 1401, 'childhood': 1402, 'seven': 1403, 'shop': 1404, 'superior': 1405, 'remot': 1406, 'theatr': 1407, 'funniest': 1408, 'paid': 1409, 'disgust': 1410, 'pilot': 1411, 'convers': 1412, 'trick': 1413, 'castl': 1414, 'fell': 1415, 'disast': 1416, 'rob': 1417, 'establish': 1418, 'gangster': 1419, 'ident': 1420, 'suicid': 1421, 'heaven': 1422, 'disappear': 1423, 'mine': 1424, 'tend': 1425, 'singer': 1426, 'forgotten': 1427, 'mask': 1428, 'heroin': 1429, 'decis': 1430, 'partner': 1431, 'brian': 1432, 'recogn': 1433, 'desert': 1434, 'alan': 1435, 'stuck': 1436, 'sky': 1437, 'ms': 1438, 'thoroughli': 1439, 'p': 1440, 'accur': 1441, 'replac': 1442, 'market': 1443, 'andi': 1444, 'commentari': 1445, 'danni': 1446, 'eddi': 1447, 'clue': 1448, 'uncl': 1449, 'seemingli': 1450, 'devil': 1451, 'jackson': 1452, 'refus': 1453, 'that': 1454, 'therefor': 1455, 'pair': 1456, 'unit': 1457, 'fault': 1458, 'accid': 1459, 'fate': 1460, 'ed': 1461, 'river': 1462, 'tune': 1463, 'afraid': 1464, 'stephen': 1465, 'hidden': 1466, 'clean': 1467, 'russian': 1468, 'readi': 1469, 'instanc': 1470, 'quick': 1471, 'test': 1472, 'captain': 1473, 'convey': 1474, 'irrit': 1475, 'european': 1476, 'frustrat': 1477, 'daniel': 1478, 'insan': 1479, 'rescu': 1480, 'food': 1481, 'wed': 1482, 'chines': 1483, '1950': 1484, 'dirti': 1485, 'lock': 1486, 'angri': 1487, 'joy': 1488, 'steven': 1489, 'price': 1490, 'bland': 1491, 'cage': 1492, 'anymor': 1493, 'rang': 1494, 'wooden': 1495, 'news': 1496, 'rush': 1497, 'jason': 1498, 'n': 1499, 'board': 1500, '12': 1501, 'worri': 1502, 'led': 1503, 'martial': 1504, 'twenti': 1505, 'cgi': 1506, 'transform': 1507, 'symbol': 1508, 'hunter': 1509, 'onto': 1510, 'sentiment': 1511, 'x': 1512, 'piti': 1513, 'johnni': 1514, 'invent': 1515, 'process': 1516, 'attitud': 1517, 'explan': 1518, 'owner': 1519, 'awar': 1520, 'aim': 1521, 'target': 1522, 'floor': 1523, 'energi': 1524, 'favor': 1525, 'necessari': 1526, 'opposit': 1527, 'religi': 1528, 'insight': 1529, 'chick': 1530, 'blind': 1531, 'window': 1532, 'movement': 1533, 'deepli': 1534, 'possess': 1535, 'mountain': 1536, 'comparison': 1537, 'research': 1538, 'whatsoev': 1539, 'rain': 1540, 'grand': 1541, 'comed': 1542, 'shadow': 1543, 'bank': 1544, 'mid': 1545, 'began': 1546, 'parodi': 1547, 'princ': 1548, 'credibl': 1549, 'pre': 1550, 'taylor': 1551, 'weapon': 1552, 'friendship': 1553, 'dougla': 1554, 'teach': 1555, 'flesh': 1556, 'hint': 1557, 'bloodi': 1558, 'terror': 1559, 'protect': 1560, 'marvel': 1561, 'watchabl': 1562, 'load': 1563, 'accord': 1564, 'superman': 1565, 'anybodi': 1566, 'leader': 1567, 'drunk': 1568, 'freddi': 1569, 'brown': 1570, 'hitler': 1571, 'appropri': 1572, 'seat': 1573, 'tim': 1574, 'jeff': 1575, 'unknown': 1576, 'villag': 1577, 'charg': 1578, 'knock': 1579, 'keaton': 1580, 'empti': 1581, 'media': 1582, 'unnecessari': 1583, 'england': 1584, 'enemi': 1585, 'wave': 1586, 'strength': 1587, 'utter': 1588, 'dare': 1589, 'buck': 1590, 'craft': 1591, 'perspect': 1592, 'kiss': 1593, 'ford': 1594, 'contrast': 1595, 'correct': 1596, 'nativ': 1597, 'distract': 1598, 'knowledg': 1599, 'chill': 1600, 'nazi': 1601, 'anywher': 1602, 'speed': 1603, 'soap': 1604, 'magnific': 1605, 'fred': 1606, 'ice': 1607, 'mission': 1608, 'breath': 1609, '1980': 1610, 'crowd': 1611, 'moon': 1612, 'jr': 1613, 'joan': 1614, 'frighten': 1615, '000': 1616, 'soft': 1617, 'kate': 1618, 'dan': 1619, 'hundr': 1620, 'dick': 1621, 'nick': 1622, 'simon': 1623, 'dozen': 1624, 'somebodi': 1625, 'radio': 1626, 'thousand': 1627, 'loss': 1628, 'shakespear': 1629, 'academi': 1630, 'andrew': 1631, 'sum': 1632, 'account': 1633, 'quot': 1634, 'vehicl': 1635, 'root': 1636, '1970': 1637, 'leg': 1638, 'behavior': 1639, 'convent': 1640, 'regular': 1641, 'gold': 1642, 'worker': 1643, 'demand': 1644, 'compet': 1645, 'pretenti': 1646, 'privat': 1647, 'lynch': 1648, 'interpret': 1649, 'candi': 1650, 'explos': 1651, 'japan': 1652, 'stretch': 1653, 'notabl': 1654, 'constant': 1655, 'debut': 1656, 'tarzan': 1657, 'sea': 1658, 'revolv': 1659, 'translat': 1660, 'prais': 1661, 'spi': 1662, 'threaten': 1663, 'franc': 1664, 'sat': 1665, 'technolog': 1666, 'failur': 1667, 'quiet': 1668, 'ass': 1669, 'jesu': 1670, 'higher': 1671, 'kevin': 1672, 'met': 1673, 'punch': 1674, 'aid': 1675, 'toy': 1676, 'interact': 1677, 'abandon': 1678, 'vh': 1679, 'mike': 1680, 'separ': 1681, 'confront': 1682, 'bet': 1683, 'command': 1684, 'techniqu': 1685, 'gotten': 1686, 'recal': 1687, 'stunt': 1688, 'belong': 1689, 'servic': 1690, 'site': 1691, 'foot': 1692, 'cabl': 1693, 'bug': 1694, 'freak': 1695, 'african': 1696, 'fu': 1697, 'bright': 1698, 'capabl': 1699, 'jimmi': 1700, 'stock': 1701, 'clark': 1702, 'fat': 1703, 'presid': 1704, 'succeed': 1705, 'boat': 1706, 'structur': 1707, 'gene': 1708, 'spanish': 1709, 'paper': 1710, 'kidnap': 1711, 'factor': 1712, 'belief': 1713, 'whilst': 1714, 'bob': 1715, 'educ': 1716, 'attend': 1717, 'complic': 1718, 'realism': 1719, 'witti': 1720, 'tree': 1721, 'realis': 1722, 'santa': 1723, 'assist': 1724, 'broken': 1725, 'finest': 1726, 'smoke': 1727, 'observ': 1728, 'determin': 1729, 'depart': 1730, 'v': 1731, 'up': 1732, 'oper': 1733, 'domin': 1734, 'hat': 1735, 'rubbish': 1736, 'lewi': 1737, 'routin': 1738, 'fame': 1739, 'hook': 1740, 'safe': 1741, 'foreign': 1742, 'kinda': 1743, 'lone': 1744, 'advanc': 1745, 'morgan': 1746, 'numer': 1747, 'rank': 1748, 'shallow': 1749, 'vs': 1750, 'washington': 1751, 'shape': 1752, 'rose': 1753, 'civil': 1754, 'werewolf': 1755, 'morn': 1756, 'gari': 1757, 'ordinari': 1758, 'accomplish': 1759, 'kong': 1760, 'winner': 1761, 'peac': 1762, 'grab': 1763, 'virtual': 1764, 'whenev': 1765, 'h': 1766, 'offens': 1767, 'luck': 1768, 'complain': 1769, 'unfunni': 1770, 'contriv': 1771, 'welcom': 1772, 'patient': 1773, 'bigger': 1774, 'activ': 1775, 'dimension': 1776, 'con': 1777, 'trek': 1778, 'pretend': 1779, 'dri': 1780, 'eric': 1781, 'flash': 1782, 'lesbian': 1783, 'cain': 1784, 'wake': 1785, 'code': 1786, 'manipul': 1787, 'dancer': 1788, 'guard': 1789, 'statu': 1790, 'corrupt': 1791, 'albert': 1792, 'awkward': 1793, 'gain': 1794, 'sourc': 1795, 'context': 1796, 'signific': 1797, 'speech': 1798, 'psycho': 1799, 'clip': 1800, 'anthoni': 1801, '13': 1802, 'corni': 1803, 'sean': 1804, 'curiou': 1805, 'theatric': 1806, 'advic': 1807, 'w': 1808, 'reli': 1809, 'priest': 1810, 'religion': 1811, 'flow': 1812, 'addict': 1813, 'asian': 1814, 'jennif': 1815, 'skin': 1816, 'specif': 1817, 'secur': 1818, 'howard': 1819, 'organ': 1820, 'core': 1821, 'luke': 1822, 'promot': 1823, 'comfort': 1824, 'golden': 1825, 'lucki': 1826, 'cheat': 1827, 'cash': 1828, 'associ': 1829, 'lower': 1830, 'dislik': 1831, 'wing': 1832, 'balanc': 1833, 'spell': 1834, 'regret': 1835, 'contribut': 1836, 'degre': 1837, 'frequent': 1838, 'devic': 1839, 'frankli': 1840, 'print': 1841, 'forgiv': 1842, 'sake': 1843, 'lake': 1844, 'mass': 1845, 'betti': 1846, 'thoma': 1847, 'crack': 1848, 'unexpect': 1849, 'gordon': 1850, 'unfold': 1851, 'amateur': 1852, 'construct': 1853, 'grown': 1854, 'invit': 1855, 'depend': 1856, 'categori': 1857, 'matur': 1858, 'intellectu': 1859, 'grew': 1860, 'walter': 1861, 'condit': 1862, 'honor': 1863, 'anna': 1864, 'veteran': 1865, 'sole': 1866, 'spectacular': 1867, 'sudden': 1868, 'mirror': 1869, 'grip': 1870, 'robin': 1871, 'card': 1872, 'demonstr': 1873, 'experienc': 1874, 'meanwhil': 1875, 'overli': 1876, 'liner': 1877, 'gift': 1878, 'freedom': 1879, 'sheriff': 1880, 'circumst': 1881, 'subtitl': 1882, 'section': 1883, 'oliv': 1884, 'brilliantli': 1885, 'crappi': 1886, 'unabl': 1887, 'drew': 1888, 'colour': 1889, 'theori': 1890, 'laughter': 1891, 'altern': 1892, 'cook': 1893, 'path': 1894, 'pile': 1895, 'matt': 1896, 'parker': 1897, 'sheer': 1898, 'defin': 1899, 'wander': 1900, 'lawyer': 1901, 'treatment': 1902, 'sinatra': 1903, 'accident': 1904, 'hall': 1905, 'relief': 1906, 'captiv': 1907, 'dragon': 1908, 'hank': 1909, 'halloween': 1910, 'gratuit': 1911, 'moor': 1912, 'unintent': 1913, 'k': 1914, 'barbara': 1915, 'wayn': 1916, 'jacki': 1917, 'kung': 1918, 'cowboy': 1919, 'broadway': 1920, 'wound': 1921, 'winter': 1922, 'canadian': 1923, 'surreal': 1924, 'statement': 1925, 'spoof': 1926, 'cheer': 1927, 'treasur': 1928, 'compos': 1929, 'fare': 1930, 'fish': 1931, 'gonna': 1932, 'unrealist': 1933, 'sensit': 1934, 'emerg': 1935, 'victor': 1936, 'woodi': 1937, 'neighbor': 1938, 'ran': 1939, 'sympathet': 1940, 'driven': 1941, 'glass': 1942, 'menac': 1943, 'overlook': 1944, 'authent': 1945, 'expos': 1946, 'topic': 1947, 'gross': 1948, 'chief': 1949, 'handsom': 1950, 'michel': 1951, 'ancient': 1952, 'feet': 1953, 'cinderella': 1954, 'contemporari': 1955, 'russel': 1956, 'network': 1957, 'pleasant': 1958, 'nevertheless': 1959, 'stranger': 1960, 'built': 1961, 'comedian': 1962, 'letter': 1963, 'endless': 1964, 'blockbust': 1965, 'earn': 1966, 'consider': 1967, 'underr': 1968, 'miser': 1969, 'gori': 1970, 'switch': 1971, 'brook': 1972, 'solv': 1973, 'bullet': 1974, 'edward': 1975, 'convict': 1976, 'joseph': 1977, 'victoria': 1978, 'virgin': 1979, 'cynic': 1980, 'chosen': 1981, 'scale': 1982, '0': 1983, 'scenario': 1984, 'alex': 1985, 'com': 1986, 'curs': 1987, 'gut': 1988, 'outrag': 1989, 'sword': 1990, 'substanc': 1991, 'wrap': 1992, 'proper': 1993, 'juli': 1994, 'monkey': 1995, 'uk': 1996, 'driver': 1997, 'screenwrit': 1998, 'par': 1999, 'bird': 2000, 'indic': 2001, 'court': 2002, 'remov': 2003, 'inevit': 2004, 'grave': 2005, 'naiv': 2006, 'roy': 2007, 'advertis': 2008, 'loser': 2009, 'rental': 2010, 'consequ': 2011, 'nanci': 2012, 'brave': 2013, 'bridg': 2014, 'fatal': 2015, 'germani': 2016, 'slap': 2017, 'le': 2018, 'invis': 2019, 'loui': 2020, 'provok': 2021, 'footbal': 2022, 'ador': 2023, 'anger': 2024, 'anderson': 2025, 'alcohol': 2026, 'chan': 2027, 'professor': 2028, 'stumbl': 2029, 'willi': 2030, 'ryan': 2031, 'patrick': 2032, 'assassin': 2033, 'sharp': 2034, 'australian': 2035, 'bat': 2036, '1930': 2037, 'heck': 2038, 'strongli': 2039, 'cell': 2040, 'refresh': 2041, 'deni': 2042, 'lousi': 2043, 'amateurish': 2044, 'liber': 2045, 'trilog': 2046, 'saturday': 2047, 'ape': 2048, 'eight': 2049, 'sin': 2050, 'resid': 2051, 'justifi': 2052, 'vagu': 2053, 'san': 2054, 'defeat': 2055, 'reput': 2056, 'terrifi': 2057, 'indi': 2058, 'sympathi': 2059, 'mini': 2060, 'creator': 2061, 'endur': 2062, 'tabl': 2063, 'task': 2064, 'expert': 2065, 'tediou': 2066, 'prevent': 2067, 'imit': 2068, 'offend': 2069, 'trial': 2070, 'employ': 2071, 'che': 2072, 'rival': 2073, 'basebal': 2074, 'weekend': 2075, 'beach': 2076, 'dig': 2077, 'complaint': 2078, 'max': 2079, 'europ': 2080, 'fairi': 2081, 'pitch': 2082, 'format': 2083, 'risk': 2084, 'murphi': 2085, 'purchas': 2086, 'hype': 2087, 'tini': 2088, 'harsh': 2089, 'reminisc': 2090, 'nois': 2091, 'bite': 2092, 'glimps': 2093, 'powel': 2094, 'titan': 2095, 'till': 2096, 'north': 2097, 'prime': 2098, 'asleep': 2099, 'strip': 2100, 'fals': 2101, '14': 2102, 'revel': 2103, 'destruct': 2104, 'africa': 2105, 'texa': 2106, 'descript': 2107, 'arrest': 2108, 'surfac': 2109, 'inner': 2110, 'excess': 2111, 'sitcom': 2112, 'uninterest': 2113, 'spin': 2114, 'semi': 2115, 'twin': 2116, 'maintain': 2117, 'hitchcock': 2118, 'makeup': 2119, 'massiv': 2120, 'controversi': 2121, 'argu': 2122, 'dinosaur': 2123, 'ideal': 2124, 'insist': 2125, 'melodrama': 2126, 'ludicr': 2127, 'reject': 2128, 'expens': 2129, 'stare': 2130, 'kim': 2131, 'ga': 2132, 'erot': 2133, 'supernatur': 2134, 'forest': 2135, 'subplot': 2136, 'ala': 2137, 'atroci': 2138, 'nail': 2139, 'press': 2140, 'host': 2141, 'columbo': 2142, 'identifi': 2143, 'notch': 2144, 'presum': 2145, 'cant': 2146, 'dude': 2147, 'crude': 2148, 'closer': 2149, 'forgett': 2150, 'guest': 2151, 'method': 2152, 'plagu': 2153, 'character': 2154, 'foster': 2155, 'border': 2156, 'beast': 2157, 'princess': 2158, 'ear': 2159, 'landscap': 2160, 'lion': 2161, 'previous': 2162, 'urban': 2163, 'damag': 2164, 'accus': 2165, 'aunt': 2166, 'storytel': 2167, 'bound': 2168, 'birth': 2169, 'jungl': 2170, 'pacino': 2171, 'propaganda': 2172, 'nude': 2173, 'chose': 2174, 'thirti': 2175, 'doll': 2176, 'guid': 2177, 'jess': 2178, 'emma': 2179, 'pet': 2180, 'mate': 2181, '25': 2182, 'mainstream': 2183, 'whoever': 2184, 'warrior': 2185, 'size': 2186, 'poster': 2187, 'merit': 2188, 'cooper': 2189, 'latest': 2190, 'upset': 2191, 'deadli': 2192, 'friday': 2193, 'gritti': 2194, 'exact': 2195, 'popul': 2196, '1990': 2197, 'blend': 2198, 'ton': 2199, 'settl': 2200, 'corps': 2201, 'citizen': 2202, 'contact': 2203, 'sun': 2204, 'rough': 2205, 'buff': 2206, 'wilson': 2207, 'warner': 2208, 'contest': 2209, 'metal': 2210, 'alic': 2211, 'overcom': 2212, 'bu': 2213, 'rat': 2214, 'mgm': 2215, 'widow': 2216, 'pitt': 2217, 'select': 2218, 'environ': 2219, 'link': 2220, 'revolut': 2221, 'guilti': 2222, 'lift': 2223, 'particip': 2224, 'ted': 2225, '1960': 2226, 'corpor': 2227, 'prostitut': 2228, 'afternoon': 2229, 'exagger': 2230, 'matrix': 2231, 'johnson': 2232, 'corner': 2233, 'moron': 2234, 'accompani': 2235, 'hood': 2236, 'holm': 2237, 'leagu': 2238, 'friendli': 2239, 'sincer': 2240, 'instal': 2241, 'doom': 2242, 'multipl': 2243, 'clair': 2244, 'advis': 2245, 'hip': 2246, 'defend': 2247, 'irish': 2248, 'campi': 2249, 'aka': 2250, 'junk': 2251, 'examin': 2252, 'blah': 2253, 'sunday': 2254, 'string': 2255, 'grim': 2256, 'lugosi': 2257, 'shut': 2258, 'rachel': 2259, 'pro': 2260, 'shake': 2261, 'confid': 2262, 'tight': 2263, 'varieti': 2264, 'icon': 2265, 'mexican': 2266, 'medic': 2267, 'directli': 2268, 'jaw': 2269, 'goal': 2270, 'attach': 2271, 'sullivan': 2272, 'denni': 2273, 'dean': 2274, 'breast': 2275, 'sentenc': 2276, 'prior': 2277, 'vietnam': 2278, 'courag': 2279, 'duke': 2280, 'legendari': 2281, 'bourn': 2282, 'terrorist': 2283, 'truck': 2284, 'sarah': 2285, 'un': 2286, 'proceed': 2287, 'donald': 2288, 'split': 2289, 'entri': 2290, 'yell': 2291, 'nose': 2292, 'behav': 2293, 'hong': 2294, 'gather': 2295, 'buri': 2296, 'crush': 2297, 'swim': 2298, 'jerk': 2299, 'lifetim': 2300, 'everywher': 2301, 'concentr': 2302, 'unconvinc': 2303, 'stolen': 2304, 'forth': 2305, 'confess': 2306, 'borrow': 2307, 'spite': 2308, 'pan': 2309, 'turkey': 2310, 'lip': 2311, 'deliveri': 2312, 'california': 2313, 'julia': 2314, 'flight': 2315, 'offici': 2316, 'downright': 2317, 'quest': 2318, 'reward': 2319, 'hoffman': 2320, 'china': 2321, 'proud': 2322, 'freeman': 2323, 'inept': 2324, 'encourag': 2325, 'worthwhil': 2326, 'lazi': 2327, 'betray': 2328, 'jail': 2329, 'jon': 2330, 'sink': 2331, 'fade': 2332, 'fabul': 2333, 'notori': 2334, 'sir': 2335, 'storm': 2336, 'shower': 2337, 'relev': 2338, 'bag': 2339, 'retard': 2340, 'survivor': 2341, 'teeth': 2342, 'cousin': 2343, 'branagh': 2344, 'lisa': 2345, 'imageri': 2346, 'susan': 2347, 'bell': 2348, 'hugh': 2349, 'alright': 2350, 'summari': 2351, 'stab': 2352, 'finger': 2353, 'tremend': 2354, 'facial': 2355, 'trade': 2356, 'mexico': 2357, 'quirki': 2358, 'toler': 2359, 'bride': 2360, 'shark': 2361, 'blown': 2362, 'bitter': 2363, 'ha': 2364, 'hyster': 2365, 'von': 2366, 'pose': 2367, 'address': 2368, 'larri': 2369, 'bone': 2370, 'scheme': 2371, 'cruel': 2372, 'ron': 2373, 'ned': 2374, 'afterward': 2375, 'christ': 2376, 'pursu': 2377, 'distinct': 2378, 'swear': 2379, 'tour': 2380, 'beg': 2381, 'feed': 2382, 'screw': 2383, 'thumb': 2384, 'snake': 2385, 'traci': 2386, 'occas': 2387, 'photo': 2388, 'raw': 2389, 'stomach': 2390, 'obscur': 2391, 'chair': 2392, 'mechan': 2393, 'heavili': 2394, 'holiday': 2395, 'gruesom': 2396, 'render': 2397, 'resist': 2398, 'southern': 2399, 'chain': 2400, 'sidney': 2401, 'hardi': 2402, 'necessarili': 2403, 'cabin': 2404, 'argument': 2405, 'understood': 2406, 'indulg': 2407, 'philip': 2408, 'india': 2409, 'satan': 2410, 'racist': 2411, 'tongu': 2412, 'lay': 2413, 'stalk': 2414, 'forgot': 2415, 'belov': 2416, 'pregnant': 2417, 'outfit': 2418, 'midnight': 2419, 'integr': 2420, 'obnoxi': 2421, 'fourth': 2422, 'deeper': 2423, 'restor': 2424, '17': 2425, 'garden': 2426, 'magazin': 2427, 'ticket': 2428, 'inhabit': 2429, 'slapstick': 2430, 'carol': 2431, 'devot': 2432, 'shoe': 2433, 'lincoln': 2434, 'incid': 2435, 'brad': 2436, 'disbelief': 2437, 'anticip': 2438, 'guarante': 2439, 'lili': 2440, 'benefit': 2441, 'underground': 2442, 'sandler': 2443, 'maria': 2444, 'divorc': 2445, 'elizabeth': 2446, 'greater': 2447, 'bbc': 2448, 'amazingli': 2449, 'cring': 2450, 'explod': 2451, 'creation': 2452, 'capit': 2453, 'mildli': 2454, 'princip': 2455, 'slave': 2456, 'extraordinari': 2457, 'introduct': 2458, 'halfway': 2459, 'lesli': 2460, 'funnier': 2461, 'transfer': 2462, 'overwhelm': 2463, 'tap': 2464, 'wreck': 2465, 'extent': 2466, 'advantag': 2467, 'enhanc': 2468, 'punish': 2469, 'text': 2470, 'lo': 2471, 'lane': 2472, 'east': 2473, 'preview': 2474, 'deliber': 2475, 'plant': 2476, 'dynam': 2477, 'error': 2478, 'horrif': 2479, 'jessica': 2480, 'ensu': 2481, 'sophist': 2482, 'appli': 2483, 'homosexu': 2484, 'miscast': 2485, 'vincent': 2486, 'vacat': 2487, 'basi': 2488, 'miller': 2489, '2000': 2490, 'bollywood': 2491, 'extend': 2492, 'spoken': 2493, 'mansion': 2494, 'uncomfort': 2495, 'steel': 2496, 'via': 2497, 'sleazi': 2498, 'measur': 2499, 'elev': 2500, 'reed': 2501, 'goofi': 2502, 'daili': 2503, 'conceiv': 2504, 'dentist': 2505, 'hippi': 2506, 'overact': 2507, 'mous': 2508, 'assign': 2509, 'melt': 2510, 'fix': 2511, 'savag': 2512, 'stanley': 2513, 'breathtak': 2514, 'beer': 2515, 'alter': 2516, 'cathol': 2517, 'blair': 2518, 'sacrific': 2519, 'everyday': 2520, 'inspector': 2521, 'oppos': 2522, 'burt': 2523, 'nowaday': 2524, 'carpent': 2525, 'succe': 2526, 'properli': 2527, 'subsequ': 2528, 'massacr': 2529, 'neck': 2530, 'circl': 2531, 'block': 2532, 'laura': 2533, 'grey': 2534, 'concert': 2535, 'portrait': 2536, 'pool': 2537, 'christi': 2538, 'lesser': 2539, 'fallen': 2540, 'access': 2541, 'fay': 2542, 'mob': 2543, 'seagal': 2544, 'sinist': 2545, 'react': 2546, 'competit': 2547, 'usa': 2548, 'jake': 2549, 'jewish': 2550, 'relax': 2551, 'chees': 2552, 'isol': 2553, 'ironi': 2554, '2006': 2555, 'chop': 2556, 'stink': 2557, 'lyric': 2558, 'creep': 2559, 'nine': 2560, 'appal': 2561, 'immens': 2562, 'suitabl': 2563, 'nonetheless': 2564, 'spiritu': 2565, 'needless': 2566, 'nut': 2567, 'adopt': 2568, 'spring': 2569, 'retir': 2570, 'rage': 2571, 'franchis': 2572, 'user': 2573, 'navi': 2574, 'shirt': 2575, 'showcas': 2576, 'luci': 2577, 'sold': 2578, 'reduc': 2579, 'jay': 2580, 'uninspir': 2581, 'per': 2582, 'zone': 2583, 'asham': 2584, 'nurs': 2585, 'bulli': 2586, 'stanwyck': 2587, 'digit': 2588, 'bath': 2589, '1940': 2590, 'laid': 2591, 'sutherland': 2592, '2001': 2593, 'amongst': 2594, 'upper': 2595, 'broadcast': 2596, 'illustr': 2597, 'oddli': 2598, 'baker': 2599, 'aspir': 2600, 'fulfil': 2601, 'brando': 2602, 'throat': 2603, 'disguis': 2604, 'stylish': 2605, 'pride': 2606, 'wanna': 2607, 'neighborhood': 2608, 'thief': 2609, 'nobl': 2610, 'impli': 2611, 'pound': 2612, 'em': 2613, '18': 2614, 'endear': 2615, 'wwii': 2616, 'coher': 2617, 'tens': 2618, '16': 2619, 'shoulder': 2620, 'prop': 2621, 'dawn': 2622, 'bo': 2623, 'rochest': 2624, 'albeit': 2625, 'shift': 2626, 'bett': 2627, 'diseas': 2628, 'cinematograph': 2629, 'dinner': 2630, 'distribut': 2631, 'surf': 2632, 'forti': 2633, 'matthau': 2634, 'shout': 2635, 'rebel': 2636, 'wash': 2637, 'knife': 2638, 'function': 2639, 'snow': 2640, 'poignant': 2641, 'contract': 2642, 'silenc': 2643, 'eeri': 2644, 'henc': 2645, 'derek': 2646, 'reunion': 2647, 'mindless': 2648, 'horrend': 2649, 'height': 2650, 'elvira': 2651, 'chuck': 2652, 'proof': 2653, 'instinct': 2654, 'cannib': 2655, 'duti': 2656, 'internet': 2657, 'widmark': 2658, 'silver': 2659, 'cancel': 2660, 'heat': 2661, 'alik': 2662, 'torn': 2663, 'spielberg': 2664, 'musician': 2665, 'greatli': 2666, 'absorb': 2667, 'etern': 2668, 'mill': 2669, 'incoher': 2670, 'premier': 2671, 'glori': 2672, 'pie': 2673, 'repetit': 2674, 'neat': 2675, 'innov': 2676, 'elvi': 2677, 'wealthi': 2678, 'precis': 2679, 'infam': 2680, 'itali': 2681, 'crisi': 2682, 'bang': 2683, 'redempt': 2684, 'blank': 2685, 'fbi': 2686, 'homag': 2687, 'britain': 2688, 'racism': 2689, 'announc': 2690, 'lovabl': 2691, 'horrifi': 2692, 'trite': 2693, 'burton': 2694, 'diamond': 2695, 'nelson': 2696, 'pat': 2697, 'flop': 2698, 'hammer': 2699, 'streisand': 2700, 'wilder': 2701, 'ensembl': 2702, 'happili': 2703, 'chaplin': 2704, 'resolut': 2705, 'parallel': 2706, 'helen': 2707, 'dedic': 2708, 'oil': 2709, 'broke': 2710, 'carter': 2711, 'triumph': 2712, 'factori': 2713, 'plastic': 2714, 'conclud': 2715, 'disagre': 2716, 'cube': 2717, 'st': 2718, 'mar': 2719, 'bush': 2720, 'march': 2721, 'own': 2722, 'chuckl': 2723, 'vega': 2724, 'climb': 2725, 'fighter': 2726, 'row': 2727, 'rocket': 2728, 'weight': 2729, 'enorm': 2730, 'dump': 2731, 'thug': 2732, 'kurt': 2733, 'sensibl': 2734, 'wherea': 2735, 'mst3k': 2736, 'meaning': 2737, 'unforgett': 2738, 'boot': 2739, 'luca': 2740, 'dane': 2741, 'lust': 2742, 'spare': 2743, 'adequ': 2744, 'difficulti': 2745, 'fifti': 2746, 'stress': 2747, 'dear': 2748, 'rap': 2749, 'threat': 2750, 'butt': 2751, 'bobbi': 2752, 'caricatur': 2753, 'engin': 2754, 'arnold': 2755, 'brand': 2756, 'karloff': 2757, 'journalist': 2758, 'secretari': 2759, 'flynn': 2760, 'polish': 2761, 'ralph': 2762, 'swing': 2763, 'ego': 2764, 'elabor': 2765, 'fest': 2766, 'hamlet': 2767, 'arrog': 2768, 'homeless': 2769, 'barri': 2770, 'conspiraci': 2771, 'fanci': 2772, 'induc': 2773, 'arrang': 2774, 'unbear': 2775, 'resort': 2776, 'float': 2777, 'spike': 2778, 'tool': 2779, 'grate': 2780, 'simpson': 2781, 'puppet': 2782, 'choreograph': 2783, 'basement': 2784, 'phillip': 2785, 'cruis': 2786, 'boll': 2787, 'guilt': 2788, 'pig': 2789, 'exercis': 2790, 'muppet': 2791, 'tribut': 2792, 'puzzl': 2793, 'medium': 2794, 'tower': 2795, 'ward': 2796, 'scarecrow': 2797, 'ham': 2798, 'editor': 2799, 'item': 2800, 'slip': 2801, 'layer': 2802, '24': 2803, 'fianc': 2804, 'stan': 2805, 'babe': 2806, 'toilet': 2807, 'document': 2808, 'korean': 2809, 'file': 2810, 'larger': 2811, 'doc': 2812, 'slaughter': 2813, 'librari': 2814, 'minim': 2815, 'denzel': 2816, 'assur': 2817, 'glover': 2818, 'inexplic': 2819, 'orient': 2820, 'persona': 2821, 'territori': 2822, 'transit': 2823, 'catherin': 2824, 'portion': 2825, 'spark': 2826, 'philosoph': 2827, 'superfici': 2828, 'ban': 2829, 'curti': 2830, 'shi': 2831, 'dorothi': 2832, 'pg': 2833, 'jet': 2834, 'walken': 2835, 'jeremi': 2836, 'boredom': 2837, 'owe': 2838, 'wolf': 2839, 'financi': 2840, 'sneak': 2841, 'multi': 2842, 'backdrop': 2843, 'ambigu': 2844, 'cusack': 2845, 'whale': 2846, 'eleph': 2847, 'metaphor': 2848, 'profound': 2849, 'hudson': 2850, 'ultra': 2851, '2005': 2852, 'notion': 2853, 'implaus': 2854, 'elsewher': 2855, 'hack': 2856, 'rave': 2857, 'birthday': 2858, 'viru': 2859, 'union': 2860, 'gadget': 2861, 'stiff': 2862, 'disc': 2863, '1st': 2864, 'distanc': 2865, 'lloyd': 2866, 'eastwood': 2867, 'urg': 2868, 'deriv': 2869, 'reader': 2870, 'hawk': 2871, 'poison': 2872, 'pad': 2873, 'canada': 2874, 'eva': 2875, 'squar': 2876, 'slight': 2877, 'superhero': 2878, 'afford': 2879, 'bibl': 2880, 'newspap': 2881, 'huh': 2882, 'skit': 2883, 'heston': 2884, 'sadist': 2885, 'button': 2886, 'health': 2887, 'spread': 2888, 'drown': 2889, 'montag': 2890, 'restaur': 2891, 'essenc': 2892, 'charisma': 2893, 'cure': 2894, 'companion': 2895, 'dealt': 2896, 'gradual': 2897, 'estat': 2898, 'godfath': 2899, 'peak': 2900, 'invest': 2901, 'scoobi': 2902, 'maniac': 2903, 'fetch': 2904, 'muslim': 2905, 'lab': 2906, 'servant': 2907, 'subtleti': 2908, 'kane': 2909, 'countless': 2910, 'alli': 2911, 'cup': 2912, 'tea': 2913, 'ritter': 2914, 'miik': 2915, 'gothic': 2916, 'charismat': 2917, 'electr': 2918, 'elect': 2919, 'salli': 2920, 'heroic': 2921, 'iii': 2922, 'briefli': 2923, 'bud': 2924, 'ingredi': 2925, 'nuanc': 2926, 'wannab': 2927, 'cole': 2928, 'neil': 2929, 'toss': 2930, 'admittedli': 2931, 'resourc': 2932, 'tender': 2933, 'grandmoth': 2934, 'reel': 2935, 'mild': 2936, 'gate': 2937, 'stronger': 2938, 'shall': 2939, 'pit': 2940, 'punk': 2941, 'poverti': 2942, 'dawson': 2943, 'reev': 2944, 'carrey': 2945, 'kubrick': 2946, 'stood': 2947, 'label': 2948, 'mafia': 2949, 'pauli': 2950, 'cox': 2951, 'easier': 2952, 'outcom': 2953, 'astair': 2954, 'burst': 2955, 'fond': 2956, 'tag': 2957, 'assault': 2958, 'updat': 2959, 'terri': 2960, 'smash': 2961, 'smooth': 2962, 'useless': 2963, 'ian': 2964, 'cardboard': 2965, 'bakshi': 2966, '2002': 2967, 'vari': 2968, 'qualifi': 2969, 'melodramat': 2970, 'rex': 2971, 'resolv': 2972, 'samurai': 2973, 'exchang': 2974, 'divers': 2975, 'increasingli': 2976, 'coincid': 2977, 'fist': 2978, 'vulner': 2979, 'sketch': 2980, 'luckili': 2981, 'scratch': 2982, 'brillianc': 2983, 'reynold': 2984, 'tame': 2985, 'suspend': 2986, 'blast': 2987, 'templ': 2988, 'insert': 2989, 'conveni': 2990, 'be': 2991, 'jami': 2992, 'fisher': 2993, 'soprano': 2994, 'gotta': 2995, 'meat': 2996, 'coach': 2997, 'ambiti': 2998, 'hamilton': 2999, 'pin': 3000, 'nuclear': 3001, 'matthew': 3002, 'strictli': 3003, 'walker': 3004, 'farm': 3005, 'seventi': 3006, 'empir': 3007, 'recreat': 3008, 'instantli': 3009, 'revers': 3010, 'grasp': 3011, 'brosnan': 3012, 'convolut': 3013, 'closet': 3014, 'monk': 3015, 'worthless': 3016, 'discoveri': 3017, 'eccentr': 3018, 'ninja': 3019, 'clock': 3020, 'cave': 3021, 'butcher': 3022, 'joey': 3023, 'kudo': 3024, 'timeless': 3025, 'spooki': 3026, 'struck': 3027, 'eighti': 3028, 'clown': 3029, 'evok': 3030, 'bleak': 3031, 'norman': 3032, 'sidekick': 3033, 'declar': 3034, 'fifteen': 3035, 'selfish': 3036, 'mitchel': 3037, 'wipe': 3038, 'inconsist': 3039, 'importantli': 3040, 'partli': 3041, 'sloppi': 3042, 'cliff': 3043, 'miracl': 3044, 'seller': 3045, 'gray': 3046, 'pal': 3047, 'communist': 3048, 'cheek': 3049, 'seed': 3050, '45': 3051, 'piano': 3052, 'websit': 3053, 'chew': 3054, 'lifestyl': 3055, 'flawless': 3056, 'destin': 3057, 'stoog': 3058, 'debat': 3059, 'psychiatrist': 3060, 'ho': 3061, 'australia': 3062, 'enthusiast': 3063, 'superbl': 3064, 'aforement': 3065, 'farc': 3066, 'slice': 3067, 'incompet': 3068, 'akshay': 3069, 'pressur': 3070, 'drivel': 3071, 'directori': 3072, 'bash': 3073, 'regardless': 3074, 'wick': 3075, 'anni': 3076, 'dire': 3077, 'splatter': 3078, 'kitchen': 3079, 'abc': 3080, 'dash': 3081, 'wrestl': 3082, 'soviet': 3083, 'emili': 3084, 'recov': 3085, 'beaten': 3086, 'pleasantli': 3087, 'increas': 3088, 'suppli': 3089, 'flower': 3090, 'dave': 3091, 'distant': 3092, 'boil': 3093, 'seduc': 3094, 'duo': 3095, 'mann': 3096, 'helicopt': 3097, 'cia': 3098, 'artifici': 3099, 'cameron': 3100, 'doo': 3101, 'curios': 3102, 'blob': 3103, 'jar': 3104, 'glow': 3105, 'prize': 3106, 'chapter': 3107, 'judi': 3108, 'ken': 3109, 'lou': 3110, 'cagney': 3111, 'turner': 3112, 'ellen': 3113, 'perri': 3114, 'hop': 3115, 'craven': 3116, 'favour': 3117, 'eleg': 3118, 'panic': 3119, 'combat': 3120, 'glenn': 3121, 'ranger': 3122, 'laurel': 3123, 'goldberg': 3124, 'craig': 3125, 'web': 3126, 'splendid': 3127, 'drunken': 3128, 'psychot': 3129, 'francisco': 3130, 'hatr': 3131, 'shortli': 3132, 'fx': 3133, 'gentl': 3134, 'wizard': 3135, 'min': 3136, 'ruth': 3137, 'graduat': 3138, 'plausibl': 3139, 'slightest': 3140, 'flip': 3141, '20th': 3142, 'greek': 3143, 'rid': 3144, 'philosophi': 3145, 'alexand': 3146, 'falk': 3147, 'modesti': 3148, 'gandhi': 3149, 'tall': 3150, 'ocean': 3151, 'jealou': 3152, 'holi': 3153, 'preciou': 3154, 'harm': 3155, 'we': 3156, 'dracula': 3157, 'unpleas': 3158, 'felix': 3159, 'legal': 3160, 'knight': 3161, 'futurist': 3162, 'fund': 3163, 'lend': 3164, 'manhattan': 3165, 'bless': 3166, 'digniti': 3167, 'overdon': 3168, 'nod': 3169, 'childish': 3170, 'mock': 3171, 'scientif': 3172, 'forbidden': 3173, 'tank': 3174, 'thread': 3175, 'ami': 3176, 'explicit': 3177, 'reviv': 3178, 'giallo': 3179, 'nerv': 3180, 'unwatch': 3181, 'elderli': 3182, 'repeatedli': 3183, 'awe': 3184, 'thick': 3185, 'margaret': 3186, 'mel': 3187, 'broad': 3188, 'fever': 3189, 'eve': 3190, '2004': 3191, 'torment': 3192, 'yesterday': 3193, 'awaken': 3194, 'verhoeven': 3195, '99': 3196, 'pirat': 3197, 'rivet': 3198, 'custom': 3199, 'timothi': 3200, 'acclaim': 3201, 'romero': 3202, 'absenc': 3203, 'royal': 3204, 'lean': 3205, 'eas': 3206, 'ah': 3207, 'automat': 3208, 'roman': 3209, 'ambit': 3210, 'kay': 3211, 'bin': 3212, 'politician': 3213, 'griffith': 3214, 'uniform': 3215, 'launch': 3216, 'stiller': 3217, 'publish': 3218, 'homicid': 3219, 'tomato': 3220, 'phrase': 3221, 'antic': 3222, 'stinker': 3223, 'wallac': 3224, 'foul': 3225, 'pulp': 3226, 'pierc': 3227, 'darker': 3228, 'gabriel': 3229, 'bathroom': 3230, 'transport': 3231, 'purpl': 3232, 'crook': 3233, 'sunshin': 3234, 'warren': 3235, 'termin': 3236, 'sixti': 3237, 'packag': 3238, '2003': 3239, 'ought': 3240, 'q': 3241, 'choreographi': 3242, 'li': 3243, 'revolutionari': 3244, 'kenneth': 3245, 'awak': 3246, 'juvenil': 3247, 'prom': 3248, 'donna': 3249, 'brazil': 3250, 'eyr': 3251, 'evolv': 3252, 'coloni': 3253, 'horrid': 3254, 'pray': 3255, 'album': 3256, 'viciou': 3257, 'contrari': 3258, 'hollow': 3259, 'saint': 3260, 'marin': 3261, 'rambo': 3262, 'karen': 3263, 'kapoor': 3264, 'option': 3265, 'twelv': 3266, 'conserv': 3267, 'overr': 3268, 'candid': 3269, 'nerd': 3270, 'dose': 3271, 'ireland': 3272, 'mummi': 3273, 'blade': 3274, 'boast': 3275, 'stole': 3276, 'ramon': 3277, 'defi': 3278, 'beatti': 3279, 'mildr': 3280, 'protest': 3281, 'confirm': 3282, 'detract': 3283, 'trio': 3284, 'funer': 3285, 'collabor': 3286, 'kirk': 3287, 'natali': 3288, 'flame': 3289, 'global': 3290, 'fulci': 3291, 'altman': 3292, 'jazz': 3293, 'astonish': 3294, 'mystic': 3295, 'racial': 3296, 'leap': 3297, 'bottl': 3298, 'nicholson': 3299, 'shade': 3300, 'enterpris': 3301, 'audio': 3302, 'spit': 3303, 'yellow': 3304, 'blake': 3305, 'bull': 3306, 'destini': 3307, 'delici': 3308, 'whip': 3309, 'tommi': 3310, 'meaningless': 3311, 'inherit': 3312, 'merci': 3313, 'harder': 3314, 'reunit': 3315, 'fonda': 3316, 'altogeth': 3317, 'adolesc': 3318, 'visibl': 3319, 'bedroom': 3320, 'swedish': 3321, 'popcorn': 3322, 'vivid': 3323, 'pseudo': 3324, 'enchant': 3325, 'todd': 3326, 'threw': 3327, 'neo': 3328, 'staff': 3329, 'await': 3330, 'uneven': 3331, 'befriend': 3332, 'respond': 3333, 'wire': 3334, 'edi': 3335, 'kennedi': 3336, 'exhibit': 3337, 'atlanti': 3338, 'leonard': 3339, 'synopsi': 3340, 'roommat': 3341, 'reserv': 3342, 'fanat': 3343, 'crocodil': 3344, 'decor': 3345, 'tip': 3346, 'moodi': 3347, 'ruthless': 3348, 'suspici': 3349, 'bust': 3350, 'madonna': 3351, 'voight': 3352, 'lawrenc': 3353, 'jew': 3354, 'lemmon': 3355, 'chao': 3356, 'carl': 3357, 'centr': 3358, 'rural': 3359, 'audit': 3360, 'ventur': 3361, 'dimens': 3362, 'clint': 3363, 'voyag': 3364, 'garner': 3365, 'unsettl': 3366, 'abysm': 3367, '2007': 3368, 'incident': 3369, 'clumsi': 3370, 'bradi': 3371, 'bargain': 3372, 'holli': 3373, 'bold': 3374, 'palma': 3375, 'wealth': 3376, 'poetic': 3377, 'daddi': 3378, 'echo': 3379, 'immigr': 3380, 'cari': 3381, 'nearbi': 3382, 'characterist': 3383, 'mall': 3384, '2nd': 3385, 'lit': 3386, 'humili': 3387, 'ant': 3388, 'imperson': 3389, 'tiger': 3390, 'troop': 3391, 'cd': 3392, 'elimin': 3393, 'neglect': 3394, 'cuba': 3395, 'acknowledg': 3396, 'hart': 3397, 'trail': 3398, 'versu': 3399, 'timon': 3400, 'domest': 3401, 'paus': 3402, 'mistaken': 3403, 'collaps': 3404, 'jeffrey': 3405, 'prejudic': 3406, 'solo': 3407, 'celluloid': 3408, 'saga': 3409, 'mickey': 3410, 'infect': 3411, 'pun': 3412, 'repuls': 3413, 'homer': 3414, 'marshal': 3415, 'assembl': 3416, 'ginger': 3417, 'harvey': 3418, 'inan': 3419, 'promin': 3420, 'undoubtedli': 3421, 'chest': 3422, 'olivi': 3423, 'pant': 3424, 'equip': 3425, 'leon': 3426, 'coffe': 3427, 'coat': 3428, 'gear': 3429, 'milk': 3430, 'apolog': 3431, '1996': 3432, 'sore': 3433, 'inappropri': 3434, 'interrupt': 3435, 'hbo': 3436, 'cake': 3437, 'tribe': 3438, 'highest': 3439, 'devast': 3440, 'embrac': 3441, 'primari': 3442, 'colleagu': 3443, 'pen': 3444, 'consum': 3445, 'retain': 3446, 'aveng': 3447, 'exot': 3448, 'pot': 3449, 'trace': 3450, 'florida': 3451, 'humbl': 3452, 'furthermor': 3453, 'airplan': 3454, 'instant': 3455, 'polanski': 3456, 'solut': 3457, 'colonel': 3458, 'vulgar': 3459, 'institut': 3460, 'maggi': 3461, 'brooklyn': 3462, 'jenni': 3463, 'ya': 3464, 'illog': 3465, 'gender': 3466, 'poke': 3467, 'descend': 3468, '1999': 3469, 'bowl': 3470, 'wive': 3471, 'disabl': 3472, 'rick': 3473, 'principl': 3474, 'seduct': 3475, 'sale': 3476, 'outer': 3477, 'strain': 3478, '3rd': 3479, 'smaller': 3480, 'godzilla': 3481, 'linda': 3482, 'dutch': 3483, 'cope': 3484, 'dian': 3485, 'yard': 3486, 'dud': 3487, 'dive': 3488, 'blatant': 3489, 'hal': 3490, 'lol': 3491, 'mixtur': 3492, 'scope': 3493, 'devoid': 3494, 'primarili': 3495, 'glamor': 3496, 'cue': 3497, 'gloriou': 3498, 'vast': 3499, 'secondli': 3500, 'rabbit': 3501, 'beneath': 3502, 'inferior': 3503, 'bubbl': 3504, 'predecessor': 3505, 'gundam': 3506, 'hideou': 3507, 'simplist': 3508, 'shelf': 3509, 'shirley': 3510, 'disjoint': 3511, 'museum': 3512, 'casual': 3513, 'countrysid': 3514, 'invas': 3515, 'et': 3516, 'pearl': 3517, 'aggress': 3518, 'alfr': 3519, 'myer': 3520, 'talki': 3521, 'breed': 3522, 'senseless': 3523, 'alert': 3524, 'z': 3525, 'trademark': 3526, 'april': 3527, 'garbo': 3528, 'arab': 3529, 'streep': 3530, 'grinch': 3531, 'domino': 3532, 'defens': 3533, 'mail': 3534, 'acid': 3535, 'illeg': 3536, 'stir': 3537, 'loyal': 3538, 'sh': 3539, 'stack': 3540, 'obtain': 3541, 'khan': 3542, 'disgrac': 3543, 'vanish': 3544, 'robberi': 3545, 'stellar': 3546, 'hopeless': 3547, 'hardcor': 3548, 'unhappi': 3549, 'robinson': 3550, 'slide': 3551, 'oz': 3552, 'experiment': 3553, 'mayor': 3554, 'rendit': 3555, 'boom': 3556, 'applaud': 3557, 'uwe': 3558, 'maci': 3559, 'grandfath': 3560, 'wont': 3561, 'berlin': 3562, 'dicken': 3563, 'diana': 3564, 'counter': 3565, 'fri': 3566, 'soccer': 3567, 'recruit': 3568, 'declin': 3569, 'craze': 3570, 'topless': 3571, 'span': 3572, 'tenant': 3573, 'amanda': 3574, 'incomprehens': 3575, 'emphasi': 3576, 'tempt': 3577, 'scroog': 3578, 'hartley': 3579, 'spider': 3580, 'psychic': 3581, 'blew': 3582, 'rifl': 3583, 'dismiss': 3584, 'trashi': 3585, 'shed': 3586, 'goer': 3587, 'porno': 3588, 'woo': 3589, 'faster': 3590, 'revolt': 3591, 'lumet': 3592, 'sibl': 3593, 'shaw': 3594, 'resurrect': 3595, 'wet': 3596, 'bitch': 3597, 'intim': 3598, 'sympath': 3599, 'riot': 3600, 'justin': 3601, 'ration': 3602, 'ethnic': 3603, 'parad': 3604, 'niro': 3605, 'unreal': 3606, 'weakest': 3607, '00': 3608, 'immort': 3609, 'dealer': 3610, 'commend': 3611, 'eager': 3612, 'gap': 3613, 'partial': 3614, 'region': 3615, 'biographi': 3616, 'hesit': 3617, 'mario': 3618, 'honesti': 3619, 'choru': 3620, 'nephew': 3621, 'andr': 3622, 'ballet': 3623, 'hopper': 3624, 'enlighten': 3625, 'farmer': 3626, 'patriot': 3627, 'feminist': 3628, 'slick': 3629, 'worm': 3630, 'rider': 3631, 'steam': 3632, 'jonathan': 3633, 'lena': 3634, 'wheel': 3635, 'ensur': 3636, 'wendi': 3637, 'similarli': 3638, 'sappi': 3639, 'nostalg': 3640, 'wore': 3641, 'confin': 3642, 'repress': 3643, 'victori': 3644, 'leo': 3645, 'charlott': 3646, 'kingdom': 3647, 'mutant': 3648, 'hung': 3649, 'vice': 3650, 'morri': 3651, 'skull': 3652, 'composit': 3653, 'psychopath': 3654, 'safeti': 3655, 'sandra': 3656, 'franco': 3657, 'util': 3658, 'owen': 3659, 'snap': 3660, 'properti': 3661, 'blunt': 3662, 'prequel': 3663, 'macarthur': 3664, 'despair': 3665, 'del': 3666, 'rambl': 3667, 'bumbl': 3668, 'compass': 3669, 'heartbreak': 3670, 'deed': 3671, '1972': 3672, 'pattern': 3673, 'bonu': 3674, 'miseri': 3675, 'exit': 3676, 'rocki': 3677, 'hyde': 3678, 'thru': 3679, 'drum': 3680, 'compens': 3681, 'dust': 3682, 'dalton': 3683, 'snl': 3684, 'rope': 3685, 'emperor': 3686, 'speci': 3687, 'valuabl': 3688, 'acquir': 3689, 'bergman': 3690, 'whoopi': 3691, 'strand': 3692, 'latin': 3693, 'kyle': 3694, 'repli': 3695, 'cg': 3696, 'tail': 3697, 'tad': 3698, 'montana': 3699, 'nervou': 3700, 'bow': 3701, 'farrel': 3702, 'recycl': 3703, 'drain': 3704, 'campbel': 3705, 'tonight': 3706, 'downhil': 3707, '35': 3708, 'mistress': 3709, 'pour': 3710, 'rotten': 3711, 'gimmick': 3712, 'bleed': 3713, 'oppress': 3714, 'carradin': 3715, 'percept': 3716, 'chess': 3717, 'romp': 3718, 'airport': 3719, 'orson': 3720, 'radic': 3721, 'olli': 3722, 'gal': 3723, 'slug': 3724, 'rapist': 3725, 'wacki': 3726, 'contempl': 3727, 'martian': 3728, 'da': 3729, 'roth': 3730, 'shelley': 3731, 'preach': 3732, 'heal': 3733, 'edgar': 3734, 'stilt': 3735, 'arguabl': 3736, 'arc': 3737, 'champion': 3738, 'paltrow': 3739, 'banal': 3740, 'slash': 3741, '1983': 3742, 'pervers': 3743, 'belt': 3744, 'unpredict': 3745, 'attorney': 3746, 'pervert': 3747, 'tooth': 3748, 'programm': 3749, 'mislead': 3750, 'melodi': 3751, 'taught': 3752, 'dazzl': 3753, 'pursuit': 3754, 'tackl': 3755, 'mesmer': 3756, 'uplift': 3757, 'maid': 3758, 'gambl': 3759, 'cleverli': 3760, 'tiresom': 3761, 'chicken': 3762, 'employe': 3763, 'closest': 3764, 'rubi': 3765, 'graham': 3766, 'raymond': 3767, 'plight': 3768, 'poem': 3769, 'vengeanc': 3770, 'passeng': 3771, 'orang': 3772, 'franki': 3773, 'conneri': 3774, 'bela': 3775, 'duval': 3776, 'vocal': 3777, 'sensat': 3778, 'dixon': 3779, 'virginia': 3780, 'marti': 3781, 'calm': 3782, 'bay': 3783, 'volum': 3784, 'secretli': 3785, 'amitabh': 3786, 'yawn': 3787, 'numb': 3788, 'outing': 3789, 'convincingli': 3790, 'profan': 3791, 'abraham': 3792, 'tube': 3793, 'scottish': 3794, 'clone': 3795, 'engross': 3796, 'swallow': 3797, 'climact': 3798, 'monologu': 3799, 'crystal': 3800, 'giggl': 3801, '1968': 3802, 'gerard': 3803, 'pokemon': 3804, 'quarter': 3805, 'iran': 3806, 'paranoia': 3807, 'suffic': 3808, 'mute': 3809, 'extens': 3810, 'whine': 3811, 'habit': 3812, 'lundgren': 3813, 'inject': 3814, 'sirk': 3815, 'junior': 3816, 'franci': 3817, 'fed': 3818, 'linger': 3819, 'profess': 3820, 'expand': 3821, 'dispos': 3822, 'chicago': 3823, 'surpass': 3824, 'septemb': 3825, 'bend': 3826, 'trend': 3827, 'ethan': 3828, 'earl': 3829, 'frankenstein': 3830, 'plod': 3831, 'lowest': 3832, 'taxi': 3833, 'abort': 3834, 'im': 3835, 'nichola': 3836, 'spock': 3837, 'backward': 3838, 'poetri': 3839, 'meander': 3840, 'richardson': 3841, 'underst': 3842, 'grotesqu': 3843, 'austen': 3844, 'dysfunct': 3845, 'catchi': 3846, 'eugen': 3847, 'tourist': 3848, 'mundan': 3849, 'econom': 3850, 'compliment': 3851, 'muddl': 3852, 'household': 3853, 'waitress': 3854, 'sue': 3855, 'nostalgia': 3856, 'hum': 3857, 'simplic': 3858, 'der': 3859, 'descent': 3860, 'stallon': 3861, 'rant': 3862, 'myth': 3863, 'greedi': 3864, 'spoke': 3865, 'literatur': 3866, 'lure': 3867, 'rubber': 3868, 'instrument': 3869, 'cannon': 3870, 'equival': 3871, 'louis': 3872, 'recognit': 3873, 'randi': 3874, 'occupi': 3875, 'irrelev': 3876, 'june': 3877, 'mortal': 3878, 'phoni': 3879, 'crucial': 3880, 'coast': 3881, 'bacal': 3882, 'hello': 3883, 'deaf': 3884, 'molli': 3885, 'stale': 3886, 'flee': 3887, 'sissi': 3888, 'duck': 3889, 'dictat': 3890, 'mankind': 3891, 'lang': 3892, 'alongsid': 3893, 'firstli': 3894, 'cent': 3895, 'insur': 3896, 'furi': 3897, 'eaten': 3898, 'map': 3899, 'dement': 3900, 'recognis': 3901, 'phantom': 3902, 'damon': 3903, 'omen': 3904, 'carel': 3905, 'heel': 3906, 'loyalti': 3907, 'antwon': 3908, 'distinguish': 3909, 'twilight': 3910, 'grayson': 3911, 'rude': 3912, 'wisdom': 3913, 'bump': 3914, 'buffalo': 3915, 'bike': 3916, 'reign': 3917, 'newli': 3918, 'lengthi': 3919, '1973': 3920, 'rooney': 3921, 'freez': 3922, 'ashley': 3923, 'daisi': 3924, 'blackmail': 3925, 'labor': 3926, 'biko': 3927, 'damm': 3928, 'drake': 3929, 'onlin': 3930, 'likewis': 3931, 'dreari': 3932, 'cyborg': 3933, 'pink': 3934, 'attribut': 3935, 'analysi': 3936, 'chronicl': 3937, 'approv': 3938, 'startl': 3939, 'baddi': 3940, 'incorpor': 3941, 'basketbal': 3942, 'emphas': 3943, 'butler': 3944, 'keith': 3945, 'prey': 3946, 'interior': 3947, 'ridden': 3948, 'worn': 3949, 'barrymor': 3950, 'vein': 3951, 'provoc': 3952, 'nineti': 3953, 'unorigin': 3954, 'boxer': 3955, 'tunnel': 3956, 'sailor': 3957, 'exposur': 3958, 'inher': 3959, 'proce': 3960, 'stalker': 3961, 'predat': 3962, 'othello': 3963, 'fleet': 3964, 'er': 3965, 'robbin': 3966, 'degrad': 3967, 'carla': 3968, 'barrel': 3969, 'unrel': 3970, 'walsh': 3971, 'julian': 3972, 'belushi': 3973, 'condemn': 3974, 'improvis': 3975, 'indiffer': 3976, 'hypnot': 3977, 'nicol': 3978, 'elm': 3979, 'undeni': 3980, 'mighti': 3981, 'simmon': 3982, 'underli': 3983, 'drift': 3984, 'substitut': 3985, 'bunni': 3986, 'millionair': 3987, 'meg': 3988, 'meyer': 3989, 'mormon': 3990, 'palac': 3991, '3d': 3992, 'watson': 3993, 'mtv': 3994, 'reid': 3995, 'greed': 3996, 'roof': 3997, 'priceless': 3998, 'firm': 3999, 'unawar': 4000, 'exquisit': 4001, 'shove': 4002, 'alison': 4003, 'alarm': 4004, 'edgi': 4005, 'enthusiasm': 4006, 'warmth': 4007, 'vital': 4008, 'disord': 4009, 'agenda': 4010, 'lampoon': 4011, 'dolph': 4012, 'novak': 4013, 'marion': 4014, 'errol': 4015, 'rukh': 4016, 'nyc': 4017, 'hay': 4018, 'coup': 4019, 'angela': 4020, 'campaign': 4021, 'cassidi': 4022, 'drip': 4023, 'israel': 4024, 'spain': 4025, 'minimum': 4026, 'testament': 4027, 'crown': 4028, '13th': 4029, 'ponder': 4030, 'pamela': 4031, 'profit': 4032, 'simultan': 4033, '1933': 4034, 'randomli': 4035, 'eastern': 4036, 'petti': 4037, 'gestur': 4038, 'unleash': 4039, 'sergeant': 4040, 'session': 4041, 'preserv': 4042, 'distort': 4043, 'thompson': 4044, 'what': 4045, 'championship': 4046, 'showdown': 4047, 'zizek': 4048, 'glanc': 4049, 'beatl': 4050, 'nun': 4051, 'peril': 4052, 'iraq': 4053, 'orlean': 4054, 'peck': 4055, 'valentin': 4056, 'rout': 4057, 'stake': 4058, 'contradict': 4059, 'empathi': 4060, 'calib': 4061, 'reson': 4062, 'crawl': 4063, 'unimagin': 4064, 'brenda': 4065, 'restrain': 4066, 'regist': 4067, 'jan': 4068, 'valley': 4069, 'exposit': 4070, 'wig': 4071, 'crow': 4072, 'scotland': 4073, 'quinn': 4074, 'travesti': 4075, 'shootout': 4076, 'fido': 4077, 'kurosawa': 4078, 'perpetu': 4079, 'represent': 4080, 'cooki': 4081, 'bro': 4082, 'sabrina': 4083, 'han': 4084, 'climat': 4085, 'din': 4086, 'realm': 4087, 'mon': 4088, 'buster': 4089, 'gentleman': 4090, 'cream': 4091, 'miyazaki': 4092, '1984': 4093, 'stroke': 4094, 'delic': 4095, 'monoton': 4096, 'darren': 4097, 'geek': 4098, 'greg': 4099, 'shoddi': 4100, '1997': 4101, 'absent': 4102, 'pretens': 4103, 'sammi': 4104, 'unseen': 4105, 'demis': 4106, 'shaki': 4107, 'wax': 4108, 'passabl': 4109, 'stargat': 4110, 'pole': 4111, 'josh': 4112, 'perceiv': 4113, 'derang': 4114, 'femm': 4115, 'painter': 4116, 'abomin': 4117, 'cloud': 4118, 'censor': 4119, 'businessman': 4120, 'baldwin': 4121, 'tacki': 4122, 'compromis': 4123, 'soderbergh': 4124, 'traumat': 4125, 'warrant': 4126, 'unsatisfi': 4127, 'ustinov': 4128, 'ross': 4129, 'sucker': 4130, 'spacey': 4131, 'meryl': 4132, 'distress': 4133, 'mclaglen': 4134, 'dana': 4135, 'crawford': 4136, '1987': 4137, 'fuller': 4138, 'exclus': 4139, 'kumar': 4140, 'judgment': 4141, 'seal': 4142, 'tech': 4143, 'unravel': 4144, 'verbal': 4145, '1993': 4146, 'primit': 4147, 'jewel': 4148, 'polici': 4149, 'uncov': 4150, 'correctli': 4151, 'deniro': 4152, 'valid': 4153, 'expedit': 4154, 'clash': 4155, 'norm': 4156, 'wholli': 4157, 'tarantino': 4158, 'fenc': 4159, 'furiou': 4160, 'anchor': 4161, 'austin': 4162, 'antonioni': 4163, 'nathan': 4164, 'accuraci': 4165, 'dee': 4166, 'click': 4167, 'fog': 4168, 'reluct': 4169, 'sid': 4170, 'deceas': 4171, 'fart': 4172, 'trait': 4173, 'pocket': 4174, '2008': 4175, 'darn': 4176, 'temper': 4177, 'sunni': 4178, 'behold': 4179, 'joel': 4180, 'roller': 4181, 'wang': 4182, 'wretch': 4183, 'fabric': 4184, 'nicola': 4185, 'fought': 4186, 'sustain': 4187, '3000': 4188, 'seldom': 4189, 'unfair': 4190, 'alec': 4191, 'bake': 4192, 'tax': 4193, '1971': 4194, 'shanghai': 4195, 'crippl': 4196, 'clerk': 4197, 'murray': 4198, 'patienc': 4199, 'debt': 4200, 'ritual': 4201, 'mode': 4202, 'vanc': 4203, 'sand': 4204, 'sheet': 4205, 'logan': 4206, 'dreck': 4207, 'malon': 4208, 'slam': 4209, 'hallucin': 4210, '1995': 4211, 'enforc': 4212, 'conduct': 4213, 'schedul': 4214, 'canyon': 4215, 'soup': 4216, 'exhaust': 4217, 'helpless': 4218, 'preston': 4219, 'clau': 4220, 'robber': 4221, 'bias': 4222, 'divid': 4223, 'preposter': 4224, 'technicolor': 4225, 'legaci': 4226, 'rita': 4227, 'isabel': 4228, 'scriptwrit': 4229, 'outlin': 4230, 'pete': 4231, 'critiqu': 4232, 'bridget': 4233, 'conscious': 4234, 'fundament': 4235, 'squad': 4236, 'guitar': 4237, 'stuart': 4238, 'phil': 4239, 'shell': 4240, 'sweep': 4241, 'despis': 4242, 'stark': 4243, 'grief': 4244, 'runner': 4245, 'penni': 4246, 'tactic': 4247, 'sniper': 4248, 'jacket': 4249, 'consciou': 4250, 'bloom': 4251, 'implic': 4252, 'sugar': 4253, 'boyl': 4254, 'palanc': 4255, 'cigarett': 4256, 'flair': 4257, 'drove': 4258, 'culmin': 4259, 'alley': 4260, 'vomit': 4261, 'jodi': 4262, 'downey': 4263, 'rehash': 4264, 'agenc': 4265, 'kansa': 4266, 'newman': 4267, 'marc': 4268, 'inabl': 4269, 'invad': 4270, 'russia': 4271, 'lacklust': 4272, 'unexpectedli': 4273, 'restrict': 4274, 'gregori': 4275, 'passag': 4276, 'liberti': 4277, 'sentinel': 4278, 'alicia': 4279, 'delv': 4280, 'propos': 4281, 'rear': 4282, 'connor': 4283, 'kolchak': 4284, 'asylum': 4285, 'foxx': 4286, 'ladder': 4287, 'sharon': 4288, 'pale': 4289, 'rampag': 4290, 'aesthet': 4291, 'wrench': 4292, 'chainsaw': 4293, 'delet': 4294, 'rod': 4295, 'bacon': 4296, 'tendenc': 4297, 'mccoy': 4298, 'lush': 4299, 'rehears': 4300, '22': 4301, 'feat': 4302, 'karl': 4303, '1936': 4304, 'cap': 4305, 'improb': 4306, 'arrow': 4307, 'behaviour': 4308, 'awhil': 4309, 'horn': 4310, 'tripe': 4311, 'yeti': 4312, 'vet': 4313, 'elit': 4314, 'filler': 4315, 'financ': 4316, 'weav': 4317, 'hackney': 4318, '1920': 4319, 'paramount': 4320, 'hulk': 4321, '1988': 4322, 'suffici': 4323, 'prank': 4324, 'coaster': 4325, 'loneli': 4326, 'conscienc': 4327, 'wildli': 4328, 'stream': 4329, 'hungri': 4330, 'tasteless': 4331, '1978': 4332, 'tomorrow': 4333, 'shortcom': 4334, 'amazon': 4335, 'newcom': 4336, 'paradis': 4337, 'basing': 4338, 'aristocrat': 4339, '19th': 4340, 'underneath': 4341, 'sung': 4342, 'lurk': 4343, 'visitor': 4344, 'fright': 4345, 'minu': 4346, 'globe': 4347, 'wagner': 4348, 'rhythm': 4349, 'el': 4350, 'rumor': 4351, 'scoop': 4352, 'thunderbird': 4353, 'suspicion': 4354, 'spice': 4355, 'chavez': 4356, 'smell': 4357, 'abrupt': 4358, 'couch': 4359, 'straightforward': 4360, 'bread': 4361, 'atroc': 4362, 'beverli': 4363, 'penn': 4364, 'en': 4365, 'worship': 4366, 'rub': 4367, 'entranc': 4368, 'counterpart': 4369, 'quietli': 4370, 'chamberlain': 4371, 'ingeni': 4372, 'literari': 4373, 'standout': 4374, 'heist': 4375, '1939': 4376, 'curli': 4377, 'recogniz': 4378, 'immers': 4379, 'impos': 4380, 'leigh': 4381, 'cancer': 4382, 'minist': 4383, 'naughti': 4384, 'choppi': 4385, 'inmat': 4386, 'hopkin': 4387, '1989': 4388, 'secondari': 4389, 'lectur': 4390, 'dirt': 4391, 'wwe': 4392, 'tierney': 4393, 'teas': 4394, 'ram': 4395, 'brit': 4396, 'springer': 4397, 'posey': 4398, '75': 4399, 'iv': 4400, 'grudg': 4401, 'paxton': 4402, 'policeman': 4403, 'transcend': 4404, 'cattl': 4405, 'moreov': 4406, 'morbid': 4407, 'sassi': 4408, 'convert': 4409, 'laurenc': 4410, 'esther': 4411, 'lindsay': 4412, 'misguid': 4413, 'bernard': 4414, 'duel': 4415, 'clan': 4416, 'skeptic': 4417, 'net': 4418, 'entitl': 4419, 'watcher': 4420, '1986': 4421, 'quaid': 4422, 'missil': 4423, 'sublim': 4424, 'variat': 4425, 'enthral': 4426, 'ratso': 4427, 'nemesi': 4428, 'heartfelt': 4429, 'injuri': 4430, 'ace': 4431, 'nolan': 4432, 'attenborough': 4433, 'yearn': 4434, 'geni': 4435, 'out': 4436, 'artsi': 4437, 'brood': 4438, 'egg': 4439, 'enabl': 4440, 'grin': 4441, 'characteris': 4442, 'poe': 4443, 'mytholog': 4444, 'dont': 4445, 'kitti': 4446, 'tyler': 4447, 'graini': 4448, 'facil': 4449, 'moder': 4450, 'spiral': 4451, 'bye': 4452, 'unexplain': 4453, 'buzz': 4454, 'cruelti': 4455, 'steadi': 4456, 'hopelessli': 4457, 'kidman': 4458, 'vader': 4459, 'setup': 4460, 'obstacl': 4461, 'rosemari': 4462, 'youngest': 4463, 'puppi': 4464, 'diari': 4465, 'reliabl': 4466, 'uncut': 4467, '1979': 4468, 'hk': 4469, 'bean': 4470, 'carlito': 4471, 'bewar': 4472, 'fuel': 4473, 'bronson': 4474, 'weather': 4475, 'oblig': 4476, 'baffl': 4477, 'effici': 4478, 'hammi': 4479, 'heap': 4480, 'hain': 4481, 'patricia': 4482, 'despic': 4483, 'gina': 4484, 'narrow': 4485, '1969': 4486, 'niec': 4487, 'acquaint': 4488, 'kline': 4489, 'clueless': 4490, 'bounc': 4491, 'decept': 4492, 'athlet': 4493, 'brendan': 4494, 'preming': 4495, 'exterior': 4496, 'disastr': 4497, 'christin': 4498, 'underworld': 4499, 'martha': 4500, 'gillian': 4501, 'spontan': 4502, 'sweat': 4503, '73': 4504, 'renaiss': 4505, '19': 4506, 'dilemma': 4507, 'biker': 4508, 'shatter': 4509, 'analyz': 4510, 'angst': 4511, 'lester': 4512, 'goof': 4513, 'scar': 4514, 'viewpoint': 4515, 'circu': 4516, 'astound': 4517, 'virtu': 4518, 'sooner': 4519, 'harmless': 4520, 'candl': 4521, 'preachi': 4522, 'headach': 4523, 'enlist': 4524, 'rome': 4525, 'trigger': 4526, 'insipid': 4527, 'loi': 4528, 'mayhem': 4529, 'fontain': 4530, 'suprem': 4531, 'tick': 4532, 'outlaw': 4533, 'housewif': 4534, 'hepburn': 4535, 'taboo': 4536, 'injur': 4537, 'loath': 4538, 'mermaid': 4539, 'sleepwalk': 4540, 'uh': 4541, 'dandi': 4542, 'dismal': 4543, 'oldest': 4544, 'redund': 4545, 'hooker': 4546, 'contempt': 4547, 'scorses': 4548, 'camcord': 4549, 'spade': 4550, 'surgeri': 4551, 'stimul': 4552, 'filth': 4553, 'fluff': 4554, 'foolish': 4555, 'macho': 4556, 'bent': 4557, 'zoom': 4558, 'hokey': 4559, 'claustrophob': 4560, 'overlong': 4561, 'whore': 4562, 'stair': 4563, 'tripl': 4564, 'hostag': 4565, 'immatur': 4566, 'idol': 4567, 'amor': 4568, 'dish': 4569, 'slimi': 4570, 'intric': 4571, 'glorifi': 4572, 'steer': 4573, 'salt': 4574, 'ebert': 4575, 'sox': 4576, 'cassavet': 4577, 'phenomenon': 4578, 'gere': 4579, 'boston': 4580, 'ariel': 4581, 'guin': 4582, 'corbett': 4583, 'strongest': 4584, 'assert': 4585, 'preced': 4586, 'proport': 4587, 'faint': 4588, 'transplant': 4589, 'perman': 4590, 'harold': 4591, 'cush': 4592, 'cow': 4593, 'beard': 4594, 'keen': 4595, '1976': 4596, 'flirt': 4597, 'trivia': 4598, 'obligatori': 4599, 'messi': 4600, 'nolt': 4601, 'gabl': 4602, 'frantic': 4603, 'joker': 4604, 'radiat': 4605, 'spinal': 4606, 'shred': 4607, 'remad': 4608, 'margin': 4609, 'gasp': 4610, 'shield': 4611, 'muscl': 4612, 'flashi': 4613, 'spree': 4614, 'widescreen': 4615, 'corman': 4616, 'mount': 4617, 'alvin': 4618, '1981': 4619, 'down': 4620, 'cohen': 4621, 'mutual': 4622, 'rhyme': 4623, 'dwarf': 4624, 'antagonist': 4625, 'schlock': 4626, 'astronaut': 4627, 'conquer': 4628, 'naschi': 4629, 'fascist': 4630, 'zane': 4631, 'flag': 4632, '28': 4633, 'strive': 4634, 'discern': 4635, 'scandal': 4636, 'hara': 4637, 'aborigin': 4638, 'flock': 4639, 'bitten': 4640, 'repris': 4641, 'off': 4642, '1945': 4643, 'departur': 4644, 'neurot': 4645, 'fishburn': 4646, 'claud': 4647, 'persuad': 4648, 'raj': 4649, 'resum': 4650, 'divin': 4651, 'danish': 4652, 'sensual': 4653, 'archiv': 4654, 'inflict': 4655, 'instruct': 4656, 'mol': 4657, 'brush': 4658, 'wield': 4659, 'carey': 4660, 'mobil': 4661, 'info': 4662, 'vaniti': 4663, 'ritchi': 4664, 'someday': 4665, 'barn': 4666, 'deer': 4667, 'interestingli': 4668, 'triangl': 4669, 'boob': 4670, '95': 4671, 'www': 4672, 'bachelor': 4673, 'hug': 4674, 'kathryn': 4675, 'senior': 4676, 'axe': 4677, 'pixar': 4678, 'dylan': 4679, 'fragil': 4680, 'casino': 4681, 'jade': 4682, 'traffic': 4683, 'miracul': 4684, 'recit': 4685, 'artwork': 4686, 'carlo': 4687, 'ish': 4688, 'pickford': 4689, 'rot': 4690, 'wendigo': 4691, 'dame': 4692, 'parson': 4693, 'luka': 4694, 'hapless': 4695, 'submit': 4696, 'cliffhang': 4697, 'proclaim': 4698, 'colin': 4699, 'helm': 4700, 'cb': 4701, 'vibrant': 4702, 'earnest': 4703, 'hilar': 4704, 'banter': 4705, 'dim': 4706, 'europa': 4707, 'undermin': 4708, 'cher': 4709, 'mobster': 4710, 'bate': 4711, 'frontier': 4712, 'melissa': 4713, 'harrison': 4714, 'prophet': 4715, 'timberlak': 4716, 'neill': 4717, 'pacif': 4718, 'heartwarm': 4719, 'clad': 4720, 'cycl': 4721, 'anton': 4722, 'biblic': 4723, 'loretta': 4724, 'jo': 4725, 'redneck': 4726, 'mathieu': 4727, 'illus': 4728, 'antholog': 4729, 'seedi': 4730, 'uma': 4731, 'pc': 4732, 'orphan': 4733, 'isra': 4734, 'flavor': 4735, 'feast': 4736, 'blatantli': 4737, 'northern': 4738, 'mason': 4739, 'bikini': 4740, 'holocaust': 4741, 'marlon': 4742, 'token': 4743, 'legitim': 4744, 'winchest': 4745, 'trier': 4746, 'sicken': 4747, 'akin': 4748, 'breakfast': 4749, 'estrang': 4750, 'foil': 4751, 'alexandr': 4752, 'jordan': 4753, 'choke': 4754, 'toronto': 4755, 'misfortun': 4756, 'static': 4757, 'articl': 4758, 'vile': 4759, 'shepherd': 4760, 'electron': 4761, 'lucil': 4762, 'bondag': 4763, 'wardrob': 4764, 'nope': 4765, 'eli': 4766, 'aris': 4767, 'lui': 4768, 'razor': 4769, 'milo': 4770, 'cerebr': 4771, 'venom': 4772, 'vanessa': 4773, 'rooki': 4774, 'http': 4775, 'disregard': 4776, 'oppon': 4777, 'howl': 4778, 'tack': 4779, 'clinic': 4780, 'linear': 4781, 'psych': 4782, 'abund': 4783, 'feminin': 4784, 'charlton': 4785, 'retriev': 4786, 'affleck': 4787, 'cartoonish': 4788, 'boyer': 4789, 'nightclub': 4790, 'deem': 4791, 'swept': 4792, 'comprehend': 4793, 'ceremoni': 4794, 'highway': 4795, 'gilbert': 4796, 'turd': 4797, 'outdat': 4798, 'styliz': 4799, 'frog': 4800, 'ideolog': 4801, 'fifth': 4802, 'huston': 4803, 'glare': 4804, 'audrey': 4805, 'wrestler': 4806, 'peer': 4807, 'magician': 4808, 'leather': 4809, 'smack': 4810, 'knightley': 4811, 'gunga': 4812, 'shorter': 4813, 'dudley': 4814, 'cemeteri': 4815, 'durat': 4816, 'collector': 4817, 'chip': 4818, 'summar': 4819, 'monument': 4820, 'snatch': 4821, 'compris': 4822, '4th': 4823, 'boo': 4824, 'plate': 4825, 'greet': 4826, 'moe': 4827, 'breakdown': 4828, 'conrad': 4829, 'deliver': 4830, 'whack': 4831, 'lighter': 4832, 'goldsworthi': 4833, '1994': 4834, '1991': 4835, 'uniformli': 4836, 'corn': 4837, 'client': 4838, 'newer': 4839, 'spine': 4840, 'energet': 4841, 'sleaz': 4842, 'senat': 4843, 'evolut': 4844, 'btw': 4845, 'spawn': 4846, 'lavish': 4847, 'potter': 4848, 'mitch': 4849, 'phenomen': 4850, 'salman': 4851, 'lifeless': 4852, 'bogu': 4853, 'braveheart': 4854, 'tara': 4855, 'toe': 4856, 'cuban': 4857, 'einstein': 4858, 'bastard': 4859, 'inaccuraci': 4860, 'replay': 4861, 'historian': 4862, 'belli': 4863, 'ol': 4864, 'trauma': 4865, 'jam': 4866, 'signal': 4867, 'spectacl': 4868, 'undead': 4869, 'lex': 4870, 'outright': 4871, 'jule': 4872, 'liu': 4873, '1974': 4874, 'cecil': 4875, 'neatli': 4876, 'nina': 4877, 'luxuri': 4878, 'bulk': 4879, 'mcqueen': 4880, 'capot': 4881, 'occup': 4882, 'creek': 4883, 'randolph': 4884, 'embark': 4885, 'eleven': 4886, 'sorrow': 4887, '1977': 4888, 'kent': 4889, 'appl': 4890, 'jedi': 4891, 'judd': 4892, 'kazan': 4893, 'healthi': 4894, 'firmli': 4895, 'gilliam': 4896, 'clara': 4897, 'bori': 4898, 'pronounc': 4899, 'fluid': 4900, 'jare': 4901, 'wtf': 4902, 'armstrong': 4903, 'ie': 4904, 'alleg': 4905, 'undertak': 4906, 'constitut': 4907, 'evelyn': 4908, 'inclus': 4909, 'forgiven': 4910, 'comb': 4911, 'mum': 4912, 'groan': 4913, 'vain': 4914, 'porter': 4915, 'roar': 4916, 'cape': 4917, 'aussi': 4918, 'decapit': 4919, 'inaccur': 4920, 'congratul': 4921, 'miniseri': 4922, 'poker': 4923, 'curtain': 4924, 'rosario': 4925, 'truman': 4926, 'pioneer': 4927, 'propheci': 4928, 'abound': 4929, 'knee': 4930, 'bait': 4931, 'vignett': 4932, 'unattract': 4933, 'relentless': 4934, 'fruit': 4935, 'lauren': 4936, 'palm': 4937, 'lanc': 4938, 'unsuspect': 4939, 'goldblum': 4940, 'ash': 4941, 'sacrif': 4942, 'conan': 4943, 'galaxi': 4944, 'walt': 4945, 'sidewalk': 4946, 'kiddi': 4947, 'miami': 4948, 'comprehens': 4949, 'spray': 4950, 'blur': 4951, 'carmen': 4952, 'meal': 4953, 'tokyo': 4954, 'basket': 4955, 'bsg': 4956, 'subtli': 4957, 'genet': 4958, 'pepper': 4959, 'antonio': 4960, 'id': 4961, 'paula': 4962, '1985': 4963, 'weaker': 4964, 'spill': 4965, 'casper': 4966, 'weari': 4967, 'victorian': 4968, 'bach': 4969, 'ghetto': 4970, 'motorcycl': 4971, 'sparkl': 4972, 'rapidli': 4973, 'playboy': 4974, 'handicap': 4975, 'hackman': 4976, 'ingrid': 4977, 'assort': 4978, 'omin': 4979, 'jill': 4980, 'detach': 4981, 'scariest': 4982, 'evan': 4983, 'masterson': 4984, 'epitom': 4985, 'asset': 4986, 'monti': 4987, 'profil': 4988, 'hostil': 4989, 'dubiou': 4990, 'orchestr': 4991, 'frontal': 4992, 'optimist': 4993, 'vastli': 4994, 'drone': 4995, 'bravo': 4996, 'macabr': 4997, 'reincarn': 4998, 'sophi': 4999}\n"
     ]
    }
   ],
   "source": [
    "# TODO: Use this space to determine the five most frequently appearing words in the training set.\n",
    "print(word_dict)"
   ]
  },
  {
   "cell_type": "markdown",
   "metadata": {},
   "source": [
    "### Save `word_dict`\n",
    "\n",
    "Later on when we construct an endpoint which processes a submitted review we will need to make use of the `word_dict` which we have created. As such, we will save it to a file now for future use."
   ]
  },
  {
   "cell_type": "code",
   "execution_count": 28,
   "metadata": {},
   "outputs": [],
   "source": [
    "data_dir = '../data/pytorch' # The folder we will use for storing data\n",
    "if not os.path.exists(data_dir): # Make sure that the folder exists\n",
    "    os.makedirs(data_dir)"
   ]
  },
  {
   "cell_type": "code",
   "execution_count": 29,
   "metadata": {},
   "outputs": [],
   "source": [
    "with open(os.path.join(data_dir, 'word_dict.pkl'), \"wb\") as f:\n",
    "    pickle.dump(word_dict, f)"
   ]
  },
  {
   "cell_type": "markdown",
   "metadata": {},
   "source": [
    "### Transform the reviews\n",
    "\n",
    "Now that we have our word dictionary which allows us to transform the words appearing in the reviews into integers, it is time to make use of it and convert our reviews to their integer sequence representation, making sure to pad or truncate to a fixed length, which in our case is `500`."
   ]
  },
  {
   "cell_type": "code",
   "execution_count": 30,
   "metadata": {},
   "outputs": [],
   "source": [
    "def convert_and_pad(word_dict, sentence, pad=500):\n",
    "    NOWORD = 0 # We will use 0 to represent the 'no word' category\n",
    "    INFREQ = 1 # and we use 1 to represent the infrequent words, i.e., words not appearing in word_dict\n",
    "    \n",
    "    working_sentence = [NOWORD] * pad\n",
    "    \n",
    "    for word_index, word in enumerate(sentence[:pad]):\n",
    "        if word in word_dict:\n",
    "            working_sentence[word_index] = word_dict[word]\n",
    "        else:\n",
    "            working_sentence[word_index] = INFREQ\n",
    "            \n",
    "    return working_sentence, min(len(sentence), pad)\n",
    "\n",
    "def convert_and_pad_data(word_dict, data, pad=500):\n",
    "    result = []\n",
    "    lengths = []\n",
    "    \n",
    "    for sentence in data:\n",
    "        converted, leng = convert_and_pad(word_dict, sentence, pad)\n",
    "        result.append(converted)\n",
    "        lengths.append(leng)\n",
    "        \n",
    "    return np.array(result), np.array(lengths)"
   ]
  },
  {
   "cell_type": "code",
   "execution_count": 31,
   "metadata": {},
   "outputs": [],
   "source": [
    "train_X, train_X_len = convert_and_pad_data(word_dict, train_X)\n",
    "test_X, test_X_len = convert_and_pad_data(word_dict, test_X)"
   ]
  },
  {
   "cell_type": "markdown",
   "metadata": {},
   "source": [
    "As a quick check to make sure that things are working as intended, check to see what one of the reviews in the training set looks like after having been processeed. Does this look reasonable? What is the length of a review in the training set?"
   ]
  },
  {
   "cell_type": "code",
   "execution_count": 32,
   "metadata": {},
   "outputs": [
    {
     "name": "stdout",
     "output_type": "stream",
     "text": [
      "[  14   74   37   13   22 1870  814 1054    3   33  139    5  572  529\n",
      " 3782 2336  345    1 4356 2917 2811   49   55    1  854    1    8  629\n",
      " 2196 2162 2258    1  572 1516 2709 3376   39 2432  941  501    1  473\n",
      "  974    1 2368  554 1611 4674 1593 1758   23  716 1963    1 1710  524\n",
      "    1  163   23  559    4  398   34 3439  574  925 2918  196  189    1\n",
      "  255   58   45    1    1  226  475  462  768  446    1    1 4314  340\n",
      " 1079 2162  811 3376  312 2363    1    4 1913  499  169    3  996    1\n",
      "    1 2051  345 4139 2937  979 1769    1  879  792 2519  101  231    1\n",
      "  133  345 4472 3401 2907   36 4356  378    1  190  424  212 1250  510\n",
      "    3  932 4356  746   66  967  133   13 3560 1934 3377  127   74    1\n",
      "   14    1  196  351    5  135 2368 2286  167 2720 1451 2336   87 2295\n",
      "  370 4019 1820  167 1845 3281 1980 1787  378  255 4057  136  101 2721\n",
      "    1 3991   37 1313 4356  378  498 2004   79  467   41  263  145 4248\n",
      "    1  159  645 4356  378  645   64  535 3871 1380 1496   20  468  645\n",
      "  920 4356  378 2529 3281  291  613   64  746 3281  578 1581 3281  493\n",
      "  148 4057 2566   38  855 1581  578  445    1 1104 4356 1647  168 1345\n",
      "  669 1655    1 2172  167 4356  997 1290  556    1    1    1  998 4019\n",
      "   11    1 1582 2172  772    1    1  168 1787  462    1 4776   75  378\n",
      " 4777 2662  584  471  328    1  634  255  462 1137 4019 1313 3991 1663\n",
      " 1332 4356  715    1  564    1 1453    1    1  170    1  915 1344 3330\n",
      "   48   97  666    1  646  564 2108 2055 2394 1225 2771  113 1832  258\n",
      " 2851 2678    1  316 2220 2720    1   12    2   61 1599    1 4356    1\n",
      "   97 1582   37   82    1    1 1096    1 2730  865 2919 2919  335    6\n",
      " 1091 1338   66  603 2720 3816   51  939 2432  691 1758    1   23  732\n",
      "  134 4019  376 2457    3 2457   55 2457  462  987  584    1  165   13\n",
      " 1851  384    1   93  454    1    1 3991    1   18 3356  585 2617  144\n",
      " 1935 2618 3198  195  240    0    0    0    0    0    0    0    0    0\n",
      "    0    0    0    0    0    0    0    0    0    0    0    0    0    0\n",
      "    0    0    0    0    0    0    0    0    0    0    0    0    0    0\n",
      "    0    0    0    0    0    0    0    0    0    0    0    0    0    0\n",
      "    0    0    0    0    0    0    0    0    0    0    0    0    0    0\n",
      "    0    0    0    0    0    0    0    0    0    0    0    0    0    0\n",
      "    0    0    0    0    0    0    0    0    0    0    0    0    0    0\n",
      "    0    0    0    0    0    0    0    0    0    0    0    0    0    0\n",
      "    0    0    0    0    0    0    0    0    0    0    0    0    0    0\n",
      "    0    0    0    0    0    0    0    0    0    0] 369\n"
     ]
    }
   ],
   "source": [
    "# Use this cell to examine one of the processed reviews to make sure everything is working as intended.\n",
    "print(train_X[2],train_X_len[2])"
   ]
  },
  {
   "cell_type": "markdown",
   "metadata": {},
   "source": [
    "**Question:** In the cells above we use the `preprocess_data` and `convert_and_pad_data` methods to process both the training and testing set. Why or why not might this be a problem?"
   ]
  },
  {
   "cell_type": "markdown",
   "metadata": {},
   "source": [
    "**Answer:**\n",
    "I think it is necessary to use the same methods for both sets as they need to be consistent in size and padding.\n"
   ]
  },
  {
   "cell_type": "markdown",
   "metadata": {},
   "source": [
    "## Step 3: Upload the data to S3\n",
    "\n",
    "As in the XGBoost notebook, we will need to upload the training dataset to S3 in order for our training code to access it. For now we will save it locally and we will upload to S3 later on.\n",
    "\n",
    "### Save the processed training dataset locally\n",
    "\n",
    "It is important to note the format of the data that we are saving as we will need to know it when we write the training code. In our case, each row of the dataset has the form `label`, `length`, `review[500]` where `review[500]` is a sequence of `500` integers representing the words in the review."
   ]
  },
  {
   "cell_type": "code",
   "execution_count": 33,
   "metadata": {},
   "outputs": [],
   "source": [
    "import pandas as pd\n",
    "    \n",
    "pd.concat([pd.DataFrame(train_y), pd.DataFrame(train_X_len), pd.DataFrame(train_X)], axis=1) \\\n",
    "        .to_csv(os.path.join(data_dir, 'train.csv'), header=False, index=False)"
   ]
  },
  {
   "cell_type": "markdown",
   "metadata": {},
   "source": [
    "### Uploading the training data\n",
    "\n",
    "\n",
    "Next, we need to upload the training data to the SageMaker default S3 bucket so that we can provide access to it while training our model."
   ]
  },
  {
   "cell_type": "code",
   "execution_count": 34,
   "metadata": {},
   "outputs": [],
   "source": [
    "import sagemaker\n",
    "\n",
    "sagemaker_session = sagemaker.Session()\n",
    "\n",
    "bucket = sagemaker_session.default_bucket()\n",
    "prefix = 'sagemaker/sentiment_rnn'\n",
    "\n",
    "role = sagemaker.get_execution_role()"
   ]
  },
  {
   "cell_type": "code",
   "execution_count": 35,
   "metadata": {},
   "outputs": [],
   "source": [
    "input_data = sagemaker_session.upload_data(path=data_dir, bucket=bucket, key_prefix=prefix)"
   ]
  },
  {
   "cell_type": "markdown",
   "metadata": {},
   "source": [
    "**NOTE:** The cell above uploads the entire contents of our data directory. This includes the `word_dict.pkl` file. This is fortunate as we will need this later on when we create an endpoint that accepts an arbitrary review. For now, we will just take note of the fact that it resides in the data directory (and so also in the S3 training bucket) and that we will need to make sure it gets saved in the model directory."
   ]
  },
  {
   "cell_type": "markdown",
   "metadata": {},
   "source": [
    "## Step 4: Build and Train the PyTorch Model\n",
    "\n",
    "In the XGBoost notebook we discussed what a model is in the SageMaker framework. In particular, a model comprises three objects\n",
    "\n",
    " - Model Artifacts,\n",
    " - Training Code, and\n",
    " - Inference Code,\n",
    " \n",
    "each of which interact with one another. In the XGBoost example we used training and inference code that was provided by Amazon. Here we will still be using containers provided by Amazon with the added benefit of being able to include our own custom code.\n",
    "\n",
    "We will start by implementing our own neural network in PyTorch along with a training script. For the purposes of this project we have provided the necessary model object in the `model.py` file, inside of the `train` folder. You can see the provided implementation by running the cell below."
   ]
  },
  {
   "cell_type": "code",
   "execution_count": 36,
   "metadata": {},
   "outputs": [
    {
     "name": "stdout",
     "output_type": "stream",
     "text": [
      "\u001b[34mimport\u001b[39;49;00m \u001b[04m\u001b[36mtorch\u001b[39;49;00m\u001b[04m\u001b[36m.\u001b[39;49;00m\u001b[04m\u001b[36mnn\u001b[39;49;00m \u001b[34mas\u001b[39;49;00m \u001b[04m\u001b[36mnn\u001b[39;49;00m\r\n",
      "\r\n",
      "\u001b[34mclass\u001b[39;49;00m \u001b[04m\u001b[32mLSTMClassifier\u001b[39;49;00m(nn.Module):\r\n",
      "    \u001b[33m\"\"\"\u001b[39;49;00m\r\n",
      "\u001b[33m    This is the simple RNN model we will be using to perform Sentiment Analysis.\u001b[39;49;00m\r\n",
      "\u001b[33m    \"\"\"\u001b[39;49;00m\r\n",
      "\r\n",
      "    \u001b[34mdef\u001b[39;49;00m \u001b[32m__init__\u001b[39;49;00m(\u001b[36mself\u001b[39;49;00m, embedding_dim, hidden_dim, vocab_size):\r\n",
      "        \u001b[33m\"\"\"\u001b[39;49;00m\r\n",
      "\u001b[33m        Initialize the model by settingg up the various layers.\u001b[39;49;00m\r\n",
      "\u001b[33m        \"\"\"\u001b[39;49;00m\r\n",
      "        \u001b[36msuper\u001b[39;49;00m(LSTMClassifier, \u001b[36mself\u001b[39;49;00m).\u001b[32m__init__\u001b[39;49;00m()\r\n",
      "\r\n",
      "        \u001b[36mself\u001b[39;49;00m.embedding = nn.Embedding(vocab_size, embedding_dim, padding_idx=\u001b[34m0\u001b[39;49;00m)\r\n",
      "        \u001b[36mself\u001b[39;49;00m.lstm = nn.LSTM(embedding_dim, hidden_dim)\r\n",
      "        \u001b[36mself\u001b[39;49;00m.dense = nn.Linear(in_features=hidden_dim, out_features=\u001b[34m1\u001b[39;49;00m)\r\n",
      "        \u001b[36mself\u001b[39;49;00m.sig = nn.Sigmoid()\r\n",
      "        \r\n",
      "        \u001b[36mself\u001b[39;49;00m.word_dict = \u001b[34mNone\u001b[39;49;00m\r\n",
      "\r\n",
      "    \u001b[34mdef\u001b[39;49;00m \u001b[32mforward\u001b[39;49;00m(\u001b[36mself\u001b[39;49;00m, x):\r\n",
      "        \u001b[33m\"\"\"\u001b[39;49;00m\r\n",
      "\u001b[33m        Perform a forward pass of our model on some input.\u001b[39;49;00m\r\n",
      "\u001b[33m        \"\"\"\u001b[39;49;00m\r\n",
      "        x = x.t()\r\n",
      "        lengths = x[\u001b[34m0\u001b[39;49;00m,:]\r\n",
      "        reviews = x[\u001b[34m1\u001b[39;49;00m:,:]\r\n",
      "        embeds = \u001b[36mself\u001b[39;49;00m.embedding(reviews)\r\n",
      "        lstm_out, _ = \u001b[36mself\u001b[39;49;00m.lstm(embeds)\r\n",
      "        out = \u001b[36mself\u001b[39;49;00m.dense(lstm_out)\r\n",
      "        out = out[lengths - \u001b[34m1\u001b[39;49;00m, \u001b[36mrange\u001b[39;49;00m(\u001b[36mlen\u001b[39;49;00m(lengths))]\r\n",
      "        \u001b[34mreturn\u001b[39;49;00m \u001b[36mself\u001b[39;49;00m.sig(out.squeeze())\r\n"
     ]
    }
   ],
   "source": [
    "!pygmentize train/model.py"
   ]
  },
  {
   "cell_type": "markdown",
   "metadata": {},
   "source": [
    "The important takeaway from the implementation provided is that there are three parameters that we may wish to tweak to improve the performance of our model. These are the embedding dimension, the hidden dimension and the size of the vocabulary. We will likely want to make these parameters configurable in the training script so that if we wish to modify them we do not need to modify the script itself. We will see how to do this later on. To start we will write some of the training code in the notebook so that we can more easily diagnose any issues that arise.\n",
    "\n",
    "First we will load a small portion of the training data set to use as a sample. It would be very time consuming to try and train the model completely in the notebook as we do not have access to a gpu and the compute instance that we are using is not particularly powerful. However, we can work on a small bit of the data to get a feel for how our training script is behaving."
   ]
  },
  {
   "cell_type": "code",
   "execution_count": 37,
   "metadata": {},
   "outputs": [],
   "source": [
    "import torch\n",
    "import torch.utils.data\n",
    "\n",
    "# Read in only the first 250 rows\n",
    "train_sample = pd.read_csv(os.path.join(data_dir, 'train.csv'), header=None, names=None, nrows=250)\n",
    "\n",
    "# Turn the input pandas dataframe into tensors\n",
    "train_sample_y = torch.from_numpy(train_sample[[0]].values).float().squeeze()\n",
    "train_sample_X = torch.from_numpy(train_sample.drop([0], axis=1).values).long()\n",
    "\n",
    "# Build the dataset\n",
    "train_sample_ds = torch.utils.data.TensorDataset(train_sample_X, train_sample_y)\n",
    "# Build the dataloader\n",
    "train_sample_dl = torch.utils.data.DataLoader(train_sample_ds, batch_size=50)"
   ]
  },
  {
   "cell_type": "markdown",
   "metadata": {},
   "source": [
    "### (TODO) Writing the training method\n",
    "\n",
    "Next we need to write the training code itself. This should be very similar to training methods that you have written before to train PyTorch models. We will leave any difficult aspects such as model saving / loading and parameter loading until a little later."
   ]
  },
  {
   "cell_type": "code",
   "execution_count": 38,
   "metadata": {},
   "outputs": [],
   "source": [
    "def train(model, train_loader, epochs, optimizer, loss_fn, device):\n",
    "    for epoch in range(1, epochs + 1):\n",
    "        model.train()\n",
    "        total_loss = 0\n",
    "        for batch in train_loader:         \n",
    "            batch_X, batch_y = batch\n",
    "            \n",
    "            batch_X = batch_X.to(device)\n",
    "            batch_y = batch_y.to(device)\n",
    "            \n",
    "            # TODO: Complete this train method to train the model provided.\n",
    "            #zero the paramter gradients\n",
    "            optimizer.zero_grad()\n",
    "            outputs = model.forward(batch_X)\n",
    "            loss=loss_fn(outputs,batch_y)\n",
    "            loss.backward()\n",
    "            optimizer.step()\n",
    "            #print statistics\n",
    "            total_loss += loss.data.item()\n",
    "        print(\"Epoch: {}, BCELoss: {}\".format(epoch, total_loss / len(train_loader)))"
   ]
  },
  {
   "cell_type": "markdown",
   "metadata": {},
   "source": [
    "Supposing we have the training method above, we will test that it is working by writing a bit of code in the notebook that executes our training method on the small sample training set that we loaded earlier. The reason for doing this in the notebook is so that we have an opportunity to fix any errors that arise early when they are easier to diagnose."
   ]
  },
  {
   "cell_type": "code",
   "execution_count": 39,
   "metadata": {},
   "outputs": [
    {
     "name": "stdout",
     "output_type": "stream",
     "text": [
      "Epoch: 1, BCELoss: 0.6948168754577637\n",
      "Epoch: 2, BCELoss: 0.6866620659828186\n",
      "Epoch: 3, BCELoss: 0.6799193859100342\n",
      "Epoch: 4, BCELoss: 0.672530722618103\n",
      "Epoch: 5, BCELoss: 0.6634938240051269\n"
     ]
    }
   ],
   "source": [
    "import torch.optim as optim\n",
    "from train.model import LSTMClassifier\n",
    "\n",
    "device = torch.device(\"cuda\" if torch.cuda.is_available() else \"cpu\")\n",
    "model = LSTMClassifier(32, 100, 5000).to(device)\n",
    "optimizer = optim.Adam(model.parameters())\n",
    "loss_fn = torch.nn.BCELoss()\n",
    "\n",
    "train(model, train_sample_dl, 5, optimizer, loss_fn, device)"
   ]
  },
  {
   "cell_type": "markdown",
   "metadata": {},
   "source": [
    "In order to construct a PyTorch model using SageMaker we must provide SageMaker with a training script. We may optionally include a directory which will be copied to the container and from which our training code will be run. When the training container is executed it will check the uploaded directory (if there is one) for a `requirements.txt` file and install any required Python libraries, after which the training script will be run."
   ]
  },
  {
   "cell_type": "markdown",
   "metadata": {},
   "source": [
    "### (TODO) Training the model\n",
    "\n",
    "When a PyTorch model is constructed in SageMaker, an entry point must be specified. This is the Python file which will be executed when the model is trained. Inside of the `train` directory is a file called `train.py` which has been provided and which contains most of the necessary code to train our model. The only thing that is missing is the implementation of the `train()` method which you wrote earlier in this notebook.\n",
    "\n",
    "**TODO**: Copy the `train()` method written above and paste it into the `train/train.py` file where required.\n",
    "\n",
    "The way that SageMaker passes hyperparameters to the training script is by way of arguments. These arguments can then be parsed and used in the training script. To see how this is done take a look at the provided `train/train.py` file."
   ]
  },
  {
   "cell_type": "code",
   "execution_count": 40,
   "metadata": {},
   "outputs": [],
   "source": [
    "from sagemaker.pytorch import PyTorch\n",
    "\n",
    "estimator = PyTorch(entry_point=\"train.py\",\n",
    "                    source_dir=\"train\",\n",
    "                    role=role,\n",
    "                    framework_version='0.4.0',\n",
    "                    train_instance_count=1,\n",
    "                    train_instance_type='ml.p2.xlarge',\n",
    "                    hyperparameters={\n",
    "                        'epochs': 10,\n",
    "                        'hidden_dim': 200,\n",
    "                    })"
   ]
  },
  {
   "cell_type": "code",
   "execution_count": 41,
   "metadata": {
    "scrolled": true
   },
   "outputs": [
    {
     "name": "stderr",
     "output_type": "stream",
     "text": [
      "'create_image_uri' will be deprecated in favor of 'ImageURIProvider' class in SageMaker Python SDK v2.\n",
      "'s3_input' class will be renamed to 'TrainingInput' in SageMaker Python SDK v2.\n",
      "'create_image_uri' will be deprecated in favor of 'ImageURIProvider' class in SageMaker Python SDK v2.\n"
     ]
    },
    {
     "name": "stdout",
     "output_type": "stream",
     "text": [
      "2020-09-08 21:18:32 Starting - Starting the training job...\n",
      "2020-09-08 21:18:37 Starting - Launching requested ML instances......\n",
      "2020-09-08 21:19:51 Starting - Preparing the instances for training.........\n",
      "2020-09-08 21:21:12 Downloading - Downloading input data...\n",
      "2020-09-08 21:21:55 Training - Downloading the training image...\n",
      "2020-09-08 21:22:18 Training - Training image download completed. Training in progress.\u001b[34mbash: cannot set terminal process group (-1): Inappropriate ioctl for device\u001b[0m\n",
      "\u001b[34mbash: no job control in this shell\u001b[0m\n",
      "\u001b[34m2020-09-08 21:22:18,872 sagemaker-containers INFO     Imported framework sagemaker_pytorch_container.training\u001b[0m\n",
      "\u001b[34m2020-09-08 21:22:18,896 sagemaker_pytorch_container.training INFO     Block until all host DNS lookups succeed.\u001b[0m\n",
      "\u001b[34m2020-09-08 21:22:18,899 sagemaker_pytorch_container.training INFO     Invoking user training script.\u001b[0m\n",
      "\u001b[34m2020-09-08 21:22:34,541 sagemaker-containers INFO     Module train does not provide a setup.py. \u001b[0m\n",
      "\u001b[34mGenerating setup.py\u001b[0m\n",
      "\u001b[34m2020-09-08 21:22:34,541 sagemaker-containers INFO     Generating setup.cfg\u001b[0m\n",
      "\u001b[34m2020-09-08 21:22:34,541 sagemaker-containers INFO     Generating MANIFEST.in\u001b[0m\n",
      "\u001b[34m2020-09-08 21:22:34,542 sagemaker-containers INFO     Installing module with the following command:\u001b[0m\n",
      "\u001b[34m/usr/bin/python -m pip install -U . -r requirements.txt\u001b[0m\n",
      "\u001b[34mProcessing /opt/ml/code\u001b[0m\n",
      "\u001b[34mCollecting pandas (from -r requirements.txt (line 1))\n",
      "  Downloading https://files.pythonhosted.org/packages/74/24/0cdbf8907e1e3bc5a8da03345c23cbed7044330bb8f73bb12e711a640a00/pandas-0.24.2-cp35-cp35m-manylinux1_x86_64.whl (10.0MB)\u001b[0m\n",
      "\u001b[34mCollecting numpy (from -r requirements.txt (line 2))\u001b[0m\n",
      "\u001b[34m  Downloading https://files.pythonhosted.org/packages/b5/36/88723426b4ff576809fec7d73594fe17a35c27f8d01f93637637a29ae25b/numpy-1.18.5-cp35-cp35m-manylinux1_x86_64.whl (19.9MB)\u001b[0m\n",
      "\u001b[34mCollecting nltk (from -r requirements.txt (line 3))\n",
      "  Downloading https://files.pythonhosted.org/packages/92/75/ce35194d8e3022203cca0d2f896dbb88689f9b3fce8e9f9cff942913519d/nltk-3.5.zip (1.4MB)\u001b[0m\n",
      "\u001b[34mCollecting beautifulsoup4 (from -r requirements.txt (line 4))\n",
      "  Downloading https://files.pythonhosted.org/packages/66/25/ff030e2437265616a1e9b25ccc864e0371a0bc3adb7c5a404fd661c6f4f6/beautifulsoup4-4.9.1-py3-none-any.whl (115kB)\u001b[0m\n",
      "\u001b[34mCollecting html5lib (from -r requirements.txt (line 5))\n",
      "  Downloading https://files.pythonhosted.org/packages/6c/dd/a834df6482147d48e225a49515aabc28974ad5a4ca3215c18a882565b028/html5lib-1.1-py2.py3-none-any.whl (112kB)\u001b[0m\n",
      "\u001b[34mRequirement already satisfied, skipping upgrade: python-dateutil>=2.5.0 in /usr/local/lib/python3.5/dist-packages (from pandas->-r requirements.txt (line 1)) (2.7.5)\u001b[0m\n",
      "\u001b[34mCollecting pytz>=2011k (from pandas->-r requirements.txt (line 1))\n",
      "  Downloading https://files.pythonhosted.org/packages/4f/a4/879454d49688e2fad93e59d7d4efda580b783c745fd2ec2a3adf87b0808d/pytz-2020.1-py2.py3-none-any.whl (510kB)\u001b[0m\n",
      "\u001b[34mRequirement already satisfied, skipping upgrade: click in /usr/local/lib/python3.5/dist-packages (from nltk->-r requirements.txt (line 3)) (7.0)\u001b[0m\n",
      "\u001b[34mCollecting joblib (from nltk->-r requirements.txt (line 3))\n",
      "  Downloading https://files.pythonhosted.org/packages/28/5c/cf6a2b65a321c4a209efcdf64c2689efae2cb62661f8f6f4bb28547cf1bf/joblib-0.14.1-py2.py3-none-any.whl (294kB)\u001b[0m\n",
      "\u001b[34mCollecting regex (from nltk->-r requirements.txt (line 3))\n",
      "  Downloading https://files.pythonhosted.org/packages/09/c3/ddaa87500f31ed86290e3d014c0302a51fde28d7139eda0b5f33733726db/regex-2020.7.14.tar.gz (690kB)\u001b[0m\n",
      "\u001b[34mCollecting tqdm (from nltk->-r requirements.txt (line 3))\u001b[0m\n",
      "\u001b[34m  Downloading https://files.pythonhosted.org/packages/28/7e/281edb5bc3274dfb894d90f4dbacfceaca381c2435ec6187a2c6f329aed7/tqdm-4.48.2-py2.py3-none-any.whl (68kB)\u001b[0m\n",
      "\u001b[34mCollecting soupsieve>1.2 (from beautifulsoup4->-r requirements.txt (line 4))\n",
      "  Downloading https://files.pythonhosted.org/packages/6f/8f/457f4a5390eeae1cc3aeab89deb7724c965be841ffca6cfca9197482e470/soupsieve-2.0.1-py3-none-any.whl\u001b[0m\n",
      "\u001b[34mCollecting webencodings (from html5lib->-r requirements.txt (line 5))\n",
      "  Downloading https://files.pythonhosted.org/packages/f4/24/2a3e3df732393fed8b3ebf2ec078f05546de641fe1b667ee316ec1dcf3b7/webencodings-0.5.1-py2.py3-none-any.whl\u001b[0m\n",
      "\u001b[34mRequirement already satisfied, skipping upgrade: six>=1.9 in /usr/local/lib/python3.5/dist-packages (from html5lib->-r requirements.txt (line 5)) (1.11.0)\u001b[0m\n",
      "\u001b[34mBuilding wheels for collected packages: nltk, train, regex\n",
      "  Running setup.py bdist_wheel for nltk: started\n",
      "  Running setup.py bdist_wheel for nltk: finished with status 'done'\n",
      "  Stored in directory: /root/.cache/pip/wheels/ae/8c/3f/b1fe0ba04555b08b57ab52ab7f86023639a526d8bc8d384306\u001b[0m\n",
      "\u001b[34m  Running setup.py bdist_wheel for train: started\n",
      "  Running setup.py bdist_wheel for train: finished with status 'done'\n",
      "  Stored in directory: /tmp/pip-ephem-wheel-cache-awd51or3/wheels/35/24/16/37574d11bf9bde50616c67372a334f94fa8356bc7164af8ca3\n",
      "  Running setup.py bdist_wheel for regex: started\u001b[0m\n",
      "\u001b[34m  Running setup.py bdist_wheel for regex: finished with status 'done'\n",
      "  Stored in directory: /root/.cache/pip/wheels/53/55/dc/e17fa4568958f4c53be34b65e474a1327b64641f65df379ec3\u001b[0m\n",
      "\u001b[34mSuccessfully built nltk train regex\u001b[0m\n",
      "\u001b[34mInstalling collected packages: numpy, pytz, pandas, joblib, regex, tqdm, nltk, soupsieve, beautifulsoup4, webencodings, html5lib, train\n",
      "  Found existing installation: numpy 1.15.4\n",
      "    Uninstalling numpy-1.15.4:\u001b[0m\n",
      "\u001b[34m      Successfully uninstalled numpy-1.15.4\u001b[0m\n",
      "\u001b[34mSuccessfully installed beautifulsoup4-4.9.1 html5lib-1.1 joblib-0.14.1 nltk-3.5 numpy-1.18.5 pandas-0.24.2 pytz-2020.1 regex-2020.7.14 soupsieve-2.0.1 tqdm-4.48.2 train-1.0.0 webencodings-0.5.1\u001b[0m\n",
      "\u001b[34mYou are using pip version 18.1, however version 20.2.3 is available.\u001b[0m\n",
      "\u001b[34mYou should consider upgrading via the 'pip install --upgrade pip' command.\u001b[0m\n",
      "\u001b[34m2020-09-08 21:22:56,437 sagemaker-containers INFO     Invoking user script\n",
      "\u001b[0m\n",
      "\u001b[34mTraining Env:\n",
      "\u001b[0m\n",
      "\u001b[34m{\n",
      "    \"output_intermediate_dir\": \"/opt/ml/output/intermediate\",\n",
      "    \"hyperparameters\": {\n",
      "        \"epochs\": 10,\n",
      "        \"hidden_dim\": 200\n",
      "    },\n",
      "    \"hosts\": [\n",
      "        \"algo-1\"\n",
      "    ],\n",
      "    \"model_dir\": \"/opt/ml/model\",\n",
      "    \"framework_module\": \"sagemaker_pytorch_container.training:main\",\n",
      "    \"current_host\": \"algo-1\",\n",
      "    \"input_data_config\": {\n",
      "        \"training\": {\n",
      "            \"S3DistributionType\": \"FullyReplicated\",\n",
      "            \"RecordWrapperType\": \"None\",\n",
      "            \"TrainingInputMode\": \"File\"\n",
      "        }\n",
      "    },\n",
      "    \"channel_input_dirs\": {\n",
      "        \"training\": \"/opt/ml/input/data/training\"\n",
      "    },\n",
      "    \"num_gpus\": 1,\n",
      "    \"network_interface_name\": \"eth0\",\n",
      "    \"num_cpus\": 4,\n",
      "    \"user_entry_point\": \"train.py\",\n",
      "    \"log_level\": 20,\n",
      "    \"job_name\": \"sagemaker-pytorch-2020-09-08-21-18-31-710\",\n",
      "    \"output_data_dir\": \"/opt/ml/output/data\",\n",
      "    \"input_dir\": \"/opt/ml/input\",\n",
      "    \"output_dir\": \"/opt/ml/output\",\n",
      "    \"additional_framework_parameters\": {},\n",
      "    \"module_name\": \"train\",\n",
      "    \"resource_config\": {\n",
      "        \"current_host\": \"algo-1\",\n",
      "        \"network_interface_name\": \"eth0\",\n",
      "        \"hosts\": [\n",
      "            \"algo-1\"\n",
      "        ]\n",
      "    },\n",
      "    \"module_dir\": \"s3://sagemaker-us-east-1-499666689207/sagemaker-pytorch-2020-09-08-21-18-31-710/source/sourcedir.tar.gz\",\n",
      "    \"input_config_dir\": \"/opt/ml/input/config\"\u001b[0m\n",
      "\u001b[34m}\n",
      "\u001b[0m\n",
      "\u001b[34mEnvironment variables:\n",
      "\u001b[0m\n",
      "\u001b[34mSM_HP_EPOCHS=10\u001b[0m\n",
      "\u001b[34mSM_NUM_GPUS=1\u001b[0m\n",
      "\u001b[34mSM_NUM_CPUS=4\u001b[0m\n",
      "\u001b[34mSM_MODULE_NAME=train\u001b[0m\n",
      "\u001b[34mSM_INPUT_DATA_CONFIG={\"training\":{\"RecordWrapperType\":\"None\",\"S3DistributionType\":\"FullyReplicated\",\"TrainingInputMode\":\"File\"}}\u001b[0m\n",
      "\u001b[34mSM_HP_HIDDEN_DIM=200\u001b[0m\n",
      "\u001b[34mSM_USER_ARGS=[\"--epochs\",\"10\",\"--hidden_dim\",\"200\"]\u001b[0m\n",
      "\u001b[34mSM_FRAMEWORK_PARAMS={}\u001b[0m\n",
      "\u001b[34mSM_OUTPUT_DIR=/opt/ml/output\u001b[0m\n",
      "\u001b[34mPYTHONPATH=/usr/local/bin:/usr/lib/python35.zip:/usr/lib/python3.5:/usr/lib/python3.5/plat-x86_64-linux-gnu:/usr/lib/python3.5/lib-dynload:/usr/local/lib/python3.5/dist-packages:/usr/lib/python3/dist-packages\u001b[0m\n",
      "\u001b[34mSM_USER_ENTRY_POINT=train.py\u001b[0m\n",
      "\u001b[34mSM_HPS={\"epochs\":10,\"hidden_dim\":200}\u001b[0m\n",
      "\u001b[34mSM_OUTPUT_DATA_DIR=/opt/ml/output/data\u001b[0m\n",
      "\u001b[34mSM_TRAINING_ENV={\"additional_framework_parameters\":{},\"channel_input_dirs\":{\"training\":\"/opt/ml/input/data/training\"},\"current_host\":\"algo-1\",\"framework_module\":\"sagemaker_pytorch_container.training:main\",\"hosts\":[\"algo-1\"],\"hyperparameters\":{\"epochs\":10,\"hidden_dim\":200},\"input_config_dir\":\"/opt/ml/input/config\",\"input_data_config\":{\"training\":{\"RecordWrapperType\":\"None\",\"S3DistributionType\":\"FullyReplicated\",\"TrainingInputMode\":\"File\"}},\"input_dir\":\"/opt/ml/input\",\"job_name\":\"sagemaker-pytorch-2020-09-08-21-18-31-710\",\"log_level\":20,\"model_dir\":\"/opt/ml/model\",\"module_dir\":\"s3://sagemaker-us-east-1-499666689207/sagemaker-pytorch-2020-09-08-21-18-31-710/source/sourcedir.tar.gz\",\"module_name\":\"train\",\"network_interface_name\":\"eth0\",\"num_cpus\":4,\"num_gpus\":1,\"output_data_dir\":\"/opt/ml/output/data\",\"output_dir\":\"/opt/ml/output\",\"output_intermediate_dir\":\"/opt/ml/output/intermediate\",\"resource_config\":{\"current_host\":\"algo-1\",\"hosts\":[\"algo-1\"],\"network_interface_name\":\"eth0\"},\"user_entry_point\":\"train.py\"}\u001b[0m\n",
      "\u001b[34mSM_RESOURCE_CONFIG={\"current_host\":\"algo-1\",\"hosts\":[\"algo-1\"],\"network_interface_name\":\"eth0\"}\u001b[0m\n",
      "\u001b[34mSM_MODEL_DIR=/opt/ml/model\u001b[0m\n",
      "\u001b[34mSM_OUTPUT_INTERMEDIATE_DIR=/opt/ml/output/intermediate\u001b[0m\n",
      "\u001b[34mSM_INPUT_DIR=/opt/ml/input\u001b[0m\n",
      "\u001b[34mSM_CURRENT_HOST=algo-1\u001b[0m\n",
      "\u001b[34mSM_CHANNEL_TRAINING=/opt/ml/input/data/training\u001b[0m\n",
      "\u001b[34mSM_LOG_LEVEL=20\u001b[0m\n",
      "\u001b[34mSM_CHANNELS=[\"training\"]\u001b[0m\n",
      "\u001b[34mSM_FRAMEWORK_MODULE=sagemaker_pytorch_container.training:main\u001b[0m\n",
      "\u001b[34mSM_INPUT_CONFIG_DIR=/opt/ml/input/config\u001b[0m\n",
      "\u001b[34mSM_NETWORK_INTERFACE_NAME=eth0\u001b[0m\n",
      "\u001b[34mSM_MODULE_DIR=s3://sagemaker-us-east-1-499666689207/sagemaker-pytorch-2020-09-08-21-18-31-710/source/sourcedir.tar.gz\u001b[0m\n",
      "\u001b[34mSM_HOSTS=[\"algo-1\"]\n",
      "\u001b[0m\n",
      "\u001b[34mInvoking script with the following command:\n",
      "\u001b[0m\n",
      "\u001b[34m/usr/bin/python -m train --epochs 10 --hidden_dim 200\n",
      "\n",
      "\u001b[0m\n",
      "\u001b[34mUsing device cuda.\u001b[0m\n",
      "\u001b[34mGet train data loader.\u001b[0m\n",
      "\u001b[34mModel loaded with embedding_dim 32, hidden_dim 200, vocab_size 5000.\u001b[0m\n",
      "\u001b[34mEpoch: 1, BCELoss: 0.6770348062320631\u001b[0m\n",
      "\u001b[34mEpoch: 2, BCELoss: 0.603628974788043\u001b[0m\n",
      "\u001b[34mEpoch: 3, BCELoss: 0.5116521831677885\u001b[0m\n",
      "\u001b[34mEpoch: 4, BCELoss: 0.43138995401713315\u001b[0m\n",
      "\u001b[34mEpoch: 5, BCELoss: 0.38501306395141444\u001b[0m\n",
      "\u001b[34mEpoch: 6, BCELoss: 0.3461239295346396\u001b[0m\n",
      "\u001b[34mEpoch: 7, BCELoss: 0.31343222515923636\u001b[0m\n",
      "\u001b[34mEpoch: 8, BCELoss: 0.3076177792889731\u001b[0m\n",
      "\u001b[34mEpoch: 9, BCELoss: 0.28115998603859726\u001b[0m\n",
      "\n",
      "2020-09-08 21:26:01 Uploading - Uploading generated training model\u001b[34mEpoch: 10, BCELoss: 0.2639540008136204\u001b[0m\n",
      "\u001b[34m2020-09-08 21:25:59,087 sagemaker-containers INFO     Reporting training SUCCESS\u001b[0m\n",
      "\n",
      "2020-09-08 21:26:08 Completed - Training job completed\n",
      "Training seconds: 296\n",
      "Billable seconds: 296\n"
     ]
    }
   ],
   "source": [
    "estimator.fit({'training': input_data})"
   ]
  },
  {
   "cell_type": "markdown",
   "metadata": {},
   "source": [
    "## Step 5: Testing the model\n",
    "\n",
    "As mentioned at the top of this notebook, we will be testing this model by first deploying it and then sending the testing data to the deployed endpoint. We will do this so that we can make sure that the deployed model is working correctly.\n",
    "\n",
    "## Step 6: Deploy the model for testing\n",
    "\n",
    "Now that we have trained our model, we would like to test it to see how it performs. Currently our model takes input of the form `review_length, review[500]` where `review[500]` is a sequence of `500` integers which describe the words present in the review, encoded using `word_dict`. Fortunately for us, SageMaker provides built-in inference code for models with simple inputs such as this.\n",
    "\n",
    "There is one thing that we need to provide, however, and that is a function which loads the saved model. This function must be called `model_fn()` and takes as its only parameter a path to the directory where the model artifacts are stored. This function must also be present in the python file which we specified as the entry point. In our case the model loading function has been provided and so no changes need to be made.\n",
    "\n",
    "**NOTE**: When the built-in inference code is run it must import the `model_fn()` method from the `train.py` file. This is why the training code is wrapped in a main guard ( ie, `if __name__ == '__main__':` )\n",
    "\n",
    "Since we don't need to change anything in the code that was uploaded during training, we can simply deploy the current model as-is.\n",
    "\n",
    "**NOTE:** When deploying a model you are asking SageMaker to launch an compute instance that will wait for data to be sent to it. As a result, this compute instance will continue to run until *you* shut it down. This is important to know since the cost of a deployed endpoint depends on how long it has been running for.\n",
    "\n",
    "In other words **If you are no longer using a deployed endpoint, shut it down!**\n",
    "\n",
    "**TODO:** Deploy the trained model."
   ]
  },
  {
   "cell_type": "code",
   "execution_count": 42,
   "metadata": {},
   "outputs": [
    {
     "name": "stderr",
     "output_type": "stream",
     "text": [
      "Parameter image will be renamed to image_uri in SageMaker Python SDK v2.\n",
      "'create_image_uri' will be deprecated in favor of 'ImageURIProvider' class in SageMaker Python SDK v2.\n"
     ]
    },
    {
     "ename": "ResourceLimitExceeded",
     "evalue": "An error occurred (ResourceLimitExceeded) when calling the CreateEndpoint operation: The account-level service limit 'Number of instances across active endpoints' is 2 Instances, with current utilization of 2 Instances and a request delta of 1 Instances. Please contact AWS support to request an increase for this limit.",
     "output_type": "error",
     "traceback": [
      "\u001b[0;31m---------------------------------------------------------------------------\u001b[0m",
      "\u001b[0;31mResourceLimitExceeded\u001b[0m                     Traceback (most recent call last)",
      "\u001b[0;32m<ipython-input-42-c125368cec4d>\u001b[0m in \u001b[0;36m<module>\u001b[0;34m\u001b[0m\n\u001b[1;32m      1\u001b[0m \u001b[0;31m# TODO: Deploy the trained model\u001b[0m\u001b[0;34m\u001b[0m\u001b[0;34m\u001b[0m\u001b[0;34m\u001b[0m\u001b[0m\n\u001b[0;32m----> 2\u001b[0;31m \u001b[0mimdb_predictor\u001b[0m \u001b[0;34m=\u001b[0m \u001b[0mestimator\u001b[0m\u001b[0;34m.\u001b[0m\u001b[0mdeploy\u001b[0m\u001b[0;34m(\u001b[0m\u001b[0minitial_instance_count\u001b[0m\u001b[0;34m=\u001b[0m\u001b[0;36m1\u001b[0m\u001b[0;34m,\u001b[0m \u001b[0minstance_type\u001b[0m\u001b[0;34m=\u001b[0m\u001b[0;34m'ml.m4.xlarge'\u001b[0m\u001b[0;34m)\u001b[0m\u001b[0;34m\u001b[0m\u001b[0;34m\u001b[0m\u001b[0m\n\u001b[0m",
      "\u001b[0;32m~/anaconda3/envs/pytorch_p36/lib/python3.6/site-packages/sagemaker/estimator.py\u001b[0m in \u001b[0;36mdeploy\u001b[0;34m(self, initial_instance_count, instance_type, accelerator_type, endpoint_name, use_compiled_model, update_endpoint, wait, model_name, kms_key, data_capture_config, tags, **kwargs)\u001b[0m\n\u001b[1;32m    743\u001b[0m             \u001b[0mwait\u001b[0m\u001b[0;34m=\u001b[0m\u001b[0mwait\u001b[0m\u001b[0;34m,\u001b[0m\u001b[0;34m\u001b[0m\u001b[0;34m\u001b[0m\u001b[0m\n\u001b[1;32m    744\u001b[0m             \u001b[0mkms_key\u001b[0m\u001b[0;34m=\u001b[0m\u001b[0mkms_key\u001b[0m\u001b[0;34m,\u001b[0m\u001b[0;34m\u001b[0m\u001b[0;34m\u001b[0m\u001b[0m\n\u001b[0;32m--> 745\u001b[0;31m             \u001b[0mdata_capture_config\u001b[0m\u001b[0;34m=\u001b[0m\u001b[0mdata_capture_config\u001b[0m\u001b[0;34m,\u001b[0m\u001b[0;34m\u001b[0m\u001b[0;34m\u001b[0m\u001b[0m\n\u001b[0m\u001b[1;32m    746\u001b[0m         )\n\u001b[1;32m    747\u001b[0m \u001b[0;34m\u001b[0m\u001b[0m\n",
      "\u001b[0;32m~/anaconda3/envs/pytorch_p36/lib/python3.6/site-packages/sagemaker/model.py\u001b[0m in \u001b[0;36mdeploy\u001b[0;34m(self, initial_instance_count, instance_type, accelerator_type, endpoint_name, update_endpoint, tags, kms_key, wait, data_capture_config)\u001b[0m\n\u001b[1;32m    577\u001b[0m                 \u001b[0mkms_key\u001b[0m\u001b[0;34m=\u001b[0m\u001b[0mkms_key\u001b[0m\u001b[0;34m,\u001b[0m\u001b[0;34m\u001b[0m\u001b[0;34m\u001b[0m\u001b[0m\n\u001b[1;32m    578\u001b[0m                 \u001b[0mwait\u001b[0m\u001b[0;34m=\u001b[0m\u001b[0mwait\u001b[0m\u001b[0;34m,\u001b[0m\u001b[0;34m\u001b[0m\u001b[0;34m\u001b[0m\u001b[0m\n\u001b[0;32m--> 579\u001b[0;31m                 \u001b[0mdata_capture_config_dict\u001b[0m\u001b[0;34m=\u001b[0m\u001b[0mdata_capture_config_dict\u001b[0m\u001b[0;34m,\u001b[0m\u001b[0;34m\u001b[0m\u001b[0;34m\u001b[0m\u001b[0m\n\u001b[0m\u001b[1;32m    580\u001b[0m             )\n\u001b[1;32m    581\u001b[0m \u001b[0;34m\u001b[0m\u001b[0m\n",
      "\u001b[0;32m~/anaconda3/envs/pytorch_p36/lib/python3.6/site-packages/sagemaker/session.py\u001b[0m in \u001b[0;36mendpoint_from_production_variants\u001b[0;34m(self, name, production_variants, tags, kms_key, wait, data_capture_config_dict)\u001b[0m\n\u001b[1;32m   2903\u001b[0m \u001b[0;34m\u001b[0m\u001b[0m\n\u001b[1;32m   2904\u001b[0m             \u001b[0mself\u001b[0m\u001b[0;34m.\u001b[0m\u001b[0msagemaker_client\u001b[0m\u001b[0;34m.\u001b[0m\u001b[0mcreate_endpoint_config\u001b[0m\u001b[0;34m(\u001b[0m\u001b[0;34m**\u001b[0m\u001b[0mconfig_options\u001b[0m\u001b[0;34m)\u001b[0m\u001b[0;34m\u001b[0m\u001b[0;34m\u001b[0m\u001b[0m\n\u001b[0;32m-> 2905\u001b[0;31m         \u001b[0;32mreturn\u001b[0m \u001b[0mself\u001b[0m\u001b[0;34m.\u001b[0m\u001b[0mcreate_endpoint\u001b[0m\u001b[0;34m(\u001b[0m\u001b[0mendpoint_name\u001b[0m\u001b[0;34m=\u001b[0m\u001b[0mname\u001b[0m\u001b[0;34m,\u001b[0m \u001b[0mconfig_name\u001b[0m\u001b[0;34m=\u001b[0m\u001b[0mname\u001b[0m\u001b[0;34m,\u001b[0m \u001b[0mtags\u001b[0m\u001b[0;34m=\u001b[0m\u001b[0mtags\u001b[0m\u001b[0;34m,\u001b[0m \u001b[0mwait\u001b[0m\u001b[0;34m=\u001b[0m\u001b[0mwait\u001b[0m\u001b[0;34m)\u001b[0m\u001b[0;34m\u001b[0m\u001b[0;34m\u001b[0m\u001b[0m\n\u001b[0m\u001b[1;32m   2906\u001b[0m \u001b[0;34m\u001b[0m\u001b[0m\n\u001b[1;32m   2907\u001b[0m     \u001b[0;32mdef\u001b[0m \u001b[0mexpand_role\u001b[0m\u001b[0;34m(\u001b[0m\u001b[0mself\u001b[0m\u001b[0;34m,\u001b[0m \u001b[0mrole\u001b[0m\u001b[0;34m)\u001b[0m\u001b[0;34m:\u001b[0m\u001b[0;34m\u001b[0m\u001b[0;34m\u001b[0m\u001b[0m\n",
      "\u001b[0;32m~/anaconda3/envs/pytorch_p36/lib/python3.6/site-packages/sagemaker/session.py\u001b[0m in \u001b[0;36mcreate_endpoint\u001b[0;34m(self, endpoint_name, config_name, tags, wait)\u001b[0m\n\u001b[1;32m   2420\u001b[0m \u001b[0;34m\u001b[0m\u001b[0m\n\u001b[1;32m   2421\u001b[0m         self.sagemaker_client.create_endpoint(\n\u001b[0;32m-> 2422\u001b[0;31m             \u001b[0mEndpointName\u001b[0m\u001b[0;34m=\u001b[0m\u001b[0mendpoint_name\u001b[0m\u001b[0;34m,\u001b[0m \u001b[0mEndpointConfigName\u001b[0m\u001b[0;34m=\u001b[0m\u001b[0mconfig_name\u001b[0m\u001b[0;34m,\u001b[0m \u001b[0mTags\u001b[0m\u001b[0;34m=\u001b[0m\u001b[0mtags\u001b[0m\u001b[0;34m\u001b[0m\u001b[0;34m\u001b[0m\u001b[0m\n\u001b[0m\u001b[1;32m   2423\u001b[0m         )\n\u001b[1;32m   2424\u001b[0m         \u001b[0;32mif\u001b[0m \u001b[0mwait\u001b[0m\u001b[0;34m:\u001b[0m\u001b[0;34m\u001b[0m\u001b[0;34m\u001b[0m\u001b[0m\n",
      "\u001b[0;32m~/anaconda3/envs/pytorch_p36/lib/python3.6/site-packages/botocore/client.py\u001b[0m in \u001b[0;36m_api_call\u001b[0;34m(self, *args, **kwargs)\u001b[0m\n\u001b[1;32m    314\u001b[0m                     \"%s() only accepts keyword arguments.\" % py_operation_name)\n\u001b[1;32m    315\u001b[0m             \u001b[0;31m# The \"self\" in this scope is referring to the BaseClient.\u001b[0m\u001b[0;34m\u001b[0m\u001b[0;34m\u001b[0m\u001b[0;34m\u001b[0m\u001b[0m\n\u001b[0;32m--> 316\u001b[0;31m             \u001b[0;32mreturn\u001b[0m \u001b[0mself\u001b[0m\u001b[0;34m.\u001b[0m\u001b[0m_make_api_call\u001b[0m\u001b[0;34m(\u001b[0m\u001b[0moperation_name\u001b[0m\u001b[0;34m,\u001b[0m \u001b[0mkwargs\u001b[0m\u001b[0;34m)\u001b[0m\u001b[0;34m\u001b[0m\u001b[0;34m\u001b[0m\u001b[0m\n\u001b[0m\u001b[1;32m    317\u001b[0m \u001b[0;34m\u001b[0m\u001b[0m\n\u001b[1;32m    318\u001b[0m         \u001b[0m_api_call\u001b[0m\u001b[0;34m.\u001b[0m\u001b[0m__name__\u001b[0m \u001b[0;34m=\u001b[0m \u001b[0mstr\u001b[0m\u001b[0;34m(\u001b[0m\u001b[0mpy_operation_name\u001b[0m\u001b[0;34m)\u001b[0m\u001b[0;34m\u001b[0m\u001b[0;34m\u001b[0m\u001b[0m\n",
      "\u001b[0;32m~/anaconda3/envs/pytorch_p36/lib/python3.6/site-packages/botocore/client.py\u001b[0m in \u001b[0;36m_make_api_call\u001b[0;34m(self, operation_name, api_params)\u001b[0m\n\u001b[1;32m    633\u001b[0m             \u001b[0merror_code\u001b[0m \u001b[0;34m=\u001b[0m \u001b[0mparsed_response\u001b[0m\u001b[0;34m.\u001b[0m\u001b[0mget\u001b[0m\u001b[0;34m(\u001b[0m\u001b[0;34m\"Error\"\u001b[0m\u001b[0;34m,\u001b[0m \u001b[0;34m{\u001b[0m\u001b[0;34m}\u001b[0m\u001b[0;34m)\u001b[0m\u001b[0;34m.\u001b[0m\u001b[0mget\u001b[0m\u001b[0;34m(\u001b[0m\u001b[0;34m\"Code\"\u001b[0m\u001b[0;34m)\u001b[0m\u001b[0;34m\u001b[0m\u001b[0;34m\u001b[0m\u001b[0m\n\u001b[1;32m    634\u001b[0m             \u001b[0merror_class\u001b[0m \u001b[0;34m=\u001b[0m \u001b[0mself\u001b[0m\u001b[0;34m.\u001b[0m\u001b[0mexceptions\u001b[0m\u001b[0;34m.\u001b[0m\u001b[0mfrom_code\u001b[0m\u001b[0;34m(\u001b[0m\u001b[0merror_code\u001b[0m\u001b[0;34m)\u001b[0m\u001b[0;34m\u001b[0m\u001b[0;34m\u001b[0m\u001b[0m\n\u001b[0;32m--> 635\u001b[0;31m             \u001b[0;32mraise\u001b[0m \u001b[0merror_class\u001b[0m\u001b[0;34m(\u001b[0m\u001b[0mparsed_response\u001b[0m\u001b[0;34m,\u001b[0m \u001b[0moperation_name\u001b[0m\u001b[0;34m)\u001b[0m\u001b[0;34m\u001b[0m\u001b[0;34m\u001b[0m\u001b[0m\n\u001b[0m\u001b[1;32m    636\u001b[0m         \u001b[0;32melse\u001b[0m\u001b[0;34m:\u001b[0m\u001b[0;34m\u001b[0m\u001b[0;34m\u001b[0m\u001b[0m\n\u001b[1;32m    637\u001b[0m             \u001b[0;32mreturn\u001b[0m \u001b[0mparsed_response\u001b[0m\u001b[0;34m\u001b[0m\u001b[0;34m\u001b[0m\u001b[0m\n",
      "\u001b[0;31mResourceLimitExceeded\u001b[0m: An error occurred (ResourceLimitExceeded) when calling the CreateEndpoint operation: The account-level service limit 'Number of instances across active endpoints' is 2 Instances, with current utilization of 2 Instances and a request delta of 1 Instances. Please contact AWS support to request an increase for this limit."
     ]
    }
   ],
   "source": [
    "# TODO: Deploy the trained model\n",
    "imdb_predictor = estimator.deploy(initial_instance_count=1, instance_type='ml.m4.xlarge')"
   ]
  },
  {
   "cell_type": "markdown",
   "metadata": {},
   "source": [
    "## Step 7 - Use the model for testing\n",
    "\n",
    "Once deployed, we can read in the test data and send it off to our deployed model to get some results. Once we collect all of the results we can determine how accurate our model is."
   ]
  },
  {
   "cell_type": "code",
   "execution_count": null,
   "metadata": {},
   "outputs": [],
   "source": [
    "test_X = pd.concat([pd.DataFrame(test_X_len), pd.DataFrame(test_X)], axis=1)"
   ]
  },
  {
   "cell_type": "code",
   "execution_count": 45,
   "metadata": {},
   "outputs": [],
   "source": [
    "# We split the data into chunks and send each chunk seperately, accumulating the results.\n",
    "\n",
    "def predict(data, rows=512):\n",
    "    split_array = np.array_split(data, int(data.shape[0] / float(rows) + 1))\n",
    "    predictions = np.array([])\n",
    "    for array in split_array:\n",
    "        predictions = np.append(predictions, imdb_predictor.predict(array))\n",
    "    \n",
    "    return predictions"
   ]
  },
  {
   "cell_type": "code",
   "execution_count": 46,
   "metadata": {},
   "outputs": [
    {
     "ename": "AttributeError",
     "evalue": "'numpy.ndarray' object has no attribute 'values'",
     "output_type": "error",
     "traceback": [
      "\u001b[0;31m---------------------------------------------------------------------------\u001b[0m",
      "\u001b[0;31mAttributeError\u001b[0m                            Traceback (most recent call last)",
      "\u001b[0;32m<ipython-input-46-46108efe51ea>\u001b[0m in \u001b[0;36m<module>\u001b[0;34m\u001b[0m\n\u001b[0;32m----> 1\u001b[0;31m \u001b[0mpredictions\u001b[0m \u001b[0;34m=\u001b[0m \u001b[0mpredict\u001b[0m\u001b[0;34m(\u001b[0m\u001b[0mtest_X\u001b[0m\u001b[0;34m.\u001b[0m\u001b[0mvalues\u001b[0m\u001b[0;34m)\u001b[0m\u001b[0;34m\u001b[0m\u001b[0;34m\u001b[0m\u001b[0m\n\u001b[0m\u001b[1;32m      2\u001b[0m \u001b[0mpredictions\u001b[0m \u001b[0;34m=\u001b[0m \u001b[0;34m[\u001b[0m\u001b[0mround\u001b[0m\u001b[0;34m(\u001b[0m\u001b[0mnum\u001b[0m\u001b[0;34m)\u001b[0m \u001b[0;32mfor\u001b[0m \u001b[0mnum\u001b[0m \u001b[0;32min\u001b[0m \u001b[0mpredictions\u001b[0m\u001b[0;34m]\u001b[0m\u001b[0;34m\u001b[0m\u001b[0;34m\u001b[0m\u001b[0m\n",
      "\u001b[0;31mAttributeError\u001b[0m: 'numpy.ndarray' object has no attribute 'values'"
     ]
    }
   ],
   "source": [
    "predictions = predict(test_X.values)\n",
    "predictions = [round(num) for num in predictions]"
   ]
  },
  {
   "cell_type": "code",
   "execution_count": 47,
   "metadata": {},
   "outputs": [
    {
     "ename": "NameError",
     "evalue": "name 'predictions' is not defined",
     "output_type": "error",
     "traceback": [
      "\u001b[0;31m---------------------------------------------------------------------------\u001b[0m",
      "\u001b[0;31mNameError\u001b[0m                                 Traceback (most recent call last)",
      "\u001b[0;32m<ipython-input-47-43c245f597b9>\u001b[0m in \u001b[0;36m<module>\u001b[0;34m\u001b[0m\n\u001b[1;32m      1\u001b[0m \u001b[0;32mfrom\u001b[0m \u001b[0msklearn\u001b[0m\u001b[0;34m.\u001b[0m\u001b[0mmetrics\u001b[0m \u001b[0;32mimport\u001b[0m \u001b[0maccuracy_score\u001b[0m\u001b[0;34m\u001b[0m\u001b[0;34m\u001b[0m\u001b[0m\n\u001b[0;32m----> 2\u001b[0;31m \u001b[0maccuracy_score\u001b[0m\u001b[0;34m(\u001b[0m\u001b[0mtest_y\u001b[0m\u001b[0;34m,\u001b[0m \u001b[0mpredictions\u001b[0m\u001b[0;34m)\u001b[0m\u001b[0;34m\u001b[0m\u001b[0;34m\u001b[0m\u001b[0m\n\u001b[0m",
      "\u001b[0;31mNameError\u001b[0m: name 'predictions' is not defined"
     ]
    }
   ],
   "source": [
    "from sklearn.metrics import accuracy_score\n",
    "accuracy_score(test_y, predictions)"
   ]
  },
  {
   "cell_type": "markdown",
   "metadata": {},
   "source": [
    "**Question:** How does this model compare to the XGBoost model you created earlier? Why might these two models perform differently on this dataset? Which do *you* think is better for sentiment analysis?"
   ]
  },
  {
   "cell_type": "markdown",
   "metadata": {},
   "source": [
    "**Answer:**\n",
    "Both of them seem to have similar performance although this one has slightly better performance.They might perform differently on this data set since they have different hyperparameters. Neural network might be better for sentiment analysis."
   ]
  },
  {
   "cell_type": "markdown",
   "metadata": {},
   "source": [
    "### (TODO) More testing\n",
    "\n",
    "We now have a trained model which has been deployed and which we can send processed reviews to and which returns the predicted sentiment. However, ultimately we would like to be able to send our model an unprocessed review. That is, we would like to send the review itself as a string. For example, suppose we wish to send the following review to our model."
   ]
  },
  {
   "cell_type": "code",
   "execution_count": null,
   "metadata": {},
   "outputs": [],
   "source": [
    "test_review = 'The simplest pleasures in life are the best, and this film is one of them. Combining a rather basic storyline of love and adventure this movie transcends the usual weekend fair with wit and unmitigated charm.'"
   ]
  },
  {
   "cell_type": "markdown",
   "metadata": {},
   "source": [
    "The question we now need to answer is, how do we send this review to our model?\n",
    "\n",
    "Recall in the first section of this notebook we did a bunch of data processing to the IMDb dataset. In particular, we did two specific things to the provided reviews.\n",
    " - Removed any html tags and stemmed the input\n",
    " - Encoded the review as a sequence of integers using `word_dict`\n",
    " \n",
    "In order process the review we will need to repeat these two steps.\n",
    "\n",
    "**TODO**: Using the `review_to_words` and `convert_and_pad` methods from section one, convert `test_review` into a numpy array `test_data` suitable to send to our model. Remember that our model expects input of the form `review_length, review[500]`."
   ]
  },
  {
   "cell_type": "code",
   "execution_count": null,
   "metadata": {},
   "outputs": [],
   "source": [
    "# TODO: Convert test_review into a form usable by the model and save the results in test_data\n",
    "test_data = review_to_words(test_review)\n",
    "test_data, test_data_len = convert_and_pad(word_dict,test_data)\n",
    "test_data = [np.array(test_data)]\n"
   ]
  },
  {
   "cell_type": "markdown",
   "metadata": {},
   "source": [
    "Now that we have processed the review, we can send the resulting array to our model to predict the sentiment of the review."
   ]
  },
  {
   "cell_type": "code",
   "execution_count": null,
   "metadata": {},
   "outputs": [],
   "source": [
    "imdb_predictor.predict(test_data)"
   ]
  },
  {
   "cell_type": "markdown",
   "metadata": {},
   "source": [
    "Since the return value of our model is close to `1`, we can be certain that the review we submitted is positive."
   ]
  },
  {
   "cell_type": "markdown",
   "metadata": {},
   "source": [
    "### Delete the endpoint\n",
    "\n",
    "Of course, just like in the XGBoost notebook, once we've deployed an endpoint it continues to run until we tell it to shut down. Since we are done using our endpoint for now, we can delete it."
   ]
  },
  {
   "cell_type": "code",
   "execution_count": 48,
   "metadata": {},
   "outputs": [
    {
     "name": "stderr",
     "output_type": "stream",
     "text": [
      "estimator.delete_endpoint() will be deprecated in SageMaker Python SDK v2. Please use the delete_endpoint() function on your predictor instead.\n"
     ]
    },
    {
     "ename": "ClientError",
     "evalue": "An error occurred (ValidationException) when calling the DeleteEndpoint operation: Could not find endpoint \"arn:aws:sagemaker:us-east-1:499666689207:endpoint/sagemaker-pytorch-2020-09-08-21-18-31-710\".",
     "output_type": "error",
     "traceback": [
      "\u001b[0;31m---------------------------------------------------------------------------\u001b[0m",
      "\u001b[0;31mClientError\u001b[0m                               Traceback (most recent call last)",
      "\u001b[0;32m<ipython-input-48-46ef5e5e8b7c>\u001b[0m in \u001b[0;36m<module>\u001b[0;34m\u001b[0m\n\u001b[0;32m----> 1\u001b[0;31m \u001b[0mestimator\u001b[0m\u001b[0;34m.\u001b[0m\u001b[0mdelete_endpoint\u001b[0m\u001b[0;34m(\u001b[0m\u001b[0;34m)\u001b[0m\u001b[0;34m\u001b[0m\u001b[0;34m\u001b[0m\u001b[0m\n\u001b[0m",
      "\u001b[0;32m~/anaconda3/envs/pytorch_p36/lib/python3.6/site-packages/sagemaker/estimator.py\u001b[0m in \u001b[0;36mdelete_endpoint\u001b[0;34m(self)\u001b[0m\n\u001b[1;32m    858\u001b[0m \u001b[0;34m\u001b[0m\u001b[0m\n\u001b[1;32m    859\u001b[0m         \u001b[0mself\u001b[0m\u001b[0;34m.\u001b[0m\u001b[0m_ensure_latest_training_job\u001b[0m\u001b[0;34m(\u001b[0m\u001b[0merror_message\u001b[0m\u001b[0;34m=\u001b[0m\u001b[0;34m\"Endpoint was not created yet\"\u001b[0m\u001b[0;34m)\u001b[0m\u001b[0;34m\u001b[0m\u001b[0;34m\u001b[0m\u001b[0m\n\u001b[0;32m--> 860\u001b[0;31m         \u001b[0mself\u001b[0m\u001b[0;34m.\u001b[0m\u001b[0msagemaker_session\u001b[0m\u001b[0;34m.\u001b[0m\u001b[0mdelete_endpoint\u001b[0m\u001b[0;34m(\u001b[0m\u001b[0mself\u001b[0m\u001b[0;34m.\u001b[0m\u001b[0mlatest_training_job\u001b[0m\u001b[0;34m.\u001b[0m\u001b[0mname\u001b[0m\u001b[0;34m)\u001b[0m\u001b[0;34m\u001b[0m\u001b[0;34m\u001b[0m\u001b[0m\n\u001b[0m\u001b[1;32m    861\u001b[0m \u001b[0;34m\u001b[0m\u001b[0m\n\u001b[1;32m    862\u001b[0m     def transformer(\n",
      "\u001b[0;32m~/anaconda3/envs/pytorch_p36/lib/python3.6/site-packages/sagemaker/session.py\u001b[0m in \u001b[0;36mdelete_endpoint\u001b[0;34m(self, endpoint_name)\u001b[0m\n\u001b[1;32m   2468\u001b[0m         \"\"\"\n\u001b[1;32m   2469\u001b[0m         \u001b[0mLOGGER\u001b[0m\u001b[0;34m.\u001b[0m\u001b[0minfo\u001b[0m\u001b[0;34m(\u001b[0m\u001b[0;34m\"Deleting endpoint with name: %s\"\u001b[0m\u001b[0;34m,\u001b[0m \u001b[0mendpoint_name\u001b[0m\u001b[0;34m)\u001b[0m\u001b[0;34m\u001b[0m\u001b[0;34m\u001b[0m\u001b[0m\n\u001b[0;32m-> 2470\u001b[0;31m         \u001b[0mself\u001b[0m\u001b[0;34m.\u001b[0m\u001b[0msagemaker_client\u001b[0m\u001b[0;34m.\u001b[0m\u001b[0mdelete_endpoint\u001b[0m\u001b[0;34m(\u001b[0m\u001b[0mEndpointName\u001b[0m\u001b[0;34m=\u001b[0m\u001b[0mendpoint_name\u001b[0m\u001b[0;34m)\u001b[0m\u001b[0;34m\u001b[0m\u001b[0;34m\u001b[0m\u001b[0m\n\u001b[0m\u001b[1;32m   2471\u001b[0m \u001b[0;34m\u001b[0m\u001b[0m\n\u001b[1;32m   2472\u001b[0m     \u001b[0;32mdef\u001b[0m \u001b[0mdelete_endpoint_config\u001b[0m\u001b[0;34m(\u001b[0m\u001b[0mself\u001b[0m\u001b[0;34m,\u001b[0m \u001b[0mendpoint_config_name\u001b[0m\u001b[0;34m)\u001b[0m\u001b[0;34m:\u001b[0m\u001b[0;34m\u001b[0m\u001b[0;34m\u001b[0m\u001b[0m\n",
      "\u001b[0;32m~/anaconda3/envs/pytorch_p36/lib/python3.6/site-packages/botocore/client.py\u001b[0m in \u001b[0;36m_api_call\u001b[0;34m(self, *args, **kwargs)\u001b[0m\n\u001b[1;32m    314\u001b[0m                     \"%s() only accepts keyword arguments.\" % py_operation_name)\n\u001b[1;32m    315\u001b[0m             \u001b[0;31m# The \"self\" in this scope is referring to the BaseClient.\u001b[0m\u001b[0;34m\u001b[0m\u001b[0;34m\u001b[0m\u001b[0;34m\u001b[0m\u001b[0m\n\u001b[0;32m--> 316\u001b[0;31m             \u001b[0;32mreturn\u001b[0m \u001b[0mself\u001b[0m\u001b[0;34m.\u001b[0m\u001b[0m_make_api_call\u001b[0m\u001b[0;34m(\u001b[0m\u001b[0moperation_name\u001b[0m\u001b[0;34m,\u001b[0m \u001b[0mkwargs\u001b[0m\u001b[0;34m)\u001b[0m\u001b[0;34m\u001b[0m\u001b[0;34m\u001b[0m\u001b[0m\n\u001b[0m\u001b[1;32m    317\u001b[0m \u001b[0;34m\u001b[0m\u001b[0m\n\u001b[1;32m    318\u001b[0m         \u001b[0m_api_call\u001b[0m\u001b[0;34m.\u001b[0m\u001b[0m__name__\u001b[0m \u001b[0;34m=\u001b[0m \u001b[0mstr\u001b[0m\u001b[0;34m(\u001b[0m\u001b[0mpy_operation_name\u001b[0m\u001b[0;34m)\u001b[0m\u001b[0;34m\u001b[0m\u001b[0;34m\u001b[0m\u001b[0m\n",
      "\u001b[0;32m~/anaconda3/envs/pytorch_p36/lib/python3.6/site-packages/botocore/client.py\u001b[0m in \u001b[0;36m_make_api_call\u001b[0;34m(self, operation_name, api_params)\u001b[0m\n\u001b[1;32m    633\u001b[0m             \u001b[0merror_code\u001b[0m \u001b[0;34m=\u001b[0m \u001b[0mparsed_response\u001b[0m\u001b[0;34m.\u001b[0m\u001b[0mget\u001b[0m\u001b[0;34m(\u001b[0m\u001b[0;34m\"Error\"\u001b[0m\u001b[0;34m,\u001b[0m \u001b[0;34m{\u001b[0m\u001b[0;34m}\u001b[0m\u001b[0;34m)\u001b[0m\u001b[0;34m.\u001b[0m\u001b[0mget\u001b[0m\u001b[0;34m(\u001b[0m\u001b[0;34m\"Code\"\u001b[0m\u001b[0;34m)\u001b[0m\u001b[0;34m\u001b[0m\u001b[0;34m\u001b[0m\u001b[0m\n\u001b[1;32m    634\u001b[0m             \u001b[0merror_class\u001b[0m \u001b[0;34m=\u001b[0m \u001b[0mself\u001b[0m\u001b[0;34m.\u001b[0m\u001b[0mexceptions\u001b[0m\u001b[0;34m.\u001b[0m\u001b[0mfrom_code\u001b[0m\u001b[0;34m(\u001b[0m\u001b[0merror_code\u001b[0m\u001b[0;34m)\u001b[0m\u001b[0;34m\u001b[0m\u001b[0;34m\u001b[0m\u001b[0m\n\u001b[0;32m--> 635\u001b[0;31m             \u001b[0;32mraise\u001b[0m \u001b[0merror_class\u001b[0m\u001b[0;34m(\u001b[0m\u001b[0mparsed_response\u001b[0m\u001b[0;34m,\u001b[0m \u001b[0moperation_name\u001b[0m\u001b[0;34m)\u001b[0m\u001b[0;34m\u001b[0m\u001b[0;34m\u001b[0m\u001b[0m\n\u001b[0m\u001b[1;32m    636\u001b[0m         \u001b[0;32melse\u001b[0m\u001b[0;34m:\u001b[0m\u001b[0;34m\u001b[0m\u001b[0;34m\u001b[0m\u001b[0m\n\u001b[1;32m    637\u001b[0m             \u001b[0;32mreturn\u001b[0m \u001b[0mparsed_response\u001b[0m\u001b[0;34m\u001b[0m\u001b[0;34m\u001b[0m\u001b[0m\n",
      "\u001b[0;31mClientError\u001b[0m: An error occurred (ValidationException) when calling the DeleteEndpoint operation: Could not find endpoint \"arn:aws:sagemaker:us-east-1:499666689207:endpoint/sagemaker-pytorch-2020-09-08-21-18-31-710\"."
     ]
    }
   ],
   "source": [
    "estimator.delete_endpoint()"
   ]
  },
  {
   "cell_type": "markdown",
   "metadata": {},
   "source": [
    "## Step 6 (again) - Deploy the model for the web app\n",
    "\n",
    "Now that we know that our model is working, it's time to create some custom inference code so that we can send the model a review which has not been processed and have it determine the sentiment of the review.\n",
    "\n",
    "As we saw above, by default the estimator which we created, when deployed, will use the entry script and directory which we provided when creating the model. However, since we now wish to accept a string as input and our model expects a processed review, we need to write some custom inference code.\n",
    "\n",
    "We will store the code that we write in the `serve` directory. Provided in this directory is the `model.py` file that we used to construct our model, a `utils.py` file which contains the `review_to_words` and `convert_and_pad` pre-processing functions which we used during the initial data processing, and `predict.py`, the file which will contain our custom inference code. Note also that `requirements.txt` is present which will tell SageMaker what Python libraries are required by our custom inference code.\n",
    "\n",
    "When deploying a PyTorch model in SageMaker, you are expected to provide four functions which the SageMaker inference container will use.\n",
    " - `model_fn`: This function is the same function that we used in the training script and it tells SageMaker how to load our model.\n",
    " - `input_fn`: This function receives the raw serialized input that has been sent to the model's endpoint and its job is to de-serialize and make the input available for the inference code.\n",
    " - `output_fn`: This function takes the output of the inference code and its job is to serialize this output and return it to the caller of the model's endpoint.\n",
    " - `predict_fn`: The heart of the inference script, this is where the actual prediction is done and is the function which you will need to complete.\n",
    "\n",
    "For the simple website that we are constructing during this project, the `input_fn` and `output_fn` methods are relatively straightforward. We only require being able to accept a string as input and we expect to return a single value as output. You might imagine though that in a more complex application the input or output may be image data or some other binary data which would require some effort to serialize.\n",
    "\n",
    "### (TODO) Writing inference code\n",
    "\n",
    "Before writing our custom inference code, we will begin by taking a look at the code which has been provided."
   ]
  },
  {
   "cell_type": "code",
   "execution_count": 49,
   "metadata": {
    "scrolled": false
   },
   "outputs": [
    {
     "name": "stdout",
     "output_type": "stream",
     "text": [
      "\u001b[34mimport\u001b[39;49;00m \u001b[04m\u001b[36margparse\u001b[39;49;00m\r\n",
      "\u001b[34mimport\u001b[39;49;00m \u001b[04m\u001b[36mjson\u001b[39;49;00m\r\n",
      "\u001b[34mimport\u001b[39;49;00m \u001b[04m\u001b[36mos\u001b[39;49;00m\r\n",
      "\u001b[34mimport\u001b[39;49;00m \u001b[04m\u001b[36mpickle\u001b[39;49;00m\r\n",
      "\u001b[34mimport\u001b[39;49;00m \u001b[04m\u001b[36msys\u001b[39;49;00m\r\n",
      "\u001b[34mimport\u001b[39;49;00m \u001b[04m\u001b[36msagemaker_containers\u001b[39;49;00m\r\n",
      "\u001b[34mimport\u001b[39;49;00m \u001b[04m\u001b[36mpandas\u001b[39;49;00m \u001b[34mas\u001b[39;49;00m \u001b[04m\u001b[36mpd\u001b[39;49;00m\r\n",
      "\u001b[34mimport\u001b[39;49;00m \u001b[04m\u001b[36mnumpy\u001b[39;49;00m \u001b[34mas\u001b[39;49;00m \u001b[04m\u001b[36mnp\u001b[39;49;00m\r\n",
      "\u001b[34mimport\u001b[39;49;00m \u001b[04m\u001b[36mtorch\u001b[39;49;00m\r\n",
      "\u001b[34mimport\u001b[39;49;00m \u001b[04m\u001b[36mtorch\u001b[39;49;00m\u001b[04m\u001b[36m.\u001b[39;49;00m\u001b[04m\u001b[36mnn\u001b[39;49;00m \u001b[34mas\u001b[39;49;00m \u001b[04m\u001b[36mnn\u001b[39;49;00m\r\n",
      "\u001b[34mimport\u001b[39;49;00m \u001b[04m\u001b[36mtorch\u001b[39;49;00m\u001b[04m\u001b[36m.\u001b[39;49;00m\u001b[04m\u001b[36moptim\u001b[39;49;00m \u001b[34mas\u001b[39;49;00m \u001b[04m\u001b[36moptim\u001b[39;49;00m\r\n",
      "\u001b[34mimport\u001b[39;49;00m \u001b[04m\u001b[36mtorch\u001b[39;49;00m\u001b[04m\u001b[36m.\u001b[39;49;00m\u001b[04m\u001b[36mutils\u001b[39;49;00m\u001b[04m\u001b[36m.\u001b[39;49;00m\u001b[04m\u001b[36mdata\u001b[39;49;00m\r\n",
      "\r\n",
      "\u001b[34mfrom\u001b[39;49;00m \u001b[04m\u001b[36mmodel\u001b[39;49;00m \u001b[34mimport\u001b[39;49;00m LSTMClassifier\r\n",
      "\r\n",
      "\u001b[34mfrom\u001b[39;49;00m \u001b[04m\u001b[36mutils\u001b[39;49;00m \u001b[34mimport\u001b[39;49;00m review_to_words, convert_and_pad\r\n",
      "\r\n",
      "\u001b[34mdef\u001b[39;49;00m \u001b[32mmodel_fn\u001b[39;49;00m(model_dir):\r\n",
      "    \u001b[33m\"\"\"Load the PyTorch model from the `model_dir` directory.\"\"\"\u001b[39;49;00m\r\n",
      "    \u001b[36mprint\u001b[39;49;00m(\u001b[33m\"\u001b[39;49;00m\u001b[33mLoading model.\u001b[39;49;00m\u001b[33m\"\u001b[39;49;00m)\r\n",
      "\r\n",
      "    \u001b[37m# First, load the parameters used to create the model.\u001b[39;49;00m\r\n",
      "    model_info = {}\r\n",
      "    model_info_path = os.path.join(model_dir, \u001b[33m'\u001b[39;49;00m\u001b[33mmodel_info.pth\u001b[39;49;00m\u001b[33m'\u001b[39;49;00m)\r\n",
      "    \u001b[34mwith\u001b[39;49;00m \u001b[36mopen\u001b[39;49;00m(model_info_path, \u001b[33m'\u001b[39;49;00m\u001b[33mrb\u001b[39;49;00m\u001b[33m'\u001b[39;49;00m) \u001b[34mas\u001b[39;49;00m f:\r\n",
      "        model_info = torch.load(f)\r\n",
      "\r\n",
      "    \u001b[36mprint\u001b[39;49;00m(\u001b[33m\"\u001b[39;49;00m\u001b[33mmodel_info: \u001b[39;49;00m\u001b[33m{}\u001b[39;49;00m\u001b[33m\"\u001b[39;49;00m.format(model_info))\r\n",
      "\r\n",
      "    \u001b[37m# Determine the device and construct the model.\u001b[39;49;00m\r\n",
      "    device = torch.device(\u001b[33m\"\u001b[39;49;00m\u001b[33mcuda\u001b[39;49;00m\u001b[33m\"\u001b[39;49;00m \u001b[34mif\u001b[39;49;00m torch.cuda.is_available() \u001b[34melse\u001b[39;49;00m \u001b[33m\"\u001b[39;49;00m\u001b[33mcpu\u001b[39;49;00m\u001b[33m\"\u001b[39;49;00m)\r\n",
      "    model = LSTMClassifier(model_info[\u001b[33m'\u001b[39;49;00m\u001b[33membedding_dim\u001b[39;49;00m\u001b[33m'\u001b[39;49;00m], model_info[\u001b[33m'\u001b[39;49;00m\u001b[33mhidden_dim\u001b[39;49;00m\u001b[33m'\u001b[39;49;00m], model_info[\u001b[33m'\u001b[39;49;00m\u001b[33mvocab_size\u001b[39;49;00m\u001b[33m'\u001b[39;49;00m])\r\n",
      "\r\n",
      "    \u001b[37m# Load the store model parameters.\u001b[39;49;00m\r\n",
      "    model_path = os.path.join(model_dir, \u001b[33m'\u001b[39;49;00m\u001b[33mmodel.pth\u001b[39;49;00m\u001b[33m'\u001b[39;49;00m)\r\n",
      "    \u001b[34mwith\u001b[39;49;00m \u001b[36mopen\u001b[39;49;00m(model_path, \u001b[33m'\u001b[39;49;00m\u001b[33mrb\u001b[39;49;00m\u001b[33m'\u001b[39;49;00m) \u001b[34mas\u001b[39;49;00m f:\r\n",
      "        model.load_state_dict(torch.load(f))\r\n",
      "\r\n",
      "    \u001b[37m# Load the saved word_dict.\u001b[39;49;00m\r\n",
      "    word_dict_path = os.path.join(model_dir, \u001b[33m'\u001b[39;49;00m\u001b[33mword_dict.pkl\u001b[39;49;00m\u001b[33m'\u001b[39;49;00m)\r\n",
      "    \u001b[34mwith\u001b[39;49;00m \u001b[36mopen\u001b[39;49;00m(word_dict_path, \u001b[33m'\u001b[39;49;00m\u001b[33mrb\u001b[39;49;00m\u001b[33m'\u001b[39;49;00m) \u001b[34mas\u001b[39;49;00m f:\r\n",
      "        model.word_dict = pickle.load(f)\r\n",
      "\r\n",
      "    model.to(device).eval()\r\n",
      "\r\n",
      "    \u001b[36mprint\u001b[39;49;00m(\u001b[33m\"\u001b[39;49;00m\u001b[33mDone loading model.\u001b[39;49;00m\u001b[33m\"\u001b[39;49;00m)\r\n",
      "    \u001b[34mreturn\u001b[39;49;00m model\r\n",
      "\r\n",
      "\u001b[34mdef\u001b[39;49;00m \u001b[32minput_fn\u001b[39;49;00m(serialized_input_data, content_type):\r\n",
      "    \u001b[36mprint\u001b[39;49;00m(\u001b[33m'\u001b[39;49;00m\u001b[33mDeserializing the input data.\u001b[39;49;00m\u001b[33m'\u001b[39;49;00m)\r\n",
      "    \u001b[34mif\u001b[39;49;00m content_type == \u001b[33m'\u001b[39;49;00m\u001b[33mtext/plain\u001b[39;49;00m\u001b[33m'\u001b[39;49;00m:\r\n",
      "        data = serialized_input_data.decode(\u001b[33m'\u001b[39;49;00m\u001b[33mutf-8\u001b[39;49;00m\u001b[33m'\u001b[39;49;00m)\r\n",
      "        \u001b[34mreturn\u001b[39;49;00m data\r\n",
      "    \u001b[34mraise\u001b[39;49;00m \u001b[36mException\u001b[39;49;00m(\u001b[33m'\u001b[39;49;00m\u001b[33mRequested unsupported ContentType in content_type: \u001b[39;49;00m\u001b[33m'\u001b[39;49;00m + content_type)\r\n",
      "\r\n",
      "\u001b[34mdef\u001b[39;49;00m \u001b[32moutput_fn\u001b[39;49;00m(prediction_output, accept):\r\n",
      "    \u001b[36mprint\u001b[39;49;00m(\u001b[33m'\u001b[39;49;00m\u001b[33mSerializing the generated output.\u001b[39;49;00m\u001b[33m'\u001b[39;49;00m)\r\n",
      "    \u001b[34mreturn\u001b[39;49;00m \u001b[36mstr\u001b[39;49;00m(prediction_output)\r\n",
      "\r\n",
      "\u001b[34mdef\u001b[39;49;00m \u001b[32mpredict_fn\u001b[39;49;00m(input_data, model):\r\n",
      "    \u001b[36mprint\u001b[39;49;00m(\u001b[33m'\u001b[39;49;00m\u001b[33mInferring sentiment of input data.\u001b[39;49;00m\u001b[33m'\u001b[39;49;00m)\r\n",
      "\r\n",
      "    device = torch.device(\u001b[33m\"\u001b[39;49;00m\u001b[33mcuda\u001b[39;49;00m\u001b[33m\"\u001b[39;49;00m \u001b[34mif\u001b[39;49;00m torch.cuda.is_available() \u001b[34melse\u001b[39;49;00m \u001b[33m\"\u001b[39;49;00m\u001b[33mcpu\u001b[39;49;00m\u001b[33m\"\u001b[39;49;00m)\r\n",
      "    \r\n",
      "    \u001b[34mif\u001b[39;49;00m model.word_dict \u001b[35mis\u001b[39;49;00m \u001b[34mNone\u001b[39;49;00m:\r\n",
      "        \u001b[34mraise\u001b[39;49;00m \u001b[36mException\u001b[39;49;00m(\u001b[33m'\u001b[39;49;00m\u001b[33mModel has not been loaded properly, no word_dict.\u001b[39;49;00m\u001b[33m'\u001b[39;49;00m)\r\n",
      "    \r\n",
      "    \u001b[37m# TODO: Process input_data so that it is ready to be sent to our model.\u001b[39;49;00m\r\n",
      "    \u001b[37m#       You should produce two variables:\u001b[39;49;00m\r\n",
      "    \u001b[37m#         data_X   - A sequence of length 500 which represents the converted review\u001b[39;49;00m\r\n",
      "    \u001b[37m#         data_len - The length of the review\u001b[39;49;00m\r\n",
      "\r\n",
      "   \u001b[37m#data = review_to_words(input_data)\u001b[39;49;00m\r\n",
      "   \u001b[37m#data_X,  data_len = convert_and_pad(model.word_dict,data)\u001b[39;49;00m\r\n",
      "    data_X ,data_len = convert_and_pad(model.word_dict, review_to_words(input_data))\r\n",
      "\r\n",
      "    \u001b[37m# Using data_X and data_len we construct an appropriate input tensor. Remember\u001b[39;49;00m\r\n",
      "    \u001b[37m# that our model expects input data of the form 'len, review[500]'.\u001b[39;49;00m\r\n",
      "    data_pack = np.hstack((data_len, data_X))\r\n",
      "    data_pack = data_pack.reshape(\u001b[34m1\u001b[39;49;00m, -\u001b[34m1\u001b[39;49;00m)\r\n",
      "    \r\n",
      "    data = torch.from_numpy(data_pack)\r\n",
      "    data = data.to(device)\r\n",
      "\r\n",
      "    \u001b[37m# Make sure to put the model into evaluation mode\u001b[39;49;00m\r\n",
      "    model.eval()\r\n",
      "\r\n",
      "    \u001b[37m# TODO: Compute the result of applying the model to the input data. The variable `result` should\u001b[39;49;00m\r\n",
      "    \u001b[37m#       be a numpy array which contains a single integer which is either 1 or 0\u001b[39;49;00m\r\n",
      "\r\n",
      "    \u001b[34mwith\u001b[39;49;00m torch.no_grad():\r\n",
      "        output = model.forward(data)\r\n",
      "        \r\n",
      "    result = \u001b[36mint\u001b[39;49;00m(\u001b[36mround\u001b[39;49;00m(output.numpy()))\r\n",
      "\r\n",
      "    \u001b[34mreturn\u001b[39;49;00m result\r\n"
     ]
    }
   ],
   "source": [
    "!pygmentize serve/predict.py"
   ]
  },
  {
   "cell_type": "markdown",
   "metadata": {},
   "source": [
    "As mentioned earlier, the `model_fn` method is the same as the one provided in the training code and the `input_fn` and `output_fn` methods are very simple and your task will be to complete the `predict_fn` method. Make sure that you save the completed file as `predict.py` in the `serve` directory.\n",
    "\n",
    "**TODO**: Complete the `predict_fn()` method in the `serve/predict.py` file."
   ]
  },
  {
   "cell_type": "markdown",
   "metadata": {},
   "source": [
    "### Deploying the model\n",
    "\n",
    "Now that the custom inference code has been written, we will create and deploy our model. To begin with, we need to construct a new PyTorchModel object which points to the model artifacts created during training and also points to the inference code that we wish to use. Then we can call the deploy method to launch the deployment container.\n",
    "\n",
    "**NOTE**: The default behaviour for a deployed PyTorch model is to assume that any input passed to the predictor is a `numpy` array. In our case we want to send a string so we need to construct a simple wrapper around the `RealTimePredictor` class to accomodate simple strings. In a more complicated situation you may want to provide a serialization object, for example if you wanted to sent image data."
   ]
  },
  {
   "cell_type": "code",
   "execution_count": 50,
   "metadata": {},
   "outputs": [
    {
     "name": "stderr",
     "output_type": "stream",
     "text": [
      "Parameter image will be renamed to image_uri in SageMaker Python SDK v2.\n",
      "'create_image_uri' will be deprecated in favor of 'ImageURIProvider' class in SageMaker Python SDK v2.\n"
     ]
    },
    {
     "ename": "ResourceLimitExceeded",
     "evalue": "An error occurred (ResourceLimitExceeded) when calling the CreateEndpoint operation: The account-level service limit 'Number of instances across active endpoints' is 2 Instances, with current utilization of 2 Instances and a request delta of 1 Instances. Please contact AWS support to request an increase for this limit.",
     "output_type": "error",
     "traceback": [
      "\u001b[0;31m---------------------------------------------------------------------------\u001b[0m",
      "\u001b[0;31mResourceLimitExceeded\u001b[0m                     Traceback (most recent call last)",
      "\u001b[0;32m<ipython-input-50-9c09fa281686>\u001b[0m in \u001b[0;36m<module>\u001b[0;34m\u001b[0m\n\u001b[1;32m     12\u001b[0m                      \u001b[0msource_dir\u001b[0m\u001b[0;34m=\u001b[0m\u001b[0;34m'serve'\u001b[0m\u001b[0;34m,\u001b[0m\u001b[0;34m\u001b[0m\u001b[0;34m\u001b[0m\u001b[0m\n\u001b[1;32m     13\u001b[0m                      predictor_cls=StringPredictor)\n\u001b[0;32m---> 14\u001b[0;31m \u001b[0mpredictor\u001b[0m \u001b[0;34m=\u001b[0m \u001b[0mmodel\u001b[0m\u001b[0;34m.\u001b[0m\u001b[0mdeploy\u001b[0m\u001b[0;34m(\u001b[0m\u001b[0minitial_instance_count\u001b[0m\u001b[0;34m=\u001b[0m\u001b[0;36m1\u001b[0m\u001b[0;34m,\u001b[0m \u001b[0minstance_type\u001b[0m\u001b[0;34m=\u001b[0m\u001b[0;34m'ml.m4.xlarge'\u001b[0m\u001b[0;34m)\u001b[0m\u001b[0;34m\u001b[0m\u001b[0;34m\u001b[0m\u001b[0m\n\u001b[0m",
      "\u001b[0;32m~/anaconda3/envs/pytorch_p36/lib/python3.6/site-packages/sagemaker/model.py\u001b[0m in \u001b[0;36mdeploy\u001b[0;34m(self, initial_instance_count, instance_type, accelerator_type, endpoint_name, update_endpoint, tags, kms_key, wait, data_capture_config)\u001b[0m\n\u001b[1;32m    577\u001b[0m                 \u001b[0mkms_key\u001b[0m\u001b[0;34m=\u001b[0m\u001b[0mkms_key\u001b[0m\u001b[0;34m,\u001b[0m\u001b[0;34m\u001b[0m\u001b[0;34m\u001b[0m\u001b[0m\n\u001b[1;32m    578\u001b[0m                 \u001b[0mwait\u001b[0m\u001b[0;34m=\u001b[0m\u001b[0mwait\u001b[0m\u001b[0;34m,\u001b[0m\u001b[0;34m\u001b[0m\u001b[0;34m\u001b[0m\u001b[0m\n\u001b[0;32m--> 579\u001b[0;31m                 \u001b[0mdata_capture_config_dict\u001b[0m\u001b[0;34m=\u001b[0m\u001b[0mdata_capture_config_dict\u001b[0m\u001b[0;34m,\u001b[0m\u001b[0;34m\u001b[0m\u001b[0;34m\u001b[0m\u001b[0m\n\u001b[0m\u001b[1;32m    580\u001b[0m             )\n\u001b[1;32m    581\u001b[0m \u001b[0;34m\u001b[0m\u001b[0m\n",
      "\u001b[0;32m~/anaconda3/envs/pytorch_p36/lib/python3.6/site-packages/sagemaker/session.py\u001b[0m in \u001b[0;36mendpoint_from_production_variants\u001b[0;34m(self, name, production_variants, tags, kms_key, wait, data_capture_config_dict)\u001b[0m\n\u001b[1;32m   2903\u001b[0m \u001b[0;34m\u001b[0m\u001b[0m\n\u001b[1;32m   2904\u001b[0m             \u001b[0mself\u001b[0m\u001b[0;34m.\u001b[0m\u001b[0msagemaker_client\u001b[0m\u001b[0;34m.\u001b[0m\u001b[0mcreate_endpoint_config\u001b[0m\u001b[0;34m(\u001b[0m\u001b[0;34m**\u001b[0m\u001b[0mconfig_options\u001b[0m\u001b[0;34m)\u001b[0m\u001b[0;34m\u001b[0m\u001b[0;34m\u001b[0m\u001b[0m\n\u001b[0;32m-> 2905\u001b[0;31m         \u001b[0;32mreturn\u001b[0m \u001b[0mself\u001b[0m\u001b[0;34m.\u001b[0m\u001b[0mcreate_endpoint\u001b[0m\u001b[0;34m(\u001b[0m\u001b[0mendpoint_name\u001b[0m\u001b[0;34m=\u001b[0m\u001b[0mname\u001b[0m\u001b[0;34m,\u001b[0m \u001b[0mconfig_name\u001b[0m\u001b[0;34m=\u001b[0m\u001b[0mname\u001b[0m\u001b[0;34m,\u001b[0m \u001b[0mtags\u001b[0m\u001b[0;34m=\u001b[0m\u001b[0mtags\u001b[0m\u001b[0;34m,\u001b[0m \u001b[0mwait\u001b[0m\u001b[0;34m=\u001b[0m\u001b[0mwait\u001b[0m\u001b[0;34m)\u001b[0m\u001b[0;34m\u001b[0m\u001b[0;34m\u001b[0m\u001b[0m\n\u001b[0m\u001b[1;32m   2906\u001b[0m \u001b[0;34m\u001b[0m\u001b[0m\n\u001b[1;32m   2907\u001b[0m     \u001b[0;32mdef\u001b[0m \u001b[0mexpand_role\u001b[0m\u001b[0;34m(\u001b[0m\u001b[0mself\u001b[0m\u001b[0;34m,\u001b[0m \u001b[0mrole\u001b[0m\u001b[0;34m)\u001b[0m\u001b[0;34m:\u001b[0m\u001b[0;34m\u001b[0m\u001b[0;34m\u001b[0m\u001b[0m\n",
      "\u001b[0;32m~/anaconda3/envs/pytorch_p36/lib/python3.6/site-packages/sagemaker/session.py\u001b[0m in \u001b[0;36mcreate_endpoint\u001b[0;34m(self, endpoint_name, config_name, tags, wait)\u001b[0m\n\u001b[1;32m   2420\u001b[0m \u001b[0;34m\u001b[0m\u001b[0m\n\u001b[1;32m   2421\u001b[0m         self.sagemaker_client.create_endpoint(\n\u001b[0;32m-> 2422\u001b[0;31m             \u001b[0mEndpointName\u001b[0m\u001b[0;34m=\u001b[0m\u001b[0mendpoint_name\u001b[0m\u001b[0;34m,\u001b[0m \u001b[0mEndpointConfigName\u001b[0m\u001b[0;34m=\u001b[0m\u001b[0mconfig_name\u001b[0m\u001b[0;34m,\u001b[0m \u001b[0mTags\u001b[0m\u001b[0;34m=\u001b[0m\u001b[0mtags\u001b[0m\u001b[0;34m\u001b[0m\u001b[0;34m\u001b[0m\u001b[0m\n\u001b[0m\u001b[1;32m   2423\u001b[0m         )\n\u001b[1;32m   2424\u001b[0m         \u001b[0;32mif\u001b[0m \u001b[0mwait\u001b[0m\u001b[0;34m:\u001b[0m\u001b[0;34m\u001b[0m\u001b[0;34m\u001b[0m\u001b[0m\n",
      "\u001b[0;32m~/anaconda3/envs/pytorch_p36/lib/python3.6/site-packages/botocore/client.py\u001b[0m in \u001b[0;36m_api_call\u001b[0;34m(self, *args, **kwargs)\u001b[0m\n\u001b[1;32m    314\u001b[0m                     \"%s() only accepts keyword arguments.\" % py_operation_name)\n\u001b[1;32m    315\u001b[0m             \u001b[0;31m# The \"self\" in this scope is referring to the BaseClient.\u001b[0m\u001b[0;34m\u001b[0m\u001b[0;34m\u001b[0m\u001b[0;34m\u001b[0m\u001b[0m\n\u001b[0;32m--> 316\u001b[0;31m             \u001b[0;32mreturn\u001b[0m \u001b[0mself\u001b[0m\u001b[0;34m.\u001b[0m\u001b[0m_make_api_call\u001b[0m\u001b[0;34m(\u001b[0m\u001b[0moperation_name\u001b[0m\u001b[0;34m,\u001b[0m \u001b[0mkwargs\u001b[0m\u001b[0;34m)\u001b[0m\u001b[0;34m\u001b[0m\u001b[0;34m\u001b[0m\u001b[0m\n\u001b[0m\u001b[1;32m    317\u001b[0m \u001b[0;34m\u001b[0m\u001b[0m\n\u001b[1;32m    318\u001b[0m         \u001b[0m_api_call\u001b[0m\u001b[0;34m.\u001b[0m\u001b[0m__name__\u001b[0m \u001b[0;34m=\u001b[0m \u001b[0mstr\u001b[0m\u001b[0;34m(\u001b[0m\u001b[0mpy_operation_name\u001b[0m\u001b[0;34m)\u001b[0m\u001b[0;34m\u001b[0m\u001b[0;34m\u001b[0m\u001b[0m\n",
      "\u001b[0;32m~/anaconda3/envs/pytorch_p36/lib/python3.6/site-packages/botocore/client.py\u001b[0m in \u001b[0;36m_make_api_call\u001b[0;34m(self, operation_name, api_params)\u001b[0m\n\u001b[1;32m    633\u001b[0m             \u001b[0merror_code\u001b[0m \u001b[0;34m=\u001b[0m \u001b[0mparsed_response\u001b[0m\u001b[0;34m.\u001b[0m\u001b[0mget\u001b[0m\u001b[0;34m(\u001b[0m\u001b[0;34m\"Error\"\u001b[0m\u001b[0;34m,\u001b[0m \u001b[0;34m{\u001b[0m\u001b[0;34m}\u001b[0m\u001b[0;34m)\u001b[0m\u001b[0;34m.\u001b[0m\u001b[0mget\u001b[0m\u001b[0;34m(\u001b[0m\u001b[0;34m\"Code\"\u001b[0m\u001b[0;34m)\u001b[0m\u001b[0;34m\u001b[0m\u001b[0;34m\u001b[0m\u001b[0m\n\u001b[1;32m    634\u001b[0m             \u001b[0merror_class\u001b[0m \u001b[0;34m=\u001b[0m \u001b[0mself\u001b[0m\u001b[0;34m.\u001b[0m\u001b[0mexceptions\u001b[0m\u001b[0;34m.\u001b[0m\u001b[0mfrom_code\u001b[0m\u001b[0;34m(\u001b[0m\u001b[0merror_code\u001b[0m\u001b[0;34m)\u001b[0m\u001b[0;34m\u001b[0m\u001b[0;34m\u001b[0m\u001b[0m\n\u001b[0;32m--> 635\u001b[0;31m             \u001b[0;32mraise\u001b[0m \u001b[0merror_class\u001b[0m\u001b[0;34m(\u001b[0m\u001b[0mparsed_response\u001b[0m\u001b[0;34m,\u001b[0m \u001b[0moperation_name\u001b[0m\u001b[0;34m)\u001b[0m\u001b[0;34m\u001b[0m\u001b[0;34m\u001b[0m\u001b[0m\n\u001b[0m\u001b[1;32m    636\u001b[0m         \u001b[0;32melse\u001b[0m\u001b[0;34m:\u001b[0m\u001b[0;34m\u001b[0m\u001b[0;34m\u001b[0m\u001b[0m\n\u001b[1;32m    637\u001b[0m             \u001b[0;32mreturn\u001b[0m \u001b[0mparsed_response\u001b[0m\u001b[0;34m\u001b[0m\u001b[0;34m\u001b[0m\u001b[0m\n",
      "\u001b[0;31mResourceLimitExceeded\u001b[0m: An error occurred (ResourceLimitExceeded) when calling the CreateEndpoint operation: The account-level service limit 'Number of instances across active endpoints' is 2 Instances, with current utilization of 2 Instances and a request delta of 1 Instances. Please contact AWS support to request an increase for this limit."
     ]
    }
   ],
   "source": [
    "from sagemaker.predictor import RealTimePredictor\n",
    "from sagemaker.pytorch import PyTorchModel\n",
    "\n",
    "class StringPredictor(RealTimePredictor):\n",
    "    def __init__(self, endpoint_name, sagemaker_session):\n",
    "        super(StringPredictor, self).__init__(endpoint_name, sagemaker_session, content_type='text/plain')\n",
    "\n",
    "model = PyTorchModel(model_data=estimator.model_data,\n",
    "                     role = role,\n",
    "                     framework_version='0.4.0',\n",
    "                     entry_point='predict.py',\n",
    "                     source_dir='serve',\n",
    "                     predictor_cls=StringPredictor)\n",
    "predictor = model.deploy(initial_instance_count=1, instance_type='ml.m4.xlarge')"
   ]
  },
  {
   "cell_type": "markdown",
   "metadata": {},
   "source": [
    "### Testing the model\n",
    "\n",
    "Now that we have deployed our model with the custom inference code, we should test to see if everything is working. Here we test our model by loading the first `250` positive and negative reviews and send them to the endpoint, then collect the results. The reason for only sending some of the data is that the amount of time it takes for our model to process the input and then perform inference is quite long and so testing the entire data set would be prohibitive."
   ]
  },
  {
   "cell_type": "code",
   "execution_count": null,
   "metadata": {},
   "outputs": [],
   "source": [
    "import glob\n",
    "\n",
    "def test_reviews(data_dir='../data/aclImdb', stop=5):\n",
    "    \n",
    "    results = []\n",
    "    ground = []\n",
    "    \n",
    "    # We make sure to test both positive and negative reviews    \n",
    "    for sentiment in ['pos', 'neg']:\n",
    "        \n",
    "        path = os.path.join(data_dir, 'test', sentiment, '*.txt')\n",
    "        files = glob.glob(path)\n",
    "        \n",
    "        files_read = 0\n",
    "        \n",
    "        print('Starting ', sentiment, ' files')\n",
    "        \n",
    "        # Iterate through the files and send them to the predictor\n",
    "        for f in files:\n",
    "            with open(f) as review:\n",
    "                # First, we store the ground truth (was the review positive or negative)\n",
    "                if sentiment == 'pos':\n",
    "                    ground.append(1)\n",
    "                else:\n",
    "                    ground.append(0)\n",
    "                # Read in the review and convert to 'utf-8' for transmission via HTTP\n",
    "                review_input = review.read().encode('utf-8')\n",
    "                # Send the review to the predictor and store the results\n",
    "                results.append(int(predictor.predict(review_input)))\n",
    "                \n",
    "            # Sending reviews to our endpoint one at a time takes a while so we\n",
    "            # only send a small number of reviews\n",
    "            files_read += 1\n",
    "            if files_read == stop:\n",
    "                break\n",
    "            \n",
    "    return ground, results"
   ]
  },
  {
   "cell_type": "code",
   "execution_count": null,
   "metadata": {},
   "outputs": [],
   "source": [
    "ground, results = test_reviews()"
   ]
  },
  {
   "cell_type": "code",
   "execution_count": null,
   "metadata": {},
   "outputs": [],
   "source": [
    "from sklearn.metrics import accuracy_score\n",
    "accuracy_score(ground, results)"
   ]
  },
  {
   "cell_type": "markdown",
   "metadata": {},
   "source": [
    "As an additional test, we can try sending the `test_review` that we looked at earlier."
   ]
  },
  {
   "cell_type": "code",
   "execution_count": null,
   "metadata": {},
   "outputs": [],
   "source": [
    "predictor.predict(test_review)"
   ]
  },
  {
   "cell_type": "markdown",
   "metadata": {},
   "source": [
    "Now that we know our endpoint is working as expected, we can set up the web page that will interact with it. If you don't have time to finish the project now, make sure to skip down to the end of this notebook and shut down your endpoint. You can deploy it again when you come back."
   ]
  },
  {
   "cell_type": "markdown",
   "metadata": {},
   "source": [
    "## Step 7 (again): Use the model for the web app\n",
    "\n",
    "> **TODO:** This entire section and the next contain tasks for you to complete, mostly using the AWS console.\n",
    "\n",
    "So far we have been accessing our model endpoint by constructing a predictor object which uses the endpoint and then just using the predictor object to perform inference. What if we wanted to create a web app which accessed our model? The way things are set up currently makes that not possible since in order to access a SageMaker endpoint the app would first have to authenticate with AWS using an IAM role which included access to SageMaker endpoints. However, there is an easier way! We just need to use some additional AWS services.\n",
    "\n",
    "<img src=\"Web App Diagram.svg\">\n",
    "\n",
    "The diagram above gives an overview of how the various services will work together. On the far right is the model which we trained above and which is deployed using SageMaker. On the far left is our web app that collects a user's movie review, sends it off and expects a positive or negative sentiment in return.\n",
    "\n",
    "In the middle is where some of the magic happens. We will construct a Lambda function, which you can think of as a straightforward Python function that can be executed whenever a specified event occurs. We will give this function permission to send and recieve data from a SageMaker endpoint.\n",
    "\n",
    "Lastly, the method we will use to execute the Lambda function is a new endpoint that we will create using API Gateway. This endpoint will be a url that listens for data to be sent to it. Once it gets some data it will pass that data on to the Lambda function and then return whatever the Lambda function returns. Essentially it will act as an interface that lets our web app communicate with the Lambda function.\n",
    "\n",
    "### Setting up a Lambda function\n",
    "\n",
    "The first thing we are going to do is set up a Lambda function. This Lambda function will be executed whenever our public API has data sent to it. When it is executed it will receive the data, perform any sort of processing that is required, send the data (the review) to the SageMaker endpoint we've created and then return the result.\n",
    "\n",
    "#### Part A: Create an IAM Role for the Lambda function\n",
    "\n",
    "Since we want the Lambda function to call a SageMaker endpoint, we need to make sure that it has permission to do so. To do this, we will construct a role that we can later give the Lambda function.\n",
    "\n",
    "Using the AWS Console, navigate to the **IAM** page and click on **Roles**. Then, click on **Create role**. Make sure that the **AWS service** is the type of trusted entity selected and choose **Lambda** as the service that will use this role, then click **Next: Permissions**.\n",
    "\n",
    "In the search box type `sagemaker` and select the check box next to the **AmazonSageMakerFullAccess** policy. Then, click on **Next: Review**.\n",
    "\n",
    "Lastly, give this role a name. Make sure you use a name that you will remember later on, for example `LambdaSageMakerRole`. Then, click on **Create role**.\n",
    "\n",
    "#### Part B: Create a Lambda function\n",
    "\n",
    "Now it is time to actually create the Lambda function.\n",
    "\n",
    "Using the AWS Console, navigate to the AWS Lambda page and click on **Create a function**. When you get to the next page, make sure that **Author from scratch** is selected. Now, name your Lambda function, using a name that you will remember later on, for example `sentiment_analysis_func`. Make sure that the **Python 3.6** runtime is selected and then choose the role that you created in the previous part. Then, click on **Create Function**.\n",
    "\n",
    "On the next page you will see some information about the Lambda function you've just created. If you scroll down you should see an editor in which you can write the code that will be executed when your Lambda function is triggered. In our example, we will use the code below. \n",
    "\n",
    "```python\n",
    "# We need to use the low-level library to interact with SageMaker since the SageMaker API\n",
    "# is not available natively through Lambda.\n",
    "import boto3\n",
    "\n",
    "def lambda_handler(event, context):\n",
    "\n",
    "    # The SageMaker runtime is what allows us to invoke the endpoint that we've created.\n",
    "    runtime = boto3.Session().client('sagemaker-runtime')\n",
    "\n",
    "    # Now we use the SageMaker runtime to invoke our endpoint, sending the review we were given\n",
    "    response = runtime.invoke_endpoint(EndpointName = '**ENDPOINT NAME HERE**',    # The name of the endpoint we created\n",
    "                                       ContentType = 'text/plain',                 # The data format that is expected\n",
    "                                       Body = event['body'])                       # The actual review\n",
    "\n",
    "    # The response is an HTTP response whose body contains the result of our inference\n",
    "    result = response['Body'].read().decode('utf-8')\n",
    "\n",
    "    return {\n",
    "        'statusCode' : 200,\n",
    "        'headers' : { 'Content-Type' : 'text/plain', 'Access-Control-Allow-Origin' : '*' },\n",
    "        'body' : result\n",
    "    }\n",
    "```\n",
    "\n",
    "Once you have copy and pasted the code above into the Lambda code editor, replace the `**ENDPOINT NAME HERE**` portion with the name of the endpoint that we deployed earlier. You can determine the name of the endpoint using the code cell below."
   ]
  },
  {
   "cell_type": "code",
   "execution_count": null,
   "metadata": {},
   "outputs": [],
   "source": [
    "predictor.endpoint"
   ]
  },
  {
   "cell_type": "markdown",
   "metadata": {},
   "source": [
    "Once you have added the endpoint name to the Lambda function, click on **Save**. Your Lambda function is now up and running. Next we need to create a way for our web app to execute the Lambda function.\n",
    "\n",
    "### Setting up API Gateway\n",
    "\n",
    "Now that our Lambda function is set up, it is time to create a new API using API Gateway that will trigger the Lambda function we have just created.\n",
    "\n",
    "Using AWS Console, navigate to **Amazon API Gateway** and then click on **Get started**.\n",
    "\n",
    "On the next page, make sure that **New API** is selected and give the new api a name, for example, `sentiment_analysis_api`. Then, click on **Create API**.\n",
    "\n",
    "Now we have created an API, however it doesn't currently do anything. What we want it to do is to trigger the Lambda function that we created earlier.\n",
    "\n",
    "Select the **Actions** dropdown menu and click **Create Method**. A new blank method will be created, select its dropdown menu and select **POST**, then click on the check mark beside it.\n",
    "\n",
    "For the integration point, make sure that **Lambda Function** is selected and click on the **Use Lambda Proxy integration**. This option makes sure that the data that is sent to the API is then sent directly to the Lambda function with no processing. It also means that the return value must be a proper response object as it will also not be processed by API Gateway.\n",
    "\n",
    "Type the name of the Lambda function you created earlier into the **Lambda Function** text entry box and then click on **Save**. Click on **OK** in the pop-up box that then appears, giving permission to API Gateway to invoke the Lambda function you created.\n",
    "\n",
    "The last step in creating the API Gateway is to select the **Actions** dropdown and click on **Deploy API**. You will need to create a new Deployment stage and name it anything you like, for example `prod`.\n",
    "\n",
    "You have now successfully set up a public API to access your SageMaker model. Make sure to copy or write down the URL provided to invoke your newly created public API as this will be needed in the next step. This URL can be found at the top of the page, highlighted in blue next to the text **Invoke URL**."
   ]
  },
  {
   "cell_type": "markdown",
   "metadata": {},
   "source": [
    "## Step 4: Deploying our web app\n",
    "\n",
    "Now that we have a publicly available API, we can start using it in a web app. For our purposes, we have provided a simple static html file which can make use of the public api you created earlier.\n",
    "\n",
    "In the `website` folder there should be a file called `index.html`. Download the file to your computer and open that file up in a text editor of your choice. There should be a line which contains **\\*\\*REPLACE WITH PUBLIC API URL\\*\\***. Replace this string with the url that you wrote down in the last step and then save the file.\n",
    "\n",
    "Now, if you open `index.html` on your local computer, your browser will behave as a local web server and you can use the provided site to interact with your SageMaker model.\n",
    "\n",
    "If you'd like to go further, you can host this html file anywhere you'd like, for example using github or hosting a static site on Amazon's S3. Once you have done this you can share the link with anyone you'd like and have them play with it too!\n",
    "\n",
    "> **Important Note** In order for the web app to communicate with the SageMaker endpoint, the endpoint has to actually be deployed and running. This means that you are paying for it. Make sure that the endpoint is running when you want to use the web app but that you shut it down when you don't need it, otherwise you will end up with a surprisingly large AWS bill.\n",
    "\n",
    "**TODO:** Make sure that you include the edited `index.html` file in your project submission."
   ]
  },
  {
   "cell_type": "markdown",
   "metadata": {},
   "source": [
    "Now that your web app is working, trying playing around with it and see how well it works.\n",
    "\n",
    "**Question**: Give an example of a review that you entered into your web app. What was the predicted sentiment of your example review?"
   ]
  },
  {
   "cell_type": "markdown",
   "metadata": {},
   "source": [
    "**Answer:**"
   ]
  },
  {
   "cell_type": "markdown",
   "metadata": {},
   "source": [
    "### Delete the endpoint\n",
    "\n",
    "Remember to always shut down your endpoint if you are no longer using it. You are charged for the length of time that the endpoint is running so if you forget and leave it on you could end up with an unexpectedly large bill."
   ]
  },
  {
   "cell_type": "code",
   "execution_count": null,
   "metadata": {},
   "outputs": [],
   "source": [
    "predictor.delete_endpoint()"
   ]
  },
  {
   "cell_type": "code",
   "execution_count": null,
   "metadata": {},
   "outputs": [],
   "source": []
  }
 ],
 "metadata": {
  "kernelspec": {
   "display_name": "conda_pytorch_p36",
   "language": "python",
   "name": "conda_pytorch_p36"
  },
  "language_info": {
   "codemirror_mode": {
    "name": "ipython",
    "version": 3
   },
   "file_extension": ".py",
   "mimetype": "text/x-python",
   "name": "python",
   "nbconvert_exporter": "python",
   "pygments_lexer": "ipython3",
   "version": "3.6.10"
  }
 },
 "nbformat": 4,
 "nbformat_minor": 2
}
